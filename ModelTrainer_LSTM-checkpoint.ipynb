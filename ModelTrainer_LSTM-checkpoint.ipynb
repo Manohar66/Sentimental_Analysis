{
 "cells": [
  {
   "cell_type": "markdown",
   "metadata": {},
   "source": [
    "# import the library"
   ]
  },
  {
   "cell_type": "code",
   "execution_count": 88,
   "metadata": {},
   "outputs": [],
   "source": [
    "import re\n",
    "import ftfy\n",
    "import nltk\n",
    "import itertools\n",
    "import numpy as np\n",
    "import pandas as pd\n",
    "from math import exp\n",
    "import pickle as pkl\n",
    "from numpy import sign\n",
    "from pathlib import Path\n",
    "from nltk import PorterStemmer\n",
    "import matplotlib.pyplot as plt\n",
    "from nltk.corpus import stopwords\n",
    "from gensim.models import KeyedVectors\n",
    "from sklearn.model_selection import train_test_split\n",
    "from keras.models import model_from_json, Model, Sequential\n",
    "from keras.optimizers import Adam\n",
    "from keras.preprocessing.text import Tokenizer\n",
    "from keras.preprocessing.sequence import pad_sequences\n",
    "from sklearn.metrics import  classification_report, confusion_matrix, accuracy_score\n",
    "from keras.layers import Conv1D, Dense, Input, LSTM, Embedding, Dropout, Activation, MaxPooling1D"
   ]
  },
  {
   "cell_type": "markdown",
   "metadata": {},
   "source": [
    "# Read data from folder"
   ]
  },
  {
   "cell_type": "code",
   "execution_count": 89,
   "metadata": {},
   "outputs": [],
   "source": [
    "np.random.seed(1234) "
   ]
  },
  {
   "cell_type": "code",
   "execution_count": 90,
   "metadata": {},
   "outputs": [],
   "source": [
    "messages = pd.read_csv('input/cleaned_data1.csv')"
   ]
  },
  {
   "cell_type": "code",
   "execution_count": 91,
   "metadata": {},
   "outputs": [
    {
     "data": {
      "text/html": [
       "<div>\n",
       "<style scoped>\n",
       "    .dataframe tbody tr th:only-of-type {\n",
       "        vertical-align: middle;\n",
       "    }\n",
       "\n",
       "    .dataframe tbody tr th {\n",
       "        vertical-align: top;\n",
       "    }\n",
       "\n",
       "    .dataframe thead th {\n",
       "        text-align: right;\n",
       "    }\n",
       "</style>\n",
       "<table border=\"1\" class=\"dataframe\">\n",
       "  <thead>\n",
       "    <tr style=\"text-align: right;\">\n",
       "      <th></th>\n",
       "      <th>Reviews</th>\n",
       "      <th>Class</th>\n",
       "    </tr>\n",
       "  </thead>\n",
       "  <tbody>\n",
       "    <tr>\n",
       "      <td>0</td>\n",
       "      <td>feel lucky found used phone us used hard all l...</td>\n",
       "      <td>1</td>\n",
       "    </tr>\n",
       "    <tr>\n",
       "      <td>1</td>\n",
       "      <td>nice phone nice grade pantach revue very clean...</td>\n",
       "      <td>1</td>\n",
       "    </tr>\n",
       "    <tr>\n",
       "      <td>2</td>\n",
       "      <td>very pleased</td>\n",
       "      <td>1</td>\n",
       "    </tr>\n",
       "    <tr>\n",
       "      <td>3</td>\n",
       "      <td>works goes slow sometimes love</td>\n",
       "      <td>1</td>\n",
       "    </tr>\n",
       "    <tr>\n",
       "      <td>4</td>\n",
       "      <td>great replace lost thing volume button work st...</td>\n",
       "      <td>1</td>\n",
       "    </tr>\n",
       "  </tbody>\n",
       "</table>\n",
       "</div>"
      ],
      "text/plain": [
       "                                             Reviews  Class\n",
       "0  feel lucky found used phone us used hard all l...      1\n",
       "1  nice phone nice grade pantach revue very clean...      1\n",
       "2                                       very pleased      1\n",
       "3                     works goes slow sometimes love      1\n",
       "4  great replace lost thing volume button work st...      1"
      ]
     },
     "execution_count": 91,
     "metadata": {},
     "output_type": "execute_result"
    }
   ],
   "source": [
    "messages.head()"
   ]
  },
  {
   "cell_type": "code",
   "execution_count": 92,
   "metadata": {},
   "outputs": [
    {
     "data": {
      "text/html": [
       "<div>\n",
       "<style scoped>\n",
       "    .dataframe tbody tr th:only-of-type {\n",
       "        vertical-align: middle;\n",
       "    }\n",
       "\n",
       "    .dataframe tbody tr th {\n",
       "        vertical-align: top;\n",
       "    }\n",
       "\n",
       "    .dataframe thead tr th {\n",
       "        text-align: left;\n",
       "    }\n",
       "\n",
       "    .dataframe thead tr:last-of-type th {\n",
       "        text-align: right;\n",
       "    }\n",
       "</style>\n",
       "<table border=\"1\" class=\"dataframe\">\n",
       "  <thead>\n",
       "    <tr>\n",
       "      <th></th>\n",
       "      <th colspan=\"4\" halign=\"left\">Reviews</th>\n",
       "    </tr>\n",
       "    <tr>\n",
       "      <th></th>\n",
       "      <th>count</th>\n",
       "      <th>unique</th>\n",
       "      <th>top</th>\n",
       "      <th>freq</th>\n",
       "    </tr>\n",
       "    <tr>\n",
       "      <th>Class</th>\n",
       "      <th></th>\n",
       "      <th></th>\n",
       "      <th></th>\n",
       "      <th></th>\n",
       "    </tr>\n",
       "  </thead>\n",
       "  <tbody>\n",
       "    <tr>\n",
       "      <td>0</td>\n",
       "      <td>399</td>\n",
       "      <td>282</td>\n",
       "      <td>bought give gift friend called today informed ...</td>\n",
       "      <td>4</td>\n",
       "    </tr>\n",
       "    <tr>\n",
       "      <td>1</td>\n",
       "      <td>590</td>\n",
       "      <td>414</td>\n",
       "      <td>excelente</td>\n",
       "      <td>30</td>\n",
       "    </tr>\n",
       "  </tbody>\n",
       "</table>\n",
       "</div>"
      ],
      "text/plain": [
       "      Reviews                                                               \n",
       "        count unique                                                top freq\n",
       "Class                                                                       \n",
       "0         399    282  bought give gift friend called today informed ...    4\n",
       "1         590    414                                          excelente   30"
      ]
     },
     "execution_count": 92,
     "metadata": {},
     "output_type": "execute_result"
    }
   ],
   "source": [
    "messages.groupby('Class').describe()"
   ]
  },
  {
   "cell_type": "code",
   "execution_count": 93,
   "metadata": {},
   "outputs": [],
   "source": [
    "max_length = 140\n",
    "nb_max_words = 10000\n",
    "embedding_dim = 300"
   ]
  },
  {
   "cell_type": "code",
   "execution_count": 94,
   "metadata": {},
   "outputs": [],
   "source": [
    "positive = messages[messages['Class'] == 1]['Reviews']\n",
    "negative = messages[messages['Class'] == 0]['Reviews']"
   ]
  },
  {
   "cell_type": "code",
   "execution_count": 95,
   "metadata": {},
   "outputs": [],
   "source": [
    "positive = pd.DataFrame(positive)\n",
    "positive.to_csv(r'input/positive.csv', header=None)\n",
    "\n",
    "negative = pd.DataFrame(negative)\n",
    "negative.to_csv(r'input/negative.csv', header=None)"
   ]
  },
  {
   "cell_type": "code",
   "execution_count": 96,
   "metadata": {},
   "outputs": [
    {
     "data": {
      "text/html": [
       "<div>\n",
       "<style scoped>\n",
       "    .dataframe tbody tr th:only-of-type {\n",
       "        vertical-align: middle;\n",
       "    }\n",
       "\n",
       "    .dataframe tbody tr th {\n",
       "        vertical-align: top;\n",
       "    }\n",
       "\n",
       "    .dataframe thead th {\n",
       "        text-align: right;\n",
       "    }\n",
       "</style>\n",
       "<table border=\"1\" class=\"dataframe\">\n",
       "  <thead>\n",
       "    <tr style=\"text-align: right;\">\n",
       "      <th></th>\n",
       "      <th>Reviews</th>\n",
       "    </tr>\n",
       "  </thead>\n",
       "  <tbody>\n",
       "    <tr>\n",
       "      <td>0</td>\n",
       "      <td>feel lucky found used phone us used hard all l...</td>\n",
       "    </tr>\n",
       "    <tr>\n",
       "      <td>1</td>\n",
       "      <td>nice phone nice grade pantach revue very clean...</td>\n",
       "    </tr>\n",
       "    <tr>\n",
       "      <td>2</td>\n",
       "      <td>very pleased</td>\n",
       "    </tr>\n",
       "    <tr>\n",
       "      <td>3</td>\n",
       "      <td>works goes slow sometimes love</td>\n",
       "    </tr>\n",
       "    <tr>\n",
       "      <td>4</td>\n",
       "      <td>great replace lost thing volume button work st...</td>\n",
       "    </tr>\n",
       "  </tbody>\n",
       "</table>\n",
       "</div>"
      ],
      "text/plain": [
       "                                             Reviews\n",
       "0  feel lucky found used phone us used hard all l...\n",
       "1  nice phone nice grade pantach revue very clean...\n",
       "2                                       very pleased\n",
       "3                     works goes slow sometimes love\n",
       "4  great replace lost thing volume button work st..."
      ]
     },
     "execution_count": 96,
     "metadata": {},
     "output_type": "execute_result"
    }
   ],
   "source": [
    "positive.head()"
   ]
  },
  {
   "cell_type": "code",
   "execution_count": 97,
   "metadata": {},
   "outputs": [],
   "source": [
    "pos_review_file_path = 'input/positive'\n",
    "neg_review_file_path = 'input/negative'"
   ]
  },
  {
   "cell_type": "code",
   "execution_count": 98,
   "metadata": {},
   "outputs": [],
   "source": [
    "df_pos_review = pd.read_csv(pos_review_file_path, index_col=0,header = None)\n",
    "df_neg_review = pd.read_csv(neg_review_file_path, index_col=0, header = None)"
   ]
  },
  {
   "cell_type": "code",
   "execution_count": 99,
   "metadata": {},
   "outputs": [],
   "source": [
    "df_pos_review = df_pos_review.rename(columns={1: 'Review'})\n",
    "df_neg_review = df_neg_review.rename(columns={1: 'Review'})"
   ]
  },
  {
   "cell_type": "code",
   "execution_count": 100,
   "metadata": {},
   "outputs": [
    {
     "data": {
      "text/html": [
       "<div>\n",
       "<style scoped>\n",
       "    .dataframe tbody tr th:only-of-type {\n",
       "        vertical-align: middle;\n",
       "    }\n",
       "\n",
       "    .dataframe tbody tr th {\n",
       "        vertical-align: top;\n",
       "    }\n",
       "\n",
       "    .dataframe thead th {\n",
       "        text-align: right;\n",
       "    }\n",
       "</style>\n",
       "<table border=\"1\" class=\"dataframe\">\n",
       "  <thead>\n",
       "    <tr style=\"text-align: right;\">\n",
       "      <th></th>\n",
       "      <th>Review</th>\n",
       "    </tr>\n",
       "    <tr>\n",
       "      <th>0</th>\n",
       "      <th></th>\n",
       "    </tr>\n",
       "  </thead>\n",
       "  <tbody>\n",
       "    <tr>\n",
       "      <td>0</td>\n",
       "      <td>feel lucky found used phone us used hard all l...</td>\n",
       "    </tr>\n",
       "    <tr>\n",
       "      <td>1</td>\n",
       "      <td>nice phone nice grade pantach revue very clean...</td>\n",
       "    </tr>\n",
       "    <tr>\n",
       "      <td>2</td>\n",
       "      <td>very pleased</td>\n",
       "    </tr>\n",
       "    <tr>\n",
       "      <td>3</td>\n",
       "      <td>works goes slow sometimes love</td>\n",
       "    </tr>\n",
       "    <tr>\n",
       "      <td>4</td>\n",
       "      <td>great replace lost thing volume button work st...</td>\n",
       "    </tr>\n",
       "  </tbody>\n",
       "</table>\n",
       "</div>"
      ],
      "text/plain": [
       "                                              Review\n",
       "0                                                   \n",
       "0  feel lucky found used phone us used hard all l...\n",
       "1  nice phone nice grade pantach revue very clean...\n",
       "2                                       very pleased\n",
       "3                     works goes slow sometimes love\n",
       "4  great replace lost thing volume button work st..."
      ]
     },
     "execution_count": 100,
     "metadata": {},
     "output_type": "execute_result"
    }
   ],
   "source": [
    "df_pos_review.head()"
   ]
  },
  {
   "cell_type": "code",
   "execution_count": 101,
   "metadata": {
    "scrolled": true
   },
   "outputs": [
    {
     "data": {
      "text/html": [
       "<div>\n",
       "<style scoped>\n",
       "    .dataframe tbody tr th:only-of-type {\n",
       "        vertical-align: middle;\n",
       "    }\n",
       "\n",
       "    .dataframe tbody tr th {\n",
       "        vertical-align: top;\n",
       "    }\n",
       "\n",
       "    .dataframe thead th {\n",
       "        text-align: right;\n",
       "    }\n",
       "</style>\n",
       "<table border=\"1\" class=\"dataframe\">\n",
       "  <thead>\n",
       "    <tr style=\"text-align: right;\">\n",
       "      <th></th>\n",
       "      <th>Review</th>\n",
       "    </tr>\n",
       "    <tr>\n",
       "      <th>0</th>\n",
       "      <th></th>\n",
       "    </tr>\n",
       "  </thead>\n",
       "  <tbody>\n",
       "    <tr>\n",
       "      <td>5</td>\n",
       "      <td>already problems know stated used dang state c...</td>\n",
       "    </tr>\n",
       "    <tr>\n",
       "      <td>6</td>\n",
       "      <td>charging port loose got soldered in then neede...</td>\n",
       "    </tr>\n",
       "    <tr>\n",
       "      <td>7</td>\n",
       "      <td>phone looks stay charged buy new battery still...</td>\n",
       "    </tr>\n",
       "    <tr>\n",
       "      <td>9</td>\n",
       "      <td>it s battery life great it s responsive touch ...</td>\n",
       "    </tr>\n",
       "    <tr>\n",
       "      <td>10</td>\n",
       "      <td>my fiance previously caused many problems so c...</td>\n",
       "    </tr>\n",
       "  </tbody>\n",
       "</table>\n",
       "</div>"
      ],
      "text/plain": [
       "                                               Review\n",
       "0                                                    \n",
       "5   already problems know stated used dang state c...\n",
       "6   charging port loose got soldered in then neede...\n",
       "7   phone looks stay charged buy new battery still...\n",
       "9   it s battery life great it s responsive touch ...\n",
       "10  my fiance previously caused many problems so c..."
      ]
     },
     "execution_count": 101,
     "metadata": {},
     "output_type": "execute_result"
    }
   ],
   "source": [
    "df_neg_review.head()"
   ]
  },
  {
   "cell_type": "markdown",
   "metadata": {},
   "source": [
    "# Data PreProcessing"
   ]
  },
  {
   "cell_type": "code",
   "execution_count": 102,
   "metadata": {},
   "outputs": [],
   "source": [
    "cList = pkl.load(open('input/cword_dict.pkl','rb'))"
   ]
  },
  {
   "cell_type": "code",
   "execution_count": 103,
   "metadata": {},
   "outputs": [
    {
     "name": "stdout",
     "output_type": "stream",
     "text": [
      "{\"ain't\": 'am not', \"aren't\": 'are not', \"can't\": 'cannot', \"can't've\": 'cannot have', \"'cause\": 'because', \"could've\": 'could have', \"couldn't\": 'could not', \"couldn't've\": 'could not have', \"didn't\": 'did not', \"doesn't\": 'does not', \"don't\": 'do not', \"hadn't\": 'had not', \"hadn't've\": 'had not have', \"hasn't\": 'has not', \"haven't\": 'have not', \"he'd\": 'he would', \"he'd've\": 'he would have', \"he'll\": 'he will', \"he'll've\": 'he will have', \"he's\": 'he is', \"how'd\": 'how did', \"how'd'y\": 'how do you', \"how'll\": 'how will', \"how's\": 'how is', \"I'd\": 'I would', \"I'd've\": 'I would have', \"I'll\": 'I will', \"I'll've\": 'I will have', \"I'm\": 'I am', \"I've\": 'I have', \"isn't\": 'is not', \"it'd\": 'it had', \"it'd've\": 'it would have', \"it'll\": 'it will', \"it'll've\": 'it will have', \"it's\": 'it is', \"let's\": 'let us', \"ma'am\": 'madam', \"mayn't\": 'may not', \"might've\": 'might have', \"mightn't\": 'might not', \"mightn't've\": 'might not have', \"must've\": 'must have', \"mustn't\": 'must not', \"mustn't've\": 'must not have', \"needn't\": 'need not', \"needn't've\": 'need not have', \"o'clock\": 'of the clock', \"oughtn't\": 'ought not', \"oughtn't've\": 'ought not have', \"shan't\": 'shall not', \"sha'n't\": 'shall not', \"shan't've\": 'shall not have', \"she'd\": 'she would', \"she'd've\": 'she would have', \"she'll\": 'she will', \"she'll've\": 'she will have', \"she's\": 'she is', \"should've\": 'should have', \"shouldn't\": 'should not', \"shouldn't've\": 'should not have', \"so've\": 'so have', \"so's\": 'so is', \"that'd\": 'that would', \"that'd've\": 'that would have', \"that's\": 'that is', \"there'd\": 'there had', \"there'd've\": 'there would have', \"there's\": 'there is', \"they'd\": 'they would', \"they'd've\": 'they would have', \"they'll\": 'they will', \"they'll've\": 'they will have', \"they're\": 'they are', \"they've\": 'they have', \"to've\": 'to have', \"wasn't\": 'was not', \"we'd\": 'we had', \"we'd've\": 'we would have', \"we'll\": 'we will', \"we'll've\": 'we will have', \"we're\": 'we are', \"we've\": 'we have', \"weren't\": 'were not', \"what'll\": 'what will', \"what'll've\": 'what will have', \"what're\": 'what are', \"what's\": 'what is', \"what've\": 'what have', \"when's\": 'when is', \"when've\": 'when have', \"where'd\": 'where did', \"where's\": 'where is', \"where've\": 'where have', \"who'll\": 'who will', \"who'll've\": 'who will have', \"who's\": 'who is', \"who've\": 'who have', \"why's\": 'why is', \"why've\": 'why have', \"will've\": 'will have', \"won't\": 'will not', \"won't've\": 'will not have', \"would've\": 'would have', \"wouldn't\": 'would not', \"wouldn't've\": 'would not have', \"y'all\": 'you all', \"y'alls\": 'you alls', \"y'all'd\": 'you all would', \"y'all'd've\": 'you all would have', \"y'all're\": 'you all are', \"y'all've\": 'you all have', \"you'd\": 'you had', \"you'd've\": 'you would have', \"you'll\": 'you you will', \"you'll've\": 'you you will have', \"you're\": 'you are', \"you've\": 'you have'}\n"
     ]
    }
   ],
   "source": [
    "print(cList)"
   ]
  },
  {
   "cell_type": "code",
   "execution_count": 104,
   "metadata": {},
   "outputs": [],
   "source": [
    "c_re = re.compile('(%s)' % '|'.join(cList.keys()))"
   ]
  },
  {
   "cell_type": "code",
   "execution_count": 105,
   "metadata": {},
   "outputs": [
    {
     "data": {
      "text/plain": [
       "re.compile(r\"(ain't|aren't|can't|can't've|'cause|could've|couldn't|couldn't've|didn't|doesn't|don't|hadn't|hadn't've|hasn't|haven't|he'd|he'd've|he'll|he'll've|he's|how'd|how'd'y|how'll|how's|I'd|I'd've|I'll|I'll've|I'm|I've|isn't|it'd|it'd've|it'll|it'll've|it's|let's|ma'am|mayn't|might've|mightn't|mightn't've|must've|mustn't|mustn't've|needn't|needn't've|o'clock|oughtn't|oughtn't've|shan't|sha'n't|shan't've|she'd|she'd've|she'll|she'll've|she's|should've|shouldn't|shouldn't've|so've|so's|that'd|that'd've|that's|there'd|there'd've|there's|they'd|they'd've|they'll|they'll've|they're|they've|to've|wasn't|we'd|we'd've|we'll|we'll've|we're|we've|weren't|what'll|what'll've|what're|what's|what've|when's|when've|where'd|where's|where've|who'll|who'll've|who's|who've|why's|why've|will've|won't|won't've|would've|wouldn't|wouldn't've|y'all|y'alls|y'all'd|y'all'd've|y'all're|y'all've|you'd|you'd've|you'll|you'll've|you're|you've)\",\n",
       "re.UNICODE)"
      ]
     },
     "execution_count": 105,
     "metadata": {},
     "output_type": "execute_result"
    }
   ],
   "source": [
    "c_re"
   ]
  },
  {
   "cell_type": "code",
   "execution_count": 106,
   "metadata": {},
   "outputs": [],
   "source": [
    "def expandContractions(text, c_re=c_re):\n",
    "    def replace(match):\n",
    "        return cList[match.group()]\n",
    "    return c_re.sub(replace, text)"
   ]
  },
  {
   "cell_type": "code",
   "execution_count": 107,
   "metadata": {},
   "outputs": [],
   "source": [
    "def clean_review(reviews):\n",
    "    cleaned_review = []\n",
    "    for review in reviews:\n",
    "        review = str(review)\n",
    "        if re.match(\"(\\w+:\\/\\/\\S+)\", review) == None and len(review) > 10:\n",
    "            review = ' '.join(re.sub(\"(@[A-Za-z0-9]+)|(\\#[A-Za-z0-9]+)|(<Emoji:.*>)|(pic\\.twitter\\.com\\/.*)\", \" \", review).split())\n",
    "            review = ftfy.fix_text(review)\n",
    "            review = expandContractions(review)\n",
    "            review = ' '.join(re.sub(\"([^0-9A-Za-z \\t])\", \" \", review).split())\n",
    "            stop_words = stopwords.words('english')\n",
    "            word_tokens = nltk.word_tokenize(review) \n",
    "            filtered_sentence = [w for w in word_tokens if not w in stop_words]\n",
    "            review = ' '.join(filtered_sentence)\n",
    "            review = PorterStemmer().stem(review)\n",
    "            cleaned_review.append(review)\n",
    "    return cleaned_review"
   ]
  },
  {
   "cell_type": "code",
   "execution_count": 108,
   "metadata": {},
   "outputs": [],
   "source": [
    "arr_pos_review = [x for x in df_pos_review['Review']]\n",
    "arr_neg_review = [x for x in df_neg_review['Review']]"
   ]
  },
  {
   "cell_type": "code",
   "execution_count": 109,
   "metadata": {},
   "outputs": [
    {
     "data": {
      "text/plain": [
       "['already problems know stated used dang state charge wish would read comments would purchased item cracked side damaged goods is if trying charge another way work requesting money back and will get my money back signed an unhappy customer',\n",
       " 'charging port loose got soldered in then needed new battery well later not including cost purchase usable sold state in',\n",
       " 'phone looks stay charged buy new battery still stay charged long so trashed it money lost never buy person',\n",
       " 'it s battery life great it s responsive touch issue sometimes screen goes black press top button several times get screen re illuminate',\n",
       " 'my fiance previously caused many problems so course decided browse amazon replacement til contract up far good',\n",
       " 'i m really disappointed service went week ago instead handling issue first surfaced i ve told that now i m stick i m dollars service i m using still received mailing label return item first purchase amazon i m rushing use smartphones business anytime soon thought getting deal seems i m lucked out',\n",
       " 'had loved working got one thing sd card slot open try access file managment even show computer card fine able open another trying trouble shoot now',\n",
       " 'unfortunately sprint could activate due blocking issue phone matter handled well quickly very satisfied service',\n",
       " 'purchased december christmas present son called sprint activate find esn clear told come store upon research clear reached company inform esn clean told send back would send another asked representative provide esn could call make sure clear told available guaranteed would clear known something wrong then received second turned clear esn representative sprint informed seller phones aware esn clear so send another back asked refund shipping since sent two phones clear esn received refund yet see refund shipping suggest buy anything them',\n",
       " 'reasons star rating opinion better iphone s tends randomly crash randomly power storage space battery usage camera',\n",
       " 'condition work',\n",
       " 'just good screen resolution storage low need sd card anything may clear esn expect use things freedompop',\n",
       " 'one phones bad charger port want send back',\n",
       " 'bought mom loves',\n",
       " 'came arabian keyboard',\n",
       " 'love phone problem problem only once mic goes that s it no mic but take beating',\n",
       " 'trapped want simple get old school flip if want something also work get blackberry somthing new even middle two another dimension nothing frustration',\n",
       " 'hola compramos dos tel fonos vienieron totalente diferentes uno vino con la bater a da ada se descarga de inmediato el otro tel fono vino sin la tarjeta de memoria los teclados cargadores son muy distintos mi t a yo nos sentimos enga adas defraudadas',\n",
       " 'preface would considered smartphone united states nothing par android iphone windows phone basically feature also although says us warranty warranty material came referenced latin american countries sure really covered us warranty returned amazon s return window issue now review pros keyboard if familiar e series phones type keyboard interface sort modified symbian liked lot ways style hardware attractive gray nice color camera pretty decent considering megapixels for e mail adequate cons i ll start small issues work big problem ultimately made decide return onboard social network apps fully functional you update facebook twitter status rest so so ovi store general poor app store able use many them even old facebook app used old e it used called snaptu facebook since renamed facebook everyone incompatible better apps ovi store browser mediocre barely passable also no gps nokia ovi maps incompatible bad always nokia strength that immediately eliminates smart with said bought wife really needed texts calls could overlooked things problem could overlook shabby flimsy piece metal supposed hold place standard sim card little piece metal barely attached would lock place hold sim card because sim card would intermittently get lose inside constantly lose signal so would take battery re adjust sim card then would work little ultimately repeat process way frustration worth it s bad basic calls texts e mail occasionally updating facebook twitter status lot potential becuase problem sim card holder however essentially unusable used nokia phones years i use lumia personally really surprised nokia would sloppy job something important part holds sim card place what waste',\n",
       " 'have problems setting correct time nokia asha customer support nokia com accept inquiry asha phones is product obsolete nokia customer support poor booklet came also poorly written',\n",
       " 'sorry took long reply review purchase months this phone clone phone hong kong the quality fair all the symbols don t match such but works think amazon boycott seller',\n",
       " 'incredible splaniish language dont understand international version lost money',\n",
       " 'bad',\n",
       " 'battery died less hours',\n",
       " 'cannot connect gsm network',\n",
       " 'say ok keyboard there language options korean chinese',\n",
       " 'pretty capable durable texting phone unlocked advertised version received arabic keys addition typical iso basic latin many symbols missing',\n",
       " 'do buy it feels pretended toy hand if want kids ok',\n",
       " 'got work took verizon store battery work even charged hrs verizon put another used battery started work',\n",
       " 'ad advertised unlocked pay unlocked number appear',\n",
       " 'delivery fast overall quality price cheap not quality camera feature use also durable screen damaged inch drop however suppose get pay month willing buy real lose terrible one',\n",
       " 'worked ok awhile every time tap back shuts',\n",
       " 'valid movilnet venezuela low memory bad camera low price great',\n",
       " 'when first got poor camera day hit pencil turned immediately whatsoever would recommend getting phone especially take lot pictures use lot apps storage also poor',\n",
       " 'works charger outlet fixed sent falls doesnt charge it cost dollars charger fixed messes motherboard up thats almost much',\n",
       " 'fm radio feature charge cradle switched back lg flip cost less best buyreception weak signal areas lg phone t mobile networkbacklighting uneven keypad number really bright phone user manual small designed older people manual size phone fits small box shipping manual explain use button clear concise way i get alarm repeat daily turning alarm would cancel alarm next day',\n",
       " 'charger work my parents started using cable directly',\n",
       " 'work well t mobile t mobile closes towers non t mobile phones',\n",
       " 'more complicated expected terrible reception too hard mom use just frustrates her',\n",
       " 'no internet',\n",
       " 'reception poor incoming calls',\n",
       " 'reason gave star little hard elder person use',\n",
       " 'sounds water shuts call',\n",
       " 'contacting jethro customer service couple keys sticking as speaking rep noticed breaking much told g and likely work well area so kind enough send g model sc this seems working fine so far must say best customer service response solve issue',\n",
       " 'year old dad wanted camera probably able deal iphone needs memory card camera work though it s nice set speed dials',\n",
       " 'bought supposedly able work straighttalk tracfone we put tracfone sim card board bought buck straighttalk minutes card discovered compatible straighttalk ther local wally world wants least bucks sim card kit work supposedly my daughter worked hour called every available number no good she expert today s high tech cheaper tracfone card available i ll ask daughter take another try time job family take care of as another point way manual use download pdf print regular pages otherwise readers strength magnifying glass no recommend anyone particularly elderly people i m ready turn',\n",
       " 'searched unlocked flip phones d old t mobil longer works house this looks but d capability second minisim i need simplicity husband barely answer flip let alone use no desire buy mini sim i believe badly described manual bad english seems different',\n",
       " 'not sensitive track phone jethro easier read',\n",
       " 'unhappy purchase first paid shipped received found staight talk would longer work att cell carrier area able send back pay postage happy ken',\n",
       " 'unable maintain signal weeks usage tmobile network hope defected product',\n",
       " 'shortly return window closed stopped taking charge turn on',\n",
       " 'stopped working months not happy',\n",
       " 'defective product placed t mobile sim card read it not recommend purchasing',\n",
       " 'sound quality poor speaker',\n",
       " 'may issue expectation mismatch for thing much smaller expected some might think thing but many elderly hearing aid equipped people would work better physical dimensions larger secondly time hold red button turning short my year old mother law often turns hanging up that said works fine buttons numbers large',\n",
       " 'speakers garbage tells time military time',\n",
       " 'bought elderly parent he at t put sim card at t jethro worked problem dropped calls he would receive make call would hang person line i m asking refund carrier he bars calls took place',\n",
       " 'my granny use able use locking function without lock called people pocket if lock easier her would great',\n",
       " 'not sound easily used senior end button also turn button so elderly mom keeps turning phone will find another one would purchase again the purchase delivery scheduled',\n",
       " 'ordered would work at t called company told due lack towers found odd since cell at t',\n",
       " 'word wise check seller type service not work technically challenged am learned something new unlocked unlocked mobile service carriers sprint would helpful read product description purchasing seems perfect seniors apparently senior moment ordered it',\n",
       " 'sim card provider would work phone returning',\n",
       " 'returning product volume absolutely abysmal even maximum audible me bought elderly mother way able hear anything for marketed elderly disgrace',\n",
       " 'phone number comes daily spam calls really annoying good',\n",
       " 'locks accidentally used screen small read text message not easy use elderly person',\n",
       " 'bought elderly mother pretty nice fairly easy use most importantly large buttons fairly large display also easy add at t account a couple negatives sos button nice feature fairly easy set off so prepared false alarms another issue displays time hours system for example pm extremely confusing mother bought last nov called jethro sometime dec regarding advised firmware update coming late dec early jan waited feb emailed told update fix time display issue expected march continue checking back support section website i ve called emailed several times regarding issue told thing everytime fireware update coming months just advised displays time hour system',\n",
       " 'bought grandma make receive calls tried manual selection network also factory reset nothing happened at t',\n",
       " 'we bought year old mother hearing impaired she could hear well all',\n",
       " 'as arrival charge frustrating',\n",
       " 'very bad week bought could turn offnot worth hassle buy',\n",
       " 'pros cradle nice lack camera cheaper snapfoncons reception terrible we t mobile phones work inside house except one apparently g phased out so expect reception get worse time time date set automatically seriously what year this unlike every phone buttons directly screen actually navigation buttons m m speed dials probably problem someone s first phone drove nuts fcc id might illegal use us poor manufacturing quality battery hard insert remove battery slightly big part supposed fit voice mail number programmed similar time date every i ve ever picked setting network automatically as reviews mentioned hangup button pressed longer second powers off easy accidentally do',\n",
       " 'stopped working month use',\n",
       " 'placement m m buttons particular made confusing elderly father use he tried numerous times get turn make simple call could get work now longer charges comes weeks fortunately cost much waste money',\n",
       " 'bought simple option year old father big buttons charging cradle feels cheap afraid i d break plastic pieces pulling cover get battery sim card we nstalled different sim cards cricket wireless at t network store could get connected don t know sure something broken incompatibility other reviewers saying connected at t leads think something wrong going back i m going try another brand',\n",
       " 'returned would read sim card',\n",
       " 'working',\n",
       " 'my year old mother partially blind easily read numbers thing however supports g therefore work at t microcell house since limited cell coverage house without microcell receive cell signal majority time',\n",
       " 'difficult unlock to unlock phone need press unlock key times first press wakes phone second press results message says press unlock key unlock third press unlocks there easier method unlocking keyboard without disabling lock altogether if buying someone elderly technology issues as did may lot difficulty using if three unlock presses done quick enough unlock sequence started again if unlock key pressed times locked instead unlocked all difficult explain someone dexterity technology issues i never heard difficult unlock it s hard believe easier method unlock however called customer support confirmed take unlock presses unlock alternative disable lock feature on plus side sos key work well require unlock keys sos key programmed send text messages call another thing note title indicates extra today however raised price yesterday so saving hate companies raise price tell going save more paid black friday price lower normal price',\n",
       " 'worked alright qccidetly pushed silent button wich explained miserable chinglish user guide then completely stopped incoming calls and icound reset it',\n",
       " 'word wise check seller type service not work technically challenged am learned something new unlocked unlocked mobile service carriers sprint would helpful read product description purchasing seems perfect seniors apparently senior moment ordered it',\n",
       " 'sim card provider would work phone returning',\n",
       " 'may issue expectation mismatch for thing much smaller expected some might think thing but many elderly hearing aid equipped people would work better physical dimensions larger secondly time hold red button turning short my year old mother law often turns hanging up that said works fine buttons numbers large',\n",
       " 'speakers garbage tells time military time',\n",
       " 'bought elderly parent he at t put sim card at t jethro worked problem dropped calls he would receive make call would hang person line i m asking refund carrier he bars calls took place',\n",
       " 'sim card dose read point selling tablet phone work',\n",
       " 'item worth money paid cant find put memory card screen clear blurred item sucks',\n",
       " 'tablet really looking sim card work sd card never read charger cord broke i purchase another i m really upset product really surprise wanted tablet would things',\n",
       " 'when charging battery screen waves interference point would use tablet charging returned tablet',\n",
       " 'am in venezuela the battery charger is damaged and here in venezuela no warranty that battery charger tablet',\n",
       " 'tablet worked months giving trouble connect wifi play store access sucks',\n",
       " 'doesn t google play even though picture description says does contacted e passion they worse useless they kept telling stupid stuff install google play non existent app market obvious understand much english',\n",
       " 'very upset tablet work sending back will replacing it',\n",
       " 'is love everything it',\n",
       " 'liked language mandarin hk also cannot downland apps android stores',\n",
       " 'my friend brought work ordered amazon work together overseas live johannesburg when got home tested microphone doesnt work so hear hear you now im stuck would get ut back texas very unhappy product',\n",
       " 'my friend brought work ordered amazon work together overseas live johannesburg when got home tested microphone doesnt work so hear hear you now im stuck would get ut back texas very unhappy product',\n",
       " 'got complete working scale model office little actually pretty accurate touch screen get fat fingers hit little tiny keys keyboard probably bad someone kid s hands i can t say i m disappointed got yellow that s wanted but color stock green got yellow drop star also went put battery discovered this phone is not rugged battery cover simply snaps seals protect water splashes so minus another star all bad smartphone take much space tankbag motorbike hiking bag but keep zip top bag if bluetooth keyboard mouse or vnc did lot easier set up',\n",
       " 'arrived broken forgot send back',\n",
       " 'worth money plastic flimsy hardly works trying return mine now waste money',\n",
       " 'size whatever happened days supposed make things smaller suppose days gone people needing watch youtube videos p this right size it internal memory much desired also use micro sd card slot move apps to know probably rooted accomodate this must rooted install app here isn t easier way ota update something i m technically savvy would install app here after all supposed smart phone other quirks use daily driver would intimidated mother nature speaker soft times works me if changes review i ll update i m able to',\n",
       " 'is partial internet working but indigi workin it hope ok',\n",
       " 'second sim card use activated contacted company still response i m currently research matter to early rate cause two weeks',\n",
       " 'hate it sending back keeps blinking off want refund back',\n",
       " 'lots nice features touch response slow nice looking use week write review again sound volume poor',\n",
       " 'does job barely',\n",
       " 'good thing order pack poor quality already burned cases',\n",
       " 'bought father little month ago able give today when put holsters all them held securely he still original otterbox holster compared them fits snugly holsters basically otterbox piece holds place replacement holsters allows slip barely bumped would ve loved return them window passed',\n",
       " 'purchased pack weeks back broke third today these brittle slightly smaller need fit defender case my last otterbox clip lasted year finally broke would recommend item',\n",
       " 'clearly knock off first snapped weeks couple bucks each unexpected',\n",
       " 'got two belt clip functioner properly',\n",
       " 'really slow enough internal memory frequently freezes enough memory handle apps it s okay i d known i d many problems it would bought different',\n",
       " 'hey charge insulating film torn idk use understand',\n",
       " 'powering sent jamaica wi return receive back',\n",
       " nan,\n",
       " 'phone memory small works erratically and working anymore recommend buy',\n",
       " 'screen quality good overall slow limited memory next impossible add additional apps instructions poor seem translated chinese english using computer translator much makes sense english almost instructions insert sim card except illustration tell disappear housing causing take entire housing apart get back out for guess bad though',\n",
       " 'work at t network',\n",
       " 'main problem product documentation provided folded small piece paper written someone speak english so adequate user manual becomes magical mystery search trying figure use phone a second serious hardware problem speaker runs extremely hot cannot place next ear must use earphones suffer burns battery life totally sucks touch screen exceedingly sensitive registers touched even touch it there appears nobody world makes protective case fits would smart make form factor mathc iphone samsung something other above ok well worth price',\n",
       " 'read reviews fact going say fake there five star reviews bought absolutely terrible security sticker broken got product contacted seller said okay long worked still able use data use calls texts also i m afraid ear when did burned really hot radiated heat cheaply made touch screen fickle unresponsive zero storage apps bottom line wished would spent little money bought different',\n",
       " 'horrible speaker work right can app never buy never recommend anyone thing nice cheap if could give stars would',\n",
       " 'worked well calls very small internal memory could app downloaded could send recieve mms battery portal broke owning momths also reset often wifi slow if going seas need make calls everyday use',\n",
       " 'received time packaged well came charger headphones all plus however rating three feels toy light weight almost feel break inch drop literally also display hard read bought oldest two children verizon pre paid phones amazon october each yes awesome going however due quality im going give youngest child if looking small cheap work though i think overpriced even',\n",
       " 'wow so i m mourning loss f g x temporary fix it s size nice almost memory sd card even option need one sound fairly good functionality glitchy it s made china prefers set google account lots time scrolling snag screen unresponsive touch ablebto stop hepatic feedback keys texting typing feather used wifi hotspot good it s pretty slow loading pages downloading taken pics yet fleshy seem want play videos well may company s hangup if looking screen need look straight on angle can t see screen detail gettingbthe back struggle doable it s plastic metal white white back face black',\n",
       " 'got it took forever turn on megabytes internal storage even gig sd card quality extremely terrible do buy unless want waste money junk',\n",
       " 'horrible horrible reception keeps downloading programs don t buy',\n",
       " 'much smaller photo depicts excellent children someone wants camera display lower side things investment first due fact sturdy seemingly built strong recommended buy additional storage card space minimal',\n",
       " 'no didnt new',\n",
       " 'small phone compatible us services nice color amazing storage',\n",
       " 'work nevera on too bad',\n",
       " 'if could ve gave stars would have awful phone never seller again phone usa standards maybe across seas but we re use to',\n",
       " 'really bad literally memory pages put stuff would recommend unless wanna call take pics',\n",
       " 'mean works screen horrendous viewing angles absolutely horrible',\n",
       " 'disappointed screen love purple flowers see want return back feel using color either n also hard time opening insert sim',\n",
       " 'not recommended won t charge weeks use',\n",
       " 'no done bluetooth it bad son',\n",
       " 'barely holds apps the space limited',\n",
       " 'meet minimum standard network but can t receive g satisfy desire purchase',\n",
       " 'never got thing turn on would take charge low expectations considering price wanted use back running credit cards using square going work out returning it',\n",
       " 'bought gift recieved it work pay return cellphone venezuela usa',\n",
       " 'work',\n",
       " 'product expensive quality at might worth it maybe you better adding little extra getting used second third generation galaxy iphone definitely last longer regret purchase screen went south week use also screen quality ideal',\n",
       " 'says t mobile compatible however sim card inserted connect all would say sim connecting network price nothing use wi fi avail calling services away home cute needed apps home',\n",
       " 'bad',\n",
       " 'good',\n",
       " 'its cheap phone thought gave try guess wanted it good low internal memory lots ads thrown you also freezes quite bit guess want use talk travel dual sim card slots',\n",
       " 'horrible',\n",
       " 'slow regret buying suggest different phones',\n",
       " 'really slow enough internal memory frequently freezes enough memory handle apps it s okay i d known i d many problems it would bought different',\n",
       " 'hate this phone week later had to buy another one its slow and storage is very poor a waste of money never again',\n",
       " 'so bad',\n",
       " 'its getting heat talk five minutes',\n",
       " 'piece crap',\n",
       " 'package arrived time condition covers expectations functional me',\n",
       " 'screen quality good overall slow limited memory next impossible add additional apps instructions poor seem translated chinese english using computer translator much makes sense english almost instructions insert sim card except illustration tell disappear housing causing take entire housing apart get back out for guess bad though',\n",
       " 'phone come sim card work',\n",
       " 'not best phone made work temporary',\n",
       " 'was hoping decent price was gift niece every time used repeatedly dropped calls was at t prepaid account area strong signal wasneeds carrier had buy another phone',\n",
       " 'phone turn on battery dead isn t charging all',\n",
       " 'turn even charging phones hours hope joke',\n",
       " 'hey charge insulating film torn idk use understand',\n",
       " 'powering sent jamaica wi return receive back',\n",
       " nan,\n",
       " 'phone memory small works erratically and working anymore recommend buy',\n",
       " 'nice cuzin jamaica loves',\n",
       " 'horrible speaker work right can app never buy never recommend anyone thing nice cheap if could give stars would',\n",
       " 'worked well calls very small internal memory could app downloaded could send recieve mms battery portal broke owning momths also reset often wifi slow if going seas need make calls everyday use',\n",
       " 'received time packaged well came charger headphones all plus however rating three feels toy light weight almost feel break inch drop literally also display hard read bought oldest two children verizon pre paid phones amazon october each yes awesome going however due quality im going give youngest child if looking small cheap work though i think overpriced even',\n",
       " 'wow so i m mourning loss f g x temporary fix it s size nice almost memory sd card even option need one sound fairly good functionality glitchy it s made china prefers set google account lots time scrolling snag screen unresponsive touch ablebto stop hepatic feedback keys texting typing feather used wifi hotspot good it s pretty slow loading pages downloading taken pics yet fleshy seem want play videos well may company s hangup if looking screen need look straight on angle can t see screen detail gettingbthe back struggle doable it s plastic metal white white back face black',\n",
       " 'sucks',\n",
       " 'ok i m unboxing speak st thing notice fingernail indentations back cover cannot remove back cover put simcard in the instructions literally page picture shows inside phone not show open phone there s battery box sure hope inside already ok using thin piece steel called drill gauge able pry way cover without damaging it the battery there see simcard slots i m removing simcard old phone t mobile you must remove battery putting simcard in sim card fit unlesss that i ve charger hooked full minute finally flasshed something screen blinked again the battery unbelievably drained doubt manufacturer even quality control tested it i assume battery s charging there s indicator light letting know the battery s charging minutes way get screen show anything pop battery out wait seconds put back in it s minutes charging do math it ll take hours reach ok finally got screen on ipromobile hk idea country hk is next screen chinese not specified product description it says bahasa indonesia call button select triangle because atleast understand shapes now something wifi i think click next i think user agreement chinese i think null void cant read it accept can after bunch button clicking crap i m finally phones desktop thing now learn read whatever language is change damn thing english if universal symbol language mean know phone icon is know voice mail icon is know bluetooth symbol language seriously language looks cross japanese chinese cant even begin understand it boo yah got it s chinese used google translate find characters language look characters phones settings presto select english it s menu looks letter a i m activating data connection simcard connects network adding google account verifying account yay i m able make calls that s need little sucker dao anyway the internal storage says mb you know cheap piece crap thing seems work better lg g may capabilities expensive phone still pretty little definately back up phone high dollar breaks',\n",
       " 'ended returning when put sim card stop went could reach it had use tiny screwdrivers take apart retrieve sim card also lacks space apps updates',\n",
       " 'lasted days went dead never came back on will charge come on horrible phone',\n",
       " 'got it took forever turn on megabytes internal storage even gig sd card quality extremely terrible do buy unless want waste money junk',\n",
       " 'horrible horrible reception keeps downloading programs don t buy',\n",
       " 'much smaller photo depicts excellent children someone wants camera display lower side things investment first due fact sturdy seemingly built strong recommended buy additional storage card space minimal',\n",
       " 'no didnt new',\n",
       " 'small phone compatible us services nice color amazing storage',\n",
       " 'work nevera on too bad',\n",
       " 'don t waste money cheapest ever does save sd card downloads download things internal hard drive if stars would give left that',\n",
       " 'if could ve gave stars would have awful phone never seller again phone usa standards maybe across seas but we re use to',\n",
       " 'really bad literally memory pages put stuff would recommend unless wanna call take pics',\n",
       " 'mean works screen horrendous viewing angles absolutely horrible',\n",
       " 'disappointed screen love purple flowers see want return back feel using color either n also hard time opening insert sim',\n",
       " 'work at t network',\n",
       " 'main problem product documentation provided folded small piece paper written someone speak english so adequate user manual becomes magical mystery search trying figure use phone a second serious hardware problem speaker runs extremely hot cannot place next ear must use earphones suffer burns battery life totally sucks touch screen exceedingly sensitive registers touched even touch it there appears nobody world makes protective case fits would smart make form factor mathc iphone samsung something other above ok well worth price',\n",
       " 'read reviews fact going say fake there five star reviews bought absolutely terrible security sticker broken got product contacted seller said okay long worked still able use data use calls texts also i m afraid ear when did burned really hot radiated heat cheaply made touch screen fickle unresponsive zero storage apps bottom line wished would spent little money bought different',\n",
       " 'happy characteristics mobile except for wifi connection for reason perform well compared devices connected wifi signal g working well least argentina far slowcamera great processor fast do expect slim model though',\n",
       " 'audio work',\n",
       " 'bad bad support google play store',\n",
       " 'bad bad support google play store',\n",
       " 'attractive work upon arrival would recommend',\n",
       " 'cheap sending back',\n",
       " 'just received phone phone power take charge',\n",
       " 'battery keeps running charging pass',\n",
       " 'slow worked fine however weeks charge after diagonosis charging port defective could repaired may received ended returning',\n",
       " 'advertised unlocked compatible at t work sim card took at t store tried able get work either return it frustrating experience',\n",
       " 'worst ever bought month two freezes resets factory own glitches black screens tries load pages even asked load charges slow battery life sucks horribly launches justin beiber song randomly hangs calls stay locked snaps countless pictures videos randomly pocket even password lock it absolutely hate regret buying two them bought girlfriend work moment bought it do not buy this phone',\n",
       " 'volume loud',\n",
       " 'know carriers work t mobile calls calls coming work maybe times signal terrible sad can t use pretty will returning',\n",
       " 'didn t work arrived so returned it what waste',\n",
       " 'ok far',\n",
       " 'so far have phone activated but not very happy with performance waiting for android upgrade hoping that will compensate all the headaches',\n",
       " 'no g att g',\n",
       " 'product big peace sh ttt so i m warning you never buy it why ok let tell why gps work burn every time u use mins work anymore month sooo don t waste pour money lost leaste tell everyone that buy chinese stufff trust brand',\n",
       " 'bought camera bit gb ram thought would blazing fat let tell absolutely worst camera even compare mgp let alone megapixel looks grainy hate sell half price get rid heavy junk keep advertise',\n",
       " 'just received phone phone power take charge',\n",
       " 'battery keeps running charging pass',\n",
       " 'slow worked fine however weeks charge after diagonosis charging port defective could repaired may received ended returning',\n",
       " 'advertised unlocked compatible at t work sim card took at t store tried able get work either return it frustrating experience',\n",
       " 'worst ever bought month two freezes resets factory own glitches black screens tries load pages even asked load charges slow battery life sucks horribly launches justin beiber song randomly hangs calls stay locked snaps countless pictures videos randomly pocket even password lock it absolutely hate regret buying two them bought girlfriend work moment bought it do not buy this phone',\n",
       " 'volume loud',\n",
       " 'know carriers work t mobile calls calls coming work maybe times signal terrible sad can t use pretty will returning',\n",
       " 'didn t work arrived so returned it what waste',\n",
       " 'ok far',\n",
       " 'attractive work upon arrival would recommend',\n",
       " 'cheap sending back',\n",
       " 'just received phone phone power take charge',\n",
       " 'battery keeps running charging pass',\n",
       " 'slow worked fine however weeks charge after diagonosis charging port defective could repaired may received ended returning',\n",
       " 'advertised unlocked compatible at t work sim card took at t store tried able get work either return it frustrating experience',\n",
       " 'worst ever bought month two freezes resets factory own glitches black screens tries load pages even asked load charges slow battery life sucks horribly launches justin beiber song randomly hangs calls stay locked snaps countless pictures videos randomly pocket even password lock it absolutely hate regret buying two them bought girlfriend work moment bought it do not buy this phone',\n",
       " 'volume loud',\n",
       " 'know carriers work t mobile calls calls coming work maybe times signal terrible sad can t use pretty will returning',\n",
       " 'didn t work arrived so returned it what waste',\n",
       " 'ok far',\n",
       " 'okay screen cracked day',\n",
       " 'i ve read reviews pretty straight forward may price aggravation greater freezes langs point shut speakers ruined can t ever understand word due static missing parts charger screen protectors upper top screen non responsive really think would pile junk very dissappointed',\n",
       " 'stay charge well started messing ordered it issue ever',\n",
       " 'worked well little while however unable send receive picture messages beginning what s weirder though recieves adds random camera app adds sometimes random adds home screen week outside return window longer charges all absolute piece garbage waste money',\n",
       " 'wrote positive review bit longer and buy second daughter getting returned monday battery randomly drain even charger and apps running also can t buy replacement battery am regular customer amazon generally little complaint products but don t waste money',\n",
       " 'not happy not able get gh t mobile years satisfied service because foreign neither tmobile att able get faster internet slow often says cant open page says retry also screen began cracking within week it making calls texting',\n",
       " 'junk',\n",
       " 'positive large screen senior people cheap maybe ok people use quite oftennegative cover wcdma band us only supports gsm network us though says wcdma runs quite slow slow entering characters',\n",
       " 'ordered two based reviews however disappointed work advertised especially camera video functionality recommend returning them',\n",
       " 'didnt offer clear concise instructions put sim card got bad eyesight put microsim sim slot tried remove tweezers wont power',\n",
       " 'updated review i m disappointed gave friend jamaica bought july send jamaica august working now screen freeze matter done come back on even months contact vender',\n",
       " 'screen gets stuck goes black sometimes also slow',\n",
       " 'bought give gift friend called today informed working able use all is way exchange it',\n",
       " 'purchased phone delivered october use right away charged them october turned on works showing green robot screen sent email vendor see something do he got back yet here screen picture photo',\n",
       " 'item working',\n",
       " 'does work all let seller checked averting shopping you',\n",
       " 'slow freezes every second cant anything waist money would recomend anyone buy reviews give lie dont buy looks good',\n",
       " 'lousy phone speakers work',\n",
       " 'bought it turned on work opened back made sure right still work supposed new used found scratches cover',\n",
       " 'didnt offer clear concise instructions put sim card got bad eyesight put microsim sim slot tried remove tweezers wont power',\n",
       " 'bought give gift friend called today informed working able use all is way exchange it',\n",
       " 'purchased phone delivered october use right away charged them october turned on works showing green robot screen sent email vendor see something do he got back yet here screen picture photo',\n",
       " 'item working',\n",
       " 'does work all let seller checked averting shopping you',\n",
       " 'slow freezes every second cant anything waist money would recomend anyone buy reviews give lie dont buy looks good',\n",
       " 'lousy phone speakers work',\n",
       " 'bought it turned on work opened back made sure right still work supposed new used found scratches cover',\n",
       " 'bought give gift friend called today informed working able use all is way exchange it',\n",
       " 'purchased phone delivered october use right away charged them october turned on works showing green robot screen sent email vendor see something do he got back yet here screen picture photo',\n",
       " 'item working',\n",
       " 'does work all let seller checked averting shopping you',\n",
       " 'slow freezes every second cant anything waist money would recomend anyone buy reviews give lie dont buy looks good',\n",
       " 'lousy phone speakers work',\n",
       " 'bought it turned on work opened back made sure right still work supposed new used found scratches cover',\n",
       " 'a issues main is poor signal reception looses signal phones network signal',\n",
       " 'really bad pay conection fee cel charge part work let charge buy diferent charge still worked',\n",
       " 'worst ever can t find case falls crack won t able use it tried sell machines walmart won t even recognize device do not buy',\n",
       " 'phone cheap only months n already stopped working could download anything memory sucked don t waste time money',\n",
       " 'don',\n",
       " 'a issues main is poor signal reception looses signal phones network signal',\n",
       " 'really bad pay conection fee cel charge part work let charge buy diferent charge still worked',\n",
       " 'worst ever can t find case falls crack won t able use it tried sell machines walmart won t even recognize device do not buy',\n",
       " 'phone cheap only months n already stopped working could download anything memory sucked don t waste time money',\n",
       " 'don',\n",
       " 'worked well little while however unable send receive picture messages beginning what s weirder though recieves adds random camera app adds sometimes random adds home screen week outside return window longer charges all absolute piece garbage waste money',\n",
       " 'wrote positive review bit longer and buy second daughter getting returned monday battery randomly drain even charger and apps running also can t buy replacement battery am regular customer amazon generally little complaint products but don t waste money',\n",
       " 'not happy not able get gh t mobile years satisfied service because foreign neither tmobile att able get faster internet slow often says cant open page says retry also screen began cracking within week it making calls texting',\n",
       " 'junk',\n",
       " 'positive large screen senior people cheap maybe ok people use quite oftennegative cover wcdma band us only supports gsm network us though says wcdma runs quite slow slow entering characters',\n",
       " 'ordered two based reviews however disappointed work advertised especially camera video functionality recommend returning them',\n",
       " 'didnt offer clear concise instructions put sim card got bad eyesight put microsim sim slot tried remove tweezers wont power',\n",
       " 'didnt offer clear concise instructions put sim card got bad eyesight put microsim sim slot tried remove tweezers wont power',\n",
       " 'bought give gift friend called today informed working able use all is way exchange it',\n",
       " 'purchased phone delivered october use right away charged them october turned on works showing green robot screen sent email vendor see something do he got back yet here screen picture photo',\n",
       " 'item working',\n",
       " 'does work all let seller checked averting shopping you',\n",
       " 'slow freezes every second cant anything waist money would recomend anyone buy reviews give lie dont buy looks good',\n",
       " 'lousy phone speakers work',\n",
       " 'bought it turned on work opened back made sure right still work supposed new used found scratches cover',\n",
       " 'wish could give negative stars based high ratings customers purchased mother when received it charging cable loose device would not accept charge she even tried charging cables none worked device in addition tried insert sim card from old phone card fell slot fish needle task took long time finish customers may gotten really lucky purchases we not save your money do not buy this junk',\n",
       " 'returned it don t bother u make calls text forget using carriers internet data outside wi fi its really cute though',\n",
       " 'phone slow had defect',\n",
       " 'arrived dead',\n",
       " 'good easy break screen this thing also full ads which burns data plan i wish way kill ads i think part interface i reset every two weeks the ads eat memory to nice many flaws it',\n",
       " 'bought unlocked gsm phone shipped africa never work i waisted money',\n",
       " 'phone would turn charge night',\n",
       " 'overall horrible',\n",
       " 'product delivery fast received days ordering don t disappointed product slow for money worth brand gonna real galaxy iphone gps locating directions doesnt work apps takes load if want basic call take pictures that',\n",
       " 'worked days died',\n",
       " 'devise recommend waste money bought last week got found work unlocked no locked',\n",
       " 'phone slow had defect',\n",
       " 'arrived dead',\n",
       " 'good easy break screen this thing also full ads which burns data plan i wish way kill ads i think part interface i reset every two weeks the ads eat memory to nice many flaws it',\n",
       " 'bought unlocked gsm phone shipped africa never work i waisted money',\n",
       " 'phone would turn charge night',\n",
       " 'overall horrible',\n",
       " 'product delivery fast received days ordering don t disappointed product slow for money worth brand gonna real galaxy iphone gps locating directions doesnt work apps takes load if want basic call take pictures that',\n",
       " 'worked days died',\n",
       " 'devise recommend waste money bought last week got found work unlocked no locked',\n",
       " 'arrived dead',\n",
       " 'good easy break screen this thing also full ads which burns data plan i wish way kill ads i think part interface i reset every two weeks the ads eat memory to nice many flaws it',\n",
       " 'bought unlocked gsm phone shipped africa never work i waisted money',\n",
       " 'phone would turn charge night',\n",
       " 'overall horrible',\n",
       " 'product delivery fast received days ordering don t disappointed product slow for money worth brand gonna real galaxy iphone gps locating directions doesnt work apps takes load if want basic call take pictures that',\n",
       " 'worked days died',\n",
       " 'devise recommend waste money bought last week got found work unlocked no locked',\n",
       " 'phone slow had defect',\n",
       " 'worked well little while however unable send receive picture messages beginning what s weirder though recieves adds random camera app adds sometimes random adds home screen week outside return window longer charges all absolute piece garbage waste money',\n",
       " 'wrote positive review bit longer and buy second daughter getting returned monday battery randomly drain even charger and apps running also can t buy replacement battery am regular customer amazon generally little complaint products but don t waste money',\n",
       " 'not happy not able get gh t mobile years satisfied service because foreign neither tmobile att able get faster internet slow often says cant open page says retry also screen began cracking within week it making calls texting',\n",
       " 'junk',\n",
       " 'positive large screen senior people cheap maybe ok people use quite oftennegative cover wcdma band us only supports gsm network us though says wcdma runs quite slow slow entering characters',\n",
       " 'ordered two based reviews however disappointed work advertised especially camera video functionality recommend returning them',\n",
       " 'worked well little while however unable send receive picture messages beginning what s weirder though recieves adds random camera app adds sometimes random adds home screen week outside return window longer charges all absolute piece garbage waste money',\n",
       " 'wrote positive review bit longer and buy second daughter getting returned monday battery randomly drain even charger and apps running also can t buy replacement battery am regular customer amazon generally little complaint products but don t waste money',\n",
       " 'not happy not able get gh t mobile years satisfied service because foreign neither tmobile att able get faster internet slow often says cant open page says retry also screen began cracking within week it making calls texting',\n",
       " 'junk',\n",
       " 'positive large screen senior people cheap maybe ok people use quite oftennegative cover wcdma band us only supports gsm network us though says wcdma runs quite slow slow entering characters',\n",
       " 'ordered two based reviews however disappointed work advertised especially camera video functionality recommend returning them',\n",
       " 'decent price decent piece equipment camera bad processor decent what absolutely ruins adware garbage attached it the adware nothing because ads even sized properly even know what s promoted slows pops every often settings launching aps etc additionally used close dozen mtk phones lenovo poor job altering android os it s hard use configurable clunky and finally cannot figure change mms settings consolidate group texts known problem earlier generation android phones i think time i don t root much better experience in stock software form better android phones market despite slightly lower price',\n",
       " 'product shut screen u use audio video call skype viber messenger screen turn back u remove battery turn again factory deffect',\n",
       " 'camara sucks',\n",
       " 'product english language still settings showing chinese google play is change provide details get full version download english install phones',\n",
       " 'it s ok went back old much working right time call see problem carrier problem could call receive calls text receive texts none data would work connect internet view anything download anything got error everything tried so put sim card back old now when chance i ll try see what s wrong seems really nice phone love size screen',\n",
       " 'put spanish',\n",
       " 'came chinese instructions defective would charge many days had return amazon',\n",
       " 'sent colombia they change battery came with work they pay almost replace it the working expected that',\n",
       " 'received it charged battery nothing happened photo doa nada returned got money back buy another brand',\n",
       " 'bery products',\n",
       " 'charge port went bad within months',\n",
       " 'didn t color originally wanted product shipped out white seem ran stock ordered week ago got knock version instead expecting original lenovo however gift baby sister enjoyed cute features',\n",
       " 'sometimes screen home button unresponsive touch maybe got defective one lenovo brand',\n",
       " 'worked days turns alone without emitting action part do waste money option',\n",
       " 'defective bought christmas gift recipient said working earpiece also missing box',\n",
       " 'terrible got pornovirus and kepeeng come back screen let anything waste money months',\n",
       " 'its worst',\n",
       " 'im happy lenovo a doesnt work well g g im happy service',\n",
       " 'volume music cannot stop turned stuck never ending loop logo returned',\n",
       " 'features working',\n",
       " 'came without headphones and box publication says q included',\n",
       " 'unfortunately open dosen work seller dont care it think rooted malfunctioned dont get get trush',\n",
       " 'still getting used it unlocked rooted subject annoying gsm buzz near radio tv speakers dual sim slots use plan voice another data text or use sim different countries services travelling manual warranty chinese easy figure out it s phone insert battery insert sim insert micro sd insert charger cable charge tap settings that s pretty much quick start guide say the ear buds cheap so buy ear buds',\n",
       " 'bad cell',\n",
       " 'dynamic working',\n",
       " 'poor talk quality g itis g called at t send new sim asked imei gave told g used g anymore internet slow edge network g overall',\n",
       " 'toda una estafa',\n",
       " 'battery dies quickly picture quality poor',\n",
       " 'good',\n",
       " 'venezuela take g movilnet',\n",
       " 'revision',\n",
       " 'biggest downside china looks great i ve using week already charging battery issues its definitely going back',\n",
       " 'size fast enough convenient every day use also fits average hand the battery strong wireless looking weak if need talk internet economical option venkata',\n",
       " 'my cell charge right now power know contact seller will help me',\n",
       " 'buyed two smart present problem run only say lenovo home screen please say',\n",
       " 'really want jamaica shuts noone touching it chinese huge problem returning sim card setup shut downs',\n",
       " 'work arrived damaged',\n",
       " 'good night write lenovos buy two phones a as seen july three months phones began fail presenting several problems guindaban paid reteaban could never communicate vendendor although wrote repeatedly nobody gave answer solution problem for reason never served lost dollars i really think lack respect waiting offices hoping company amazon take action since mr yomikoo never gave solution eulises carefully pe a',\n",
       " 'think repair give not work all anything turn on hate it worst ever had doesn t buy this plastic aluminium is stole',\n",
       " 'lighting fast however allows change language settings english chinese routed goole play store lenovo store chinese won t buy again amazon try help help me',\n",
       " 'returned broken screen',\n",
       " 'disappointed cellphone box sealed thought brand new phone do buy',\n",
       " 'a comes chinese english language can t other book warranty instructions heaven knows is completly written chinese use things flashing need find mean internet go if known posting language thing would bought a unlocked lenovo android cellphone',\n",
       " 'buen equipo',\n",
       " 'not yet resefed',\n",
       " 'phone nice charged could get turn on could sims card prevented coming on went line looking manual in english could find quick start guide there instructions found in scared decided send back if complete instructions english would kept',\n",
       " 'function',\n",
       " 'don t buy phone lot issues as extremely slow takes long time open apps ex internet messages also phone volume putting speaker help still able hear it',\n",
       " 'worst don t ever get product using months l cant even charge more got two one husband either working now money went toilet',\n",
       " 'bad phone turn on manuel headphones came late waste time',\n",
       " 'had high expectations coming galaxy s out box liked look feel it turned mind little bit chinese japanese writing still lingerd put sim card powered fine problems started texting after texts stopped displaying new texts would get notifications saying went contact view allow scroll see them then would silent mode even selected wise hear received texts turned volume full still work next internet wi fi connection fine home work network connect using at t network my carrier tried everything got somewhat close sometimes would work briefly after loading minutes page might display tried click link next page would say network connection so internet go gps also sent link text friend colleague said correct program continue connect all so glitchey every day something new would pop up even internet worked feel safe source contact world would crash moment my s blew away even everything worked right still stack up big screen nice clear s freaking slow loading movies pictures web pages i recommend avoiding looking something else pay get something reliable',\n",
       " 'i ve month already turning trouble turning back on port charge messed charger hardly stay connected camera awful pictures terrible flash work never upset purchase life',\n",
       " 'as previous review false advertising here android os pretty much chinese language google play it it s understandable given broad censorship happening there to operational english flash if technologically savvy buying this it s really frustrating even manual comes chinese language',\n",
       " 'seller says comes googleplay q lie brings applications chinese',\n",
       " 'ok',\n",
       " 'good evening writing notify product already reached hands condition presents several problems boxes phones come without security seal without adhesives inner side compared brings brings two iridescent bar code problem presented greatest phones adhesives problems getting charger connect original lenovo charger brought package minutes maximum accepts register charge light turns stops charging battery wonder procedure cases necessary forwarding phones direction thanking prompt response problems present say goodbye gaudys fermin',\n",
       " 'awful definetely',\n",
       " 'cel many flaws remains stuck restarts fallas hedge son came many esta tel bad computer operating',\n",
       " 'g even add says g internet runs super slow second sim card work properly shame cause nice details if using calls text wifi ok',\n",
       " 'left side screen vertical area inch touch response way down chinese software retarded hard correct remove despite rooted superuser app preinstalled using multiple apps performance really starts struggle support otg youtube app become glitchy unknown reason pros large screen decent resolution large battery fm radio a m for nice back temp i m looking flash rom custom install future update completed',\n",
       " 'yeah right but its g slow without using wifi',\n",
       " 'asked people questions amazon whether would work digi mobil movistar everyone said would required sim adapter so review anyone gives stars never owned premium smartphone for review comparing samsung galaxy s touchscreen with factory provided screen protector on sometimes unresponsive sometimes freezes hold touch screen button time realize touched less half time button respond take screen protector works marvelously risk damaging screen network movistar digimobil pay go plan when got sim bought samsung galaxy young use in no major issues aside size in young whatsapp worked fine could send texts make calls whatsapp mobile network wifi now sim lenovo allow transmit whatsapp unless connected wifi in addition internet google play access without wifi this s returned',\n",
       " 'useless chinese',\n",
       " 'nice battery dies middle day medium low use',\n",
       " 'lenovo pone pone kids toy pleas remove market thank do rate for',\n",
       " 'chinese menu hard operate',\n",
       " 'so disappointed waste money much hassle return it',\n",
       " 'muy bueno excelete',\n",
       " 'phone sent defective no sound call used headphones ideal take repair',\n",
       " 'working',\n",
       " 'bought myself though customer please it',\n",
       " 'it s decent price i ve months cons pretty frequently unable connect internet using home wifi carrier connection slow i m able connect randomly changes settings including merging several contact s numbers onto contact s name and finally selfie camera awful pros everything else i d expect smart google play',\n",
       " 'is cell',\n",
       " 'comes manual support lenovo usa primary focus lab tops phones tried get manual line luck programs chinese cannot removed screen clarity',\n",
       " 'good basically chinese google play returned product within hours since go delivered would suggest buy phone',\n",
       " 'a total disappointment team comes in chinese and english only not as described in spanish the worst is that no longer than android google has installed and play apk download not permitted to run the app or any other of google inc una total decepci n el equipo viene solo en chino e ingles no en espa ol como describe lo peor es que no tiene android ya que no tiene instalado google play y al bajarlo como apk no permite ejecutar la app ni ninguna otra de google inc',\n",
       " 'customer service replied quickly emails able get christmas eve researched thru basic phones minimum requirements gb ram ghz large screen thought screen would la bit large line galaxy note standard items dual simm dual camera jelly bean pros large screen price cons camera quality less average mps issue microsoft exchange app installed option create outlook account using limited web version now need engage customer service assistance',\n",
       " 'lenovo a chinese android operating system chinese cant install google play to get around root install custom rom english hence bought rooted google play all that case all programed chinese everything written chinese characters google play function standard operating system seller used false advertising product description bad man makes cry phone does not have google play pre installed you will have to flash and root the phone to install it',\n",
       " 'got light in box seller loaded google play came chinese mobile browsers apps took time figure download chrome how still wonder definitely loaded google play even logged google play phone s chrome browser tried download app google play apps kept getting you devices indicator checked google play s list compatible devices lenovo a supported devices so really know can t google play phone the device however came amazon app due limited understanding chinese language apps find difficult get device prospective buyer google play chrome must you suggest verify seller buying',\n",
       " 'alternative iphone samcung galaxy series',\n",
       " 'since received turn all work bad',\n",
       " 'nice cell need quality control recognize sim card ports think last time buy amazon cell fork success',\n",
       " 'bad',\n",
       " 'item nothing suppose all very dissapointed product use internet wi fi norcalls texts very dissatisfied',\n",
       " 'got cell phone but sim card include why cause know every cells comes sim card',\n",
       " 'can t get turned thur straight talk thought unlocked',\n",
       " 'not a good camera',\n",
       " 'does work straight talk',\n",
       " 'sound blocked it s functioning properly expecting',\n",
       " 'work walmart family moble however slow downloads random apps never even proved if known going would never wasted it get trying go cheep route',\n",
       " 'after days screen stopped working i m pissed there way contact seller try another send back now wasted money',\n",
       " 'hate never tell someone bye amazon worst ever',\n",
       " 'never worked',\n",
       " 'not worth ordering went hay wire',\n",
       " 'like people stated came porno malware go away factory reset',\n",
       " 'slightly bigger expected shuts restarts randomly apparent reason',\n",
       " 'just buy please sucks never spent money something regretted smh',\n",
       " 'my blow months can get replaced boost mobile inch',\n",
       " 'my turns self n cant download apps without kicking out so im giving get something better',\n",
       " 'didn t work',\n",
       " 'even accessible plan they could even find connect carrier dissatisfied',\n",
       " 'looks nice g when tried use carrier would work the g tooo slow even wifi could go internet crap felt flip looked nice',\n",
       " 'wish better easy break',\n",
       " 'again cannot hear without blue tooth earphones also giving lot problems i m ready return it',\n",
       " 'no not i could get activated was all',\n",
       " 'hate took picture randomly downloaded apps authorize download a bad order used gbs coundnt even delete hated wanted throw out of window worth money spent promise do not oder this phone not worth it promise',\n",
       " 'bought xmas present wife by time opened it selected carrier got sim installed return period up while inputting contacts started getting porno popups tried reset factory setting porn deeply rooted may come malware installed its trash',\n",
       " 'worst ever had literally month toast downloads virus virus on its own camera sucks takes forever make recieve calls that s get going cheap route',\n",
       " 'worst used even work',\n",
       " 'bought wife they first two days time caught virus destroyed instantly buy new phones awful buy',\n",
       " 'keep going able use last weeks',\n",
       " 'weak would charger facebook work sometimes messager work hang middle call',\n",
       " 'sucks data terrible sim card data pay transferred g g even g looks nice that s it',\n",
       " 'ordered thinking could use boost mobile service got inserted sim card kept saying read sim card inserted tried calling boost mobile said get work thru system took store even said get switch i m highly unsatisfied due unlocked suppose service working',\n",
       " 'do not buy this phone i ve several months nightmare essentially htc m programming cannot deleted china hold updated programmed information droid randomly wants calls people calls voice mail flashes incompatible bluetooth accept see additional sim card stores everything phone s sim means can t take pictures video voice record nothing and omg slow on dialing or anything else must built first apollo mission moon a nightmare i m going attempt return amazon product never be bought by anyone who needs a reliable phone that calls people',\n",
       " 'didnt never received it in box charger plastic case earbuds no phone no stars',\n",
       " 'orders defected',\n",
       " nan,\n",
       " 'ok size camera quality horrible g compatible says extremely slow moment opened allow send text messages',\n",
       " 'when received looked condition tried turn work even though charging first time buying recomand item',\n",
       " 'phone week screen already trying go out want money',\n",
       " 'just got today work like went charge guess blink white screen every time show charging turn on spent dollar really get friend gift late christmas gift now dollars can t anything',\n",
       " 'because compatible straight talk says unlocked love size s definitely recommend',\n",
       " 'no good ordered november problems since came its full viruses always black lockup continues download everything please people east money my boyfriend order still buy new phones good want give star wish could get money back is was stressful',\n",
       " 'horrible',\n",
       " 'good looks nice good got keep turning me i m returning i m piss though can t get refund get back need',\n",
       " 'hey i received today come on all blank even let charge still blank',\n",
       " 'love letting download apps wanna send back really working right',\n",
       " 'bad know send back amazon first can t get connection every where use t mobile almost time network connection second always turn alone really hate',\n",
       " 'worst i ve ever bought super slow quit working weeks buy piece junk',\n",
       " 'love big totally sucks it s g not g cuts you very disappointed would not recommend anyone',\n",
       " 'just month work anymore restarts itself not recommend',\n",
       " 'sucks slow',\n",
       " 'nothing',\n",
       " 'size screen slow especially downloading app takes forever going screen back home page takes forever know why what play videos stops half way thru slow moving anything make move faster freezes',\n",
       " 'phone worked two weeks started problems opening closing apps constantly press button apps',\n",
       " 'phone sucks',\n",
       " 'worst ever gets hot playing games hesitates automatically switches home screen apps returned pronto',\n",
       " 'waist of you money dont buy it dont let the looks fool you im getting my money back',\n",
       " 'very slow provider said old threw trash',\n",
       " 'over nice my friends samsung even impressed phone however took metro would recognize system able active it',\n",
       " 'one worst phones ever had apps shut constantly turns itself apps always say need force closed youtube slow shuts randomly one worst buys ever had',\n",
       " 'size great bad part sometimes freezes screen revert back home screen without button pressed some apps work youtube would download me would nice supported g lte undecided whether want keep upgrade cheap g supported',\n",
       " 'works ok overseas storage can t see email text message delete things let',\n",
       " 'terrible international model runs g t mobile screen went dead week receiving it',\n",
       " 'within day returned back amazon nice screen that s all poor internet service only allowed g network downloads slow plan use talk text anything else waste money',\n",
       " 'hate day',\n",
       " 'say luck getting work',\n",
       " 'battery goes quick takes recharge but another one when taking pic u cannot breathe blurred when purchased line someone got credit card purchased airline ticket overseas store purchases if bank known purchase status disabled whoever could used monthly bills actually wanted samsung notebook could purchased financially everyone carefully microsdhc sd ppl order go phone got look correct ones music phones work wish could bought samsung notebook',\n",
       " 'my charger work i would works that s paid money for the works fine',\n",
       " 'phone wasn t what was looking for nice looking phone but looks can be deceiving wouldn t buy again sent it back',\n",
       " 'when making calls screen goes black light back take away face hang up auto rotation work well either phone fast know bot internet connection experimented',\n",
       " 'love size dont realy know g g network realy slow can t ope playstore watch videos',\n",
       " 'do buy it s sturdy capabilities connectivity horrible bought tried save end ended buying blu anyway u get data spend extra get blu amazing',\n",
       " 'hey received today im straight talk service seem working hurted badly really excited know need another sim cards bad im really sad agout went fidnt quiet understand two sim slotd nothing really confused',\n",
       " 'work',\n",
       " 'received today coming blinking charging hours',\n",
       " 'didn t fit needs rural area live we send back refunded money promptly',\n",
       " 'totally horrible picture not match product picture shows cute date received generic fake that if i d option would given zero stars',\n",
       " 'doesnt work suppose',\n",
       " 'worst item history didint work',\n",
       " 'hmm',\n",
       " 'poor can t access internet keeps blocking me no wifi keeps rejecting wifi voice low can t driving ear also low keeps falling ears screen sensitive anything touches stops listening changes settings close cover hear anything stop poorly made serve keeps rejecting sd cards lost information saved last yrs can t get anywhere else plz would return get money back rather pay get serves right don t buy plz even yrs old children can t figure out',\n",
       " 'love stop charging battery charger its had buy whole new try take repair shop could help me better purchase whole new',\n",
       " 'don t even think buying it its piece failed technology wasted money buying it its trash',\n",
       " 'ok thuovit work better do',\n",
       " 'based peoples ratings bought one found positively recommending all took hours download app you may try think otherwise',\n",
       " 'phone nice size price internet slow returned got blu studio s',\n",
       " 'bought two phones husband back february took couple days stop working properly went dead day put charger still turn back on then mine broke month purchase busted minor impact example putting purse walking around with couple hours continued use busted screen bc afford repairs finally six months after purchases finally knocked off died too and little time work would constantly go dead took hours charge would die within mins never bit working speed it always ran slow ands would ffreeze up final thought wasted these phones and could gotten better use little toy phone worst ever seen cheaply made',\n",
       " 'happy internet slow mobil service ringer volume low color dim',\n",
       " 'got opened box phone charger cord battery supposed come two batteries wrote seller told phone not asked send another battery ad promised refused instead said would refund yet see either',\n",
       " 'would loved charging port bottom broke send back',\n",
       " 'expecting screen everything else expected looking',\n",
       " 'when received phone took month got excited big is waiting long get even use without sim card finally got sim found internet work means google play store work means cant anything call text sucks im apps internet am problem',\n",
       " 'only minutes stop working screen went out really loved really want money back',\n",
       " 'work all keeps shutting hanging people worst ever',\n",
       " 'thanks',\n",
       " 'months started freezing turning itself order another',\n",
       " 'works ok overseas storage can t see email text message delete things let',\n",
       " 'terrible international model runs g t mobile screen went dead week receiving it',\n",
       " 'love the way the phone looks but my only problem is the internet service its sloooow cant even download any apps because the market wont load',\n",
       " 'love works well but pixals messing never drop randomly also ear peice low love',\n",
       " 'some things things not when scrolling would blurry till stopped hurt eyes too many weird things would pop',\n",
       " 'looks charger went battery never stayes charged headphones came poor quality charger also went out stopped working size',\n",
       " 'bought first got problems hanging up when call somebody screen go done talking wait hang up also recently volume went cant hear text messages calls people call hear stuck saying hello cant hear anything little month return policy date now that s money gone waist try save money get new',\n",
       " 'ring volume low even high case fit pad wow wat waist stayed boost mobile never received charger pad',\n",
       " 'loved i ve month last night turned off turn back charge upset',\n",
       " 'within day returned back amazon nice screen that s all poor internet service only allowed g network downloads slow plan use talk text anything else waste money',\n",
       " 'hate day',\n",
       " 'say luck getting work',\n",
       " 'everything fine three week ago turn totally wacked i ve six months buy another sticking american made',\n",
       " 'sent back',\n",
       " 'disappointed unfortunate already days left could return it screen barely respond touch battery charging forever dies fast useless device',\n",
       " 'really work wit straight talk download anything',\n",
       " 'phone much storage lots popups',\n",
       " 'having lot problem programming phone currently unable receive text messages appears technical support center assist concerns',\n",
       " 'sent back',\n",
       " 'disappointed unfortunate already days left could return it screen barely respond touch battery charging forever dies fast useless device',\n",
       " 'really work wit straight talk download anything',\n",
       " 'phone much storage lots popups',\n",
       " 'having lot problem programming phone currently unable receive text messages appears technical support center assist concerns',\n",
       " 'sent back',\n",
       " 'disappointed unfortunate already days left could return it screen barely respond touch battery charging forever dies fast useless device',\n",
       " 'really work wit straight talk download anything',\n",
       " 'phone much storage lots popups',\n",
       " 'having lot problem programming phone currently unable receive text messages appears technical support center assist concerns',\n",
       " 'received product came international charger therefore able use sent back',\n",
       " 'internet slow used cell use headphones headphones work',\n",
       " 'terrible headlines said unlocked received shipment product get turned locked i m sending back',\n",
       " 'ok kids keep takeing battery cover reset',\n",
       " 'like dual sim can t get rid apps keep popping chinese real annoying s ow surfing web',\n",
       " 'i m apple guy ipad think would better stay away cheap tablets',\n",
       " 'advertised us cellular phone however software hacked compatible network could activated',\n",
       " 'got verison suppose at t',\n",
       " 'got space bar work not happy',\n",
       " 'l lost money cdma operated venezuela movilnet movistar digitel work',\n",
       " 'recevied broken trackball missing micro sd missing battery the seller claimed working cannot see workingwithout internal sd battery claimed oem brand new my obervations indicated poorly attempted refurbished they must berunnin second handed parts',\n",
       " 'disliked much purchase samsung unit would turn radio function itself missed many calls ringer might might work thing could get web weather channel',\n",
       " 'ordered nephew ok him me freezes time time',\n",
       " 'although super cute fun item received tends leak air slowly blown up',\n",
       " 'camera big disappointment many levels the stock android version acer smooth user friendly the hardware performance even fast old samsung galaxy siii the bottom buttons illuminating sensitive enough touch hit least twice the bottom line is not buy unless desperately need tri sim useful smartphone features',\n",
       " 'description says gb rom gb rom disappointed erroneous misleading description',\n",
       " 'high hopes acer based reputation laptops etc well designed well made badly let two things the android operating stuck hope update front selfie c mera supposed mp actually tenth maybe grainy checked twice see perhaps plastic protective sheet covering lens nothing asides that works well clear calls nice screen fast internet the battery life enough smartphones area become accustomed carrying around battery pack all all nice let totally unacceptable front camera out of date operating system its going back',\n",
       " 'description says gb rom gb rom disappointed erroneous misleading description',\n",
       " 'high hopes acer based reputation laptops etc well designed well made badly let two things the android operating stuck hope update front selfie c mera supposed mp actually tenth maybe grainy checked twice see perhaps plastic protective sheet covering lens nothing asides that works well clear calls nice screen fast internet the battery life enough smartphones area become accustomed carrying around battery pack all all nice let totally unacceptable front camera out of date operating system its going back',\n",
       " 'replacement niece broke down shipping fast took get use windows phone beginning complain lot and right display big rim inch use work full display bottom annoying speaker work well the side hear clearly think glitch windows but overall niece broke two expensive smart so right price teenager her till stand rudeness carelessly',\n",
       " 'receive order items',\n",
       " 'first off service usual wanted small windows phone seen ms store liked look thought would work first off directions inserting sim card why would need directions ask because ten minutes dinking realized sim full size sim card who anymore so put sim card sim slot when that every call made required select sim sim also taking way long apps load ridiculously long but nail coffin screen it s awful you tilt right see screen clearly just little angle direction looking pc security screens s one reason interested textured case thought would easier grip not it s slipperier smooth case lumina i d use time front facing camera anyway know windows screen i d appreciate feedback',\n",
       " 'manure',\n",
       " 'phones advertised windows ready farther truth minute tried download windows received error message saying possible we promptly sent back',\n",
       " 'poor quality recommend buy',\n",
       " 'it sn powerfull',\n",
       " 'connection on phone calls is terrible does not keep track of calls with dual sims does not always screen mirror many many issues',\n",
       " 'connection on phone calls is terrible does not keep track of calls with dual sims does not always screen mirror many many issues',\n",
       " 'bought many phones model friends use all working perfect first months couple months later problems came them mine used restart conversations contact applicaions give error close them alarm mode works if try call takes long beep dialing not factory unlocked uninstall app needed first model gps works great not so would recomend model big problem looks model manufactured exclusively t mobil metro pcs if used usa posibilities update updates available done root problem update my last problem time',\n",
       " 'hangs speak five minutes i ve less months would recommend',\n",
       " 'my teenage son excited getting disappointed couple months it screen blanks occasion battery already dying despite charging properly sadly still likes droid turbo better more otherwise loves',\n",
       " 'it s cellphone locked locked metrospc',\n",
       " 'alcatel nice cheaply made that s inexpensive prongs inside plug charging cable cheaply made tend bend break volume leaves lot desired lasted months',\n",
       " 'phone unlocked advertized',\n",
       " 'not factory unlocked metro pcs after two days time internet searching usable properly unlocking rooting phone comes metro pcs bloatware unneeded useless junk installed factory unlocked phones come message metro pcs riding nationwide t mobile network i repeat not a factory unlocked phone at pay rate company sold give refund x s',\n",
       " 'cell blocked live in dominican rep blic and say sim invalid',\n",
       " 'think factory unlock anytime turn show metro pcs',\n",
       " 'recived smartphone venezuela factory unlocked works movistar telefonica',\n",
       " 'put tmobile chip worked data since metro pcs went activate it went pile junk',\n",
       " 'looks nice unlocked described spend another unlocked it',\n",
       " 'met expectations wished storage',\n",
       " 'bought supposedly unlocked use travel caribbean discovered today bricked up t mobile following error message appeared black screen security error this flashed unauthorized software locked call mobile operator additional support please note repair return issue may additional cost so stuck useless poorer',\n",
       " 'ok price used better phones lg samsung htc gonna crappy but works lag anything and shabby speed either camera garbage audio playback actually good screen nice n clear',\n",
       " 'stop working mount product defective',\n",
       " 'does ring already speaker stopped working and pictures keep deleted longer send pictures text all contacts gone junk don t buy it',\n",
       " 'not bring charger charging pin wrong guato article',\n",
       " 'phone says unlocked not order another',\n",
       " 'why cant mobile sim card fit inside sim slot says also inside mobile lie maybe different types mobile sim cards know mines fit',\n",
       " 'problems activate',\n",
       " 'restarts shuts several time day takes minutes start this can freeze restart something google maps never worked minutes closing doesn t deserve even single star total waste money plain junk',\n",
       " 'phone unlocked received even though advertised unlocked phone work also repaired bad choice buy vendor',\n",
       " 'become difficult release venezuela takes line',\n",
       " 'bought many phones model friends use all working perfect first months couple months later problems came them mine used restart conversations contact applicaions give error close them alarm mode works if try call takes long beep dialing not factory unlocked uninstall app needed first model gps works great not so would recomend model big problem looks model manufactured exclusively t mobil metro pcs if used usa posibilities update updates available done root problem update my last problem time',\n",
       " 'hangs speak five minutes i ve less months would recommend',\n",
       " 'my teenage son excited getting disappointed couple months it screen blanks occasion battery already dying despite charging properly sadly still likes droid turbo better more otherwise loves',\n",
       " 'it s cellphone locked locked metrospc',\n",
       " 'alcatel nice cheaply made that s inexpensive prongs inside plug charging cable cheaply made tend bend break volume leaves lot desired lasted months',\n",
       " 'lasted less month i went sleep night included usb charger when woke up noticed glitching badly pin lock screen home screen dashboard my touches register even make go hard reset fast forward hour later stopped holding charge died pretty hard time least expecting it fast forward attempt rma their website intuitive comes finding repair center eventually find us repair center start filling forms realized grab phone s imei chalked loss fortunately budget grab new phone that s still lot money spend stop working month moderate use it s shame price snappy little liked ui fairly close stock android way better anything touchwiz shoved it that s sure camera great willing live that may grab another liked ui much going weary much proactive keeping proper warranty info maybe would worth getting moto g instead',\n",
       " 'rubber inner sleeve look',\n",
       " 'extremely poor hardware explains low price its months already problem charging port it s struggle get charge',\n",
       " 'honesty mailbox outside disappointed',\n",
       " 'odd feel basic reason talk right worst flaw hard time answering placing calls seems long pause oddest times glad month ruined water would hate put years',\n",
       " 'would phone except keeps loosing network connectivity randomly especially calls often speak loudly order person end call hear i m saying all all big disappointment',\n",
       " 'bought father step mother my dad lots research buying new phones because wants cheaper phone decent reviews past weekend step mother reach ask display contacts automatically joined transfer old easy fix frustrating solution none less there swype functionality either download google swype keyboard provide functionality her other minor usability things nice feel it apps familiar looking long smart knowledge fairly easy navigate',\n",
       " 'so far good needed stopgap old nexus since battery died noon everyday recent weeks i ve tried mid range phones released recently none seem right me can t seem get used using larger started using days ago far no stuttering all kept pace nexus did yet battery lasted albeit weekend usage standby apple esqe left charger overnight lost battery life i ll get chance see normal business use get today the speakers best i ve ever heard smart loud clear normally use speaker connect bluetooth speaker house really needed longer phone feels solid hand entirely plastic very light for bargain far edit not sure bad handset issue connected call via bluetooth hear loud clicking noise sounds bit helicopter call tried car sets bluetooth headphones three sound it s shame loving',\n",
       " 'update november i downgraded rating due system update patch dated november update kills functionality tap wake feature lets tap screen wake up wonderful feature loved but feature largely killed november update works maybe time tap screen wake it really obnoxious killing feature if alcatel eliminates features purchase eliminates trust company would buy alcatel product future this particularly care intentional bug they sent update patch changed something want changed that s screw i m happy good phone okay camera i got wife replace galaxy s bought months ago turns darn big idol version ends perfectly sized normal person s hand this nice general it s factor price overall value with hardware capable reasonable price could game changer smartphone industry forcing major players bring pricing down said thing version idol months ago popularity device asus zenfone enjoying price range convinced see reasonably priced phones major market players next years the good sound front facing jbl speakers make solid rival htc one m if use multi media watching videos listening music without headphones solid sound system you sound vibrant importantly loud and clear sound sound tiny cell speaker sounds real speaker htc one product line made front facing speakers calling card really challenged htc design now alcatel onetouch idol stands toe toe htc one sound flinch physically looks nice phone cheap brand it s powerful processor smartphone little lower powered variant plenty enough drive idol normal daily use find laggy normal stuff through set process couple hours use lag expandable storage thank keeping feature smart hate cloud want files device idol starts gb board not usable system takes that expandable gb via tried true sd card method so expand storage significantly meanwhile higher end smartphones charge entire purchase price idol increase gb base model gb model hd display very nice colors vibrant they may slightly vibrant true life colors works photos look richer even get true life coloring all rendered graphics look fantastic due rich color depth meaning stuff icons games ui interface etc etc resolution little lower version screen also smaller noticeable sas resolution inch hdtv bedroom back flat lay desk table next able use things checking sports score checking notification something with rounded back wobble annoying idol flat back lays flat table wobble touch it simple thing huge me it s super thin see picture comparison next finger it s thinner galaxy s slightly smaller screen its significantly smaller screen galaxy s sold and it s light weight camera initial area concern me everything looked exposed blurry largely fixed alternate camera app more later it s still greatest camera world factor price tag for enough camera in high light outdoors day time actually pretty decent in low light anytime need flash hot the bad stock camera app complete garbage aspects you improve photo quality little adjusting manual settings lose settings soon restart app save them on stock settings everything massively overexposed light balance making everything look blue almost caused return phone making think camera bad plan using alternate camera app switched camera mx photos available amazon newer versions google play camera mx conflict video though simply work stock camera app works okay video battery replaceable they wear keep phones years repurpose things service life expires as controllers things mp jukeboxes etc able go amazon spend replacement battery quickly switch out additionally even keep phones long batteries fail sometimes so replaceable battery problem me might issue you if not great but aware issue making purchase decisions sucked wife s care but love industry trend the bottom line easily outperforms purchase price it s greatest smartphone time cannot beat said thing version s price overall physical room housing cram better specs version value even camera industry leader ultimately decide features important you if never use camera use anything want keep maybe take pictures parking space remember parked smartphone love form factor it it s thinness it s weight it s display it s nice use alternate camera app gives control exposure an alternate camera app changed decision return star review better luck different apps also compared quality photos price tag realized value you get better camera phone cost it for really can t go wrong',\n",
       " 'marred unacceptable bluetooth performance literally drops bluetooth headset put pants pocket on plus side sound speaker functionality quite good reviewers mentioned also exceptionally rugged screen broke fall less feet',\n",
       " 'call quality terrible something fade tin can camera ok image quality well previous phones moto g lg most frustrating all month first time dropped screen shattered outer casing accessory redeeming quality compact size',\n",
       " 'sometime get hot battery running quick',\n",
       " 'music lovers right speakers bluetooth horrible put pocket simply turn around bluetooth speaker cut problem phones anyone else problem did drop activated though hitting power volume time screenshot seems almost unavoidable happens time really getting nerves hell home screen freaked thought realized looking s load screenshots can t find option disable feature yet cameras focus horrible compared old moto e samsung avant something unlocking screen way notifications work really annoying going fix old samsung avant throw trash can t find easy fix issues',\n",
       " 'alcatel idol compact decent phone the good nice form slim easily held hand good performance connectivity tasks etc great stereo sound built speakers as music listening device terrific the bad unfortunately really great could faintly hear person apartment even volume maxed noisy nyc street nearly impossible the battery life terrible suspect might ve gotten dud light use listening music checking emails couple times barely lasted little half day overall low volume bad battery life made return quickly too bad everything else nice',\n",
       " 'internet slow can work connected wifi',\n",
       " 'would recommend people need simple functionality bluetooth capabilities came moto g think really get pay for after months phone counting loss going back motorola takes x longer anything need keyboard responsive poorly calibrated speakers great compatible apps compare motorola assist making calls takes three extra steps rarely able make receive calls due poor reception would blame service company boyfriend family plan gets reception don t text message app horrible downloaded new make usuable would starter teenager that s it speakers bad enough use speaker make calls i m',\n",
       " 'bought units of this cell phone ho have depreciation of each feel ripped off return my money not see possible in promotion this same in now page more for the same phone less one week returning this difference in a bono giftcard',\n",
       " 'first days feels solid recognized new external gb extermal micro sd card tried reboot formating card re installing sd card nothing go settings storage it says mount sd card click nothing frustrating dumped old lg optimus f',\n",
       " 'bought inch versions wife reason phones take video sound playback even tried uploading google photos app still sound video taken please fix this already tried rebooting factory reset erasing cache raising volumes sounds messaging',\n",
       " 'gave stars instead price numerous smaller bugs i assume firmware recent annoying random times starts playing music seriously its music app checked it playing anything closed open apps music continued must streaming since music yet completely different genre last playlist streamed often unlock start stuff music stops always still ok money i m hoping isolated incident try replace',\n",
       " 'received firmware updates since bought it making much much better first arrived imo but weird thing sometimes pull pocket jus black screen no matter many times hit power button wake turn hold power button seconds reset it happened multiple firmware versions also auto brightness tendency stay bright melt eyes night the screen quality nice time i m starting able see something behind screen sure they re individual leds they re related digitizer touch sensor what look small rings although admit already taken beating protect case since inexpensive device overall though speed responsiveness nice it s best device i ve ever owned price paid i m unhappy speakers fairly impressive get nice loud own in end very light thin impressive probably impressive phones available less money want something flagship years ago downside is might end marshmallow upgraded to if leave stock x came with probably going disappointed know impressed firmware update arrived',\n",
       " 'stop working months garbage',\n",
       " 'slipped lap sitting chair falling feet ground screen exploded yeah fault dropped it but many phones life i ve dropped much higher distances never happened',\n",
       " 'piece crap purchased may can t return work paperweight',\n",
       " 'worst phone ever had ever worst terrible dont buy holds battery less day',\n",
       " 'never trust positive reviews alcatel lasted two days problems started battery draining within hours unplugging without even using installing apps just email set push notifications wifi gps used phones next problem switching earpiece speaker multiple times call returned try new moto g',\n",
       " 'purchased version wks wanted see smaller version would larger version smaller packaging bit disappointed battery life important feature device screen also stunning larger for price decent purely impressed still version little negative remarks it s definitely large thing like recommend version budget phones',\n",
       " 'amazon service excellent hence review deserves atleast star i heard model feb announced ces much interested form factor i fan hefty phones was waiting buy since then think released uk region june us september considering priced initial launch hoping priced didnot but bought tax anyway though initial days battery drain mins non usage phone constant reboot especially using camera made return get second phone second turn et all did factory reset able turn on worked fine days alas problem above could resist return back amazon process hence would buy amazon knowing purchases protected for days october product available there notice there problem inventory let know resolved not sure got two defective items noticed feedback somehow phones didnt work me good buy alcatel',\n",
       " 'awful performance configuration mentioned product description papers looks nothing works below issues i m facing battery sucks big time made sure battery went bed morning reading batter power left there activity battery drains reason lte never worked far please argue able get lte speed cell service provider also network drops gets back again this never happened age old android phone s performance sucks hard believe configuration mentioned choke perform hardly applications installed newly phone i games bought days back ps outlook looks sound thanks jbl i m surprised amazon sells cheap par perform per description love shop amazon confidence doubts update things turned worse worst below email sent amazon i issue connecting network from day two got i m issue battery also registered return unfortunately return due circumstance situation really worse i m seeing signal reception my friends office colleagues manager started complaining time call hitting voice mail initially thought issue carrier last month figured problem last couple weeks even attempting connect i m using samsung basic smart now i m able place receive calls it s real nightmare lost important interview calls well alcatel taken pictures ref comparing old samsung alcatel phone i m unable add here please help regard bought sold amazon itself thanks',\n",
       " 'it s ambidextrous gimmick sometimes screws call people say sound distant could mean mic speaker switch fast rest phone the also shuts random charging car mobile battery still pretty solid price though',\n",
       " 'works fine suspect received fake',\n",
       " 'last worked perfectly dropped water needed get new one new got keeps restarting every time drops hard surface might battery problem sure anyway bad cost',\n",
       " 'dont buy this phone died five weeks alcatel return calls customer service we cannot get information need warranty alcatel asks numbers back do not exist model cannot send service get year warranty company ignores you honor warranty they might well offer life time warranty bites company horrible',\n",
       " 'no good',\n",
       " 'broke easily i m pissed',\n",
       " 'i ve months dropped screen first time cracked usually cracked screen still functional case idol it fine first really nice design display camera could better cant complain considering price tag the thing cracked screen problem oddly buggy certain apps would use snapchat miitomo would just stop responding whenever used them',\n",
       " 'unlocked returned it',\n",
       " 'seemed beginning proven terrible purchase bought husband myself constant call quality issues dropped cell definitely fault corner slightly cracked when woke morning leaving table overnight crack spread throughout top half screen screen longer works it s replace screen almost cost would slow power on terrible call quality clearly terribly designed screen buyer beware',\n",
       " 'it s months bought product internal storage gb stop vibrating month ago i m thinking getting warranty other that design sleek beautiful',\n",
       " 'android goes little awkward sometimes crashes time overheats nothing worst thing cellphone screen broke weeks use playing cytus music game press bubbles score suddenly play anymore looked screen broken corner corner really know hit screen hard which think so material way bad pretty excited smartphone since reminded old moto g recommend buying',\n",
       " 'it s reliable product calamity',\n",
       " 'want love but record calls android heard deliberated hw setting manufacture shame screen auto dim work seriously basic feature',\n",
       " 'good seller misled add yes unlocked international language mean gift someone know english french spanish german needed russian there so make sure getting language options setting commands tools actually know',\n",
       " 'gorilla glass after six months screen cracked reason used case drop it a little pressure flexed cracked screen my boyfriend idol in screen cracked without dropped also read reviews flexible screen strong googled it common problem update screen crack design flaw however alcatel honored warranty repaired screen happy damaged easily best phones ever had gave three stars fragile would give customer service five star repair customer service reason review star',\n",
       " 'average phone decent features around nice thin form factor the battery non removable that knocks entire star off android lollipop is deficient that knocks second star off lollipop numerous issues hotspot always work clients mdns flaky weird media player background behavior etc all known issues classified won t fix endemic lollipop devices otherwise performance specs actually pretty decent',\n",
       " 'you get pay for issues punch code in screen stay black seconds wakes up then populate icons form apps populate slowly once also entering unlock screen populate correctly respond you need tap back button order get screen fully unlock keep getting message unsent text deleted every text thread had messages right wrong deleted every text message still get message unsent text would recommend short term used much',\n",
       " 'freezes sometimes make call ringtone gets low and put gesture screen respond tapping consistently',\n",
       " 'received box phone sim tray tool charger w cord jbl in ear headphones w variety tips multi language manual let start review stating i ve cell phones nearly years always tend go middle road models keep years get new one no flagships junk either i ve lg samsung moto etc most big players american market i ve never iphone mention give frame reference experience cell phones formed when shopping phone happened across one heard alcatel before never really considered phones reviews particular model seemed favorable price point seemed really solid choice re hash basic specs read internet i ll touch things i ve noted liked disliked first impression phone nice look it it s thin light hand whole face unit glass sides chromed plastic give pretty high quality look overall no complaints the comes surprisingly nice set jbl in ear headphones mic controller personally style earbuds try definitely pleased sound quality music videos calls after inserting sim sd cards charging bit turned unit walked pretty standard set up routine let update android put usual apps it after bit personalization sorting un used apps thing ready go all while noticed nice screen apps popped open quickly overall positive impression gave me my observations to important thing cell is ability function seems weird feel need state this bet lot people rarely actually call people talk w cell phones t mobile generally reception issues neighborhood actually seems pretty spotty last would often drop calls certain sections neighborhood in house would often use wi fi make calls alcatel works better i ve tried never dropped calls crystal clear reception people i ve talked said sounded calls clear landline the speakers alcatel really quite good considering size music sounds really nice speakers output headphones average speakers either end gives bit stereo effect watching video the picture quality screen quite nicer expected colors good images seem decently sharp not nice galaxy iphone but look price difference watched bunch netflix youtube etc really impressed overall i found size unit almost perfect me actually tall guy big hands etc would think i d bigger phone honestly able put pocket able access functions hand overall convenient size really wish manufacturers would settle making ever larger phones make quality ones size the battery life good exactly heavy user make calls check emails check twitter watch occasional vid really games aside occasional solitaire leave wifi gps easily got day needing charge if particularly light usage day watch video could go nearly hours needing plug in i kind expert android s different iterations tweak phones run different roms anything that say phone s os skin whatever bug me worked no complaints seemed standard android fare i m used to nothing raised flags me just decent system things expected do the cameras front back pretty good think take lot pictures work hobbies portraits anything that record keeping my requirements pretty low say lighting rear camera took nice pictures if used phones price range cameras going seem pretty normal nothing bad report solid camera as phone this subjective really big deal actually bordering silly me i m honest power button left side andthe volume rocker right opposite every i ve had constantly turning intending change volume as said big deal something thought i d mention and now for why rated this stars the astute reader note written past tense returned as much nearly everything phone experienced deal breaking problem two these my first stuck pixel lower right section screen when viewing lighter colors screen terribly noticeable but viewing darker materials movies whatever really stuck out guess i m pretty lucky i ve never kind problems i m realistic know problems slip cracks sometimes figured my turn get bad one no big deal thank goodness amazon prime right so sent back ordered another one after day two using new phone noticed screen problem roughly area one though different problem lower right hand side screen when running finger across screen i d get distortion spot press flatscreen hard pressing hard though no different area screen while defect much less bothersome stuck pixel still problem figured would get worse time so back went still return period amazon so overall cannot recommend particular really wanted it fact screen problem two spot kind spooked it keep eye alcatel idol series may try someday really impressed many aspects',\n",
       " 'do not buy this phone fraudulent listing not an idol small crappy phone with box thatvsays idol alcatel sucks',\n",
       " 'really wanted device opening noticed bright spot near bottom display after days spot grew two got much brighter tapping screen made area flash almost lot pressure performance good end returned display issue really panned out does matter inexpensive product is arrive working condition',\n",
       " 'marred unacceptable bluetooth performance literally drops bluetooth headset put pants pocket on plus side sound speaker functionality quite good reviewers mentioned also exceptionally rugged screen broke fall less feet',\n",
       " 'call quality terrible something fade tin can camera ok image quality well previous phones moto g lg most frustrating all month first time dropped screen shattered outer casing accessory redeeming quality compact size',\n",
       " 'worst phone ever had ever worst terrible dont buy holds battery less day',\n",
       " 'it s price tag really liked battery life aspect screen design makes difficult recommend thin display prone crack my idol screen cracked regular usage i m longer able use',\n",
       " 'never write negative reviews could give piece garbage negative star rating would please trust reviews people garbage cant even handle snapchat app repeatedly crashed restarted even process snapchat video audio video recording laughably bad returned got refurbished g cheaper blows away in every possible category and functionality stay away from this garbage',\n",
       " 'horrible look first months comes up dead pixels broken audio flimsy casing etc if want get cheap smart phone get older galaxy iphone horrible made',\n",
       " 'decent money used flagships prepare embrace lag ui lags severely even hardly apps running pros screen very bright colorful p display speakers jbl audio working great plenty loud microsd great have allows apps natively installed card great feature gb board lte grabbed lte att problem cons lag sooo bad sent back within hours getting it zenfone blows away category no fast charging might able overlooked nexus zenfone get spoiled it overall deal lag sluggishness game tablet tried thinking daily tasks fine ui lagging got me think culprit clocked ghz even lower end zenfone ghz more go zenfone gb ram gb board yea speaker sucks zen display still pretty runs much better',\n",
       " 'so far pretty much dislike hate strong word all in all i m fairly unimpressed understand hype phone last month introduced even saw featured local tv news segment suppose major draw relative affordability compared big brand name smartphones cons i ve looking weeks find complete user manual manufacturer doesn t have one seems lot things features functions covered quick start guide the battery life unimpressive and a half year old samsung note the original first generation note battery life this why heck ringtone notification freaking loud even lowest setting why never turn off vibrate buzz regardless turning settings give option turning off you either lowest but pretty darn loud volume set ringing notifications vibrate buzz there silent silent buzz even option led notification light meant preclude use buzz pros yes display screen quality resolution nice the overall quality manufacturing excellent exactly big name brand expensive phones you cannot tell low priced all looks feels great i prefer big phones phablets find nice size i cannot comment jbl harmon sound heard ringtones notification tones buzzing seem quality modern good to best quality name brand smartphone in fairness things suspect fault learning android lollipop completely yet maybe lot stuff really hate lollipop but i m comparing another family member s new runs lollipop alcatel weird undesirable features functions missing desirable ones for uses it could also well simply right kind smartphone me i use phones internet needed i m near pc messaging occasional actual call photos never music player watching tv movies videos ereader that s massive led hd tvs tablets for',\n",
       " 'price people build quality terrible experience edges speakers started chip even case it know get pay for wouldnt expected fake metal peel easily update contacted alcatel two weeks ago email sent shipping label could exchange handset another one sent back arrived return location week ago tried contactig numerous times email try find information abiut device spent hour half hold didnt even speak anyone after contacted amazon within hour already response helped problem less hour thats amazon king will never buy anything from alcatel again',\n",
       " 'know really relevant idol released feel duty tell experience device also advice stay away maybe even stay away anything released alcatel bought units idol brothers bought july bought third jan i bought amazon shipped live middle east the bit laggy problems hey can t complain however lack support truly shameful stuck android really long time anyway problem here problem think idol huge manufacturing problem few weeks ago screen cracked right headphone jack made things worst use screen cracked thinks digitizer fused screen make thinner thought somehow reason screen cracked guess what yesterday brother cracked too in right spot cracked right headphone jack can t coincidence it s exact place take look images attached review so i m advising stay away idol cheap products alcatel including idol',\n",
       " 'dropped height half feet screen cracked upper left huge crack enough visible also enough completely break touch functionality entire screen performance audio often horrible slowdowns typing say google search text would wait seconds would catch up sometimes thing would outright crash trying catch up guess suffering memory leak can t handle typing another unfortunate issue availability decent cases ones found time purchase terrible cheap feeling absolutely horrible buttons ended throwing case get',\n",
       " 'bought year ago initially happy since recent update however slow times read sim card as in i ll middle conversation call drops look screen says no sim card installed touch screen also gotten buggy sometimes beat half death get engage times calls people something inside purse first turns brushes screen bizarre having said this tmobile issues may related recent removal band compatibility definitely notice huge drop call quality since recent update point want throttle thing window even headset i tried different ones people end complain can t hear me as screen fragile experience dropped many many times often onto concrete floor broken noticed scratching screen kind case swims around purse unprotected there s that i think probably really money tmobile really enjoyed initially felt little smug gotten low price buying something else though i ve lost patience call quality strange bugginess since update',\n",
       " 'battery life',\n",
       " 'false advertising t mobile users beware purchased two phones the first june amazon second sep directly alcatel used amazon fulfill order my primary reason purchases support t mobile band price point well last couple months signal quality noticeably worse missing calls texts etc tried think back changed remembered ota update janurary alcatel after research discovered alcatel s janurary ota firmware update removed support t mobile band they actually took away feature primary reason purchase no warnings communications done secretly two phones perform poorly when contacted response basically screw you too bad read plans update make work it s bringing new car dealer oil change removing transmission without telling leaving useless hunk metal shame alcatel tcl amazon would hope would make right somehow holding breath',\n",
       " 'loved found cannot use google voice properly when making calls dialer go google voice regardless settings after researching online found known issue alcatel resolved deal breaker me an android allow google voice function properly simply unacceptable',\n",
       " 'ever experienced terrible this it touch well click time one day found app data gone log apps change settings app it works slow snapdragon series',\n",
       " 'just received new alcatel touch idol happy hour tried taking video playback audio muffled cut microphones pick noises quite side think background noise cancelling feature built microphone cut much noise there s option adjust sensitivity put crappy microphones cut cost other everything else bad microphones deal breaker me sent mine back',\n",
       " 'slow dead months liked bright screen sound longer works',\n",
       " 'phone suffered screen crack riding pocket minutes driving months purchased not durable would buy again',\n",
       " 'great but find screen',\n",
       " 'owned device two months left top corner device cracked already carryng pocket bottom screen working anymore dont know do go another forums xda see im issues device ton people exact problem feel sad unfortunately made really cheap materials would recomend save little money get another device rather this',\n",
       " 'bought daughter last june th days later september th dead scratches ding phone nothing looks new day hard case film protector amazon warranty daughter called alcatel almost times obtain rma send get checked repaired know new dies days nice apologize alcatel yet send promised email containing return label providing excuses stating understand frustration we need solution excuses replaced alcatel truly defective product repaired summary phone died days alcatel customer service sub par promising provide shipping label get repaired never actually sending it don t waste money',\n",
       " 'hope product this far better phones range but using month bit disappointed here experience mobile good nice screen screen clearly visible sunlight dont fooled phones specs screen works good battery life with casual usage net calling youtube small games text lasted day me awesome sound quality with dual jbl speakers headphones sound awesome call quality also clear ok ergonomics ok with screen size holding bit difficult hold provided special software asus zenphone make easy software pure android part bad performance dont fooled gb ram quad core cpu laggy deal breaker camera autofocus camera useless by time click lens looses focus image blurry same video terrible software not much customization offered too little conclusion with oneplus many mobiles offering better specs better performance mobile choice go point time',\n",
       " 'horribleeee experience cell phone bought first amazon came used i ordered new one tried ordering alcatel webpage came defective color screens wrong horrible brand',\n",
       " 'camera terrible for mp camera colors pics washed many shaky suppose that s lack image stabilization comes play especially indoor photos and mp front facing camera used indoors much noise simply shocked result black shadowy areas full noise even lighted spaces fuzzy my samsung s mp front camera outperformed idol surprising in outside lighting camera merely decent backgrounds would washed out playing exposure helped some simply enough also read perhaps could download different camera app would help faded issue really necessary mp camera also many tech reviews camera positive either faulty device standards way high i really disappointed since nice nice features really get explore anyhow sent back ended biting bullet laying cash lg g',\n",
       " 'even call phone said stolen',\n",
       " 'phone cracks easily first crack bottom half stopped working first days speakers didnt work factory reset it other problems really gets need done camera could use it',\n",
       " 'love sound pictures would give stars got connect elantra keeps saying device media i ve month can t find right info person fix problems also connect photo kiosk rite aid seems specs just can t use bought for feel problems my car rep told use tracfone instead major company at t verizon get put much time figuring issues out i m frustrated if anyone help please let know love phone want connect work',\n",
       " 'amazon would let post true review this longer working properly days use amazon refund purchase price refunded purchase price due product defective blue screen comes stay connected internet purchased two cheap ea however works filing claim credit card company now',\n",
       " 'i ve months almost daily basis exclaim i hate phone i ve midrange phones really liked asus zenfone but idol slow locks lot lot missing functionality seems i can t believe can t phone kinda stuff also expecting lot dual speakers disappointed sound loudness them camera pretty dreadful terrible pictures video recorder awful terms functionality think i ll go back asus justify buying new maybe i ll accidentally drop concrete',\n",
       " 'bought design horrible sd sim card slot breaks taking time go look videos installing sim joke battery removable screen shows every finger mark its slow camera either thing full hd resolution large screen customer service alcatel disgusting guy chatting simply ignored me tried connect someone would help kept redirecting guy worth overall disappointed',\n",
       " 'asked refund product working',\n",
       " 'second alcaltel purchased first alcaltel fierce much better one viewed reviews read information purchasing idol guess high expectations after using short time felt dissatisfied idol felt old huawei acsend mate bottom line could tried day purchasing would still bought it honestly say purchased it is flagship killer in opinion alcaltel needs polish product try little harder next',\n",
       " 'got friday i ve using ever since things things i ve noticed somewhat place pros love screen bright laminated vivid at price point it s truly steal speakers get surprisingly loud at first worried vibrations created turned didn t notice distortions cameras pretty good focusing slow side usually gets right first try exposure works well tap focus camera tip access gallery using camera swipe left battery life consistently get hours screen time pretty book especially coming moto x could get hours max really stretched it cons i preface saying believe mostly software bugs easily fixed air update if anyone else issues knows fix please feel free comment for reason unbeknownst me battery screen show predicted battery life on nexus show projected battery life device approximately reach capacity along lines also noticed lock screen show long battery fully charged double tap wake many others pointed out gimmicky best when works often it s great my mobile connection seem strong moto x idol shows signal many places around home would traditionally least bars smart lock trusted face function always work most time fine but times camera won t even scanning face says can t find face go improve face matching settings still says couldn t find face know front facing camera fine works use camera app all all really enjoy and course can t beat price it s software issues somewhat annoying hopefully alcatel google work fixes honestly believe bugs android nexus sluggish update immediately sped received update',\n",
       " 'do buy unless want last months glue used attach screen weared months screen litlery pealing moment buy',\n",
       " 'used weeks kind liked i m heavy user but pocket looks wrong password entered number times god knows happened when noticed reset screen wiped then tried enter information looks anti theft feature kicked would verify google account saying password incorrect tried many time even changed password laptop entered phone luck someone mentioned changing password need wait days i that would cross point called support poorest ever company launched new product they ended saying loos anti theft feature somehow locked up and need ship repair shop see done and might take weeks i rather contacted amazon excellent customer service started return process phone going back tomorrow',\n",
       " 'sent used box sealed plastic screen clearly removed reapplied there hair underneath it attempted exchange offered return option sent alcatel fault amazon the seem bit lag it see lot reviewers blame specs it s obviously something alcatel skin i m sure simple ota could solve issue really problems double tap feature worked every time me screen nice it s bright nice color speakers best feature sound quality speakers close m surprisingly headphone jack rather weak try jbl headphones klipsch headphones loud my zenfone much better headphone output i would liked least liked try week giving review get passed fact sent used product returned using hour think root vanilla rom could decent pretty build quality screen sound beats high end flagships it s shame alcatel sent used equipment',\n",
       " 'bought wife screen cracked moto g liked nice specs affordable price package looked screen nice battery decent camera surprised us quality pictures all well idol last week screen went bonkers made useless screen went interesting shade green icons shadows making impossible use see picture amazon offered full refund product along screen protectors case bought phone we really wanted idol alcatel needs work quality product',\n",
       " 'wonderful phone adore watching videos it audio incredible well p screen camera also makes instagram snapchat photos pretty sweet consthe battery life nothing write home seeing dies without light use within hours however make sense why mine heats rather quickly able take batteryedit loved lasted months refuses work even reset taking sim card anything else i ve taking care it dropped times screen even cracked there water damage think batter what sucks batteries replaceable i m stuck college s miles away home it s needed reliable',\n",
       " 'bought gift wanna say months maybe problems never end power button got stuck somehow cant use cant screenshot wore fast battery life shortens quickly being many reviews saw significant let down',\n",
       " 'failed days order recourse return based day policy there even clear ability communicate amazon this this unfortunate customer service issuewould purchase',\n",
       " 'worst ever got days somehow scratch touch screen sure drop it or perhaps pressed screen hard then touch screen totally doomed think used regular glass htc m before dropped hand times never scratch screen quality cell big concern cell gets heated quickly playing small game chatting minutes',\n",
       " 'gps problems everything else great can t lock gps position save life constantly says gps signal lost',\n",
       " 'well bit guess time review the good looks nice feels nice hand the audio quality actually pretty awesome screen pretty goodthe bad battery life average best switching power volume button sides norm thought would get used it months still gets annoying crashes locks least day the speakers collect ton pocket debris somewhat slow charge using charger including a fast charger time answer speaker active showing ui toggle on get normal super annoying hold speakers loud ear someone starts talking never use speaker headset nothing anything phone this alcatel s best can t give gorilla glass comparable thing fragile mine slipped kitchen counter landed bowl crunchy dog food shattered yes case way screen sticks bit seems make magnet breakage according looks lot people price there seems lot pretty nice would call secondary brand androids coming lately many price point even lower probably right now in conclusion do shopping comparing wisely would bet reading review me tired paying samsung apple phones also locked while phones price are compare brands enjoy savings new found freedom compare note expect to also truth really miss note features made note awesome got turned anyhow use nfc face tracking eye scrolling etc literally never even used s pen what use has lot reasonably prices phones now i m necessarily saying buy it might love it just make sure know options choose this don t drop it lol',\n",
       " 'price but randomly drops signal completely regain signal several minutes time also laggy browsing web taking several seconds respond with specs considered lagging problems hopefully releasing software update fix point',\n",
       " 'impressions days positives battery life would guess hours screen time easy speakers absolutely awesome screen excellent bright wish could reduce brightness might give longer battery life boot problems wifi things heat etc user experience fast enough better nexus build quality negatives camera ok money need unlocked boot loader root desperately alcatel needs realize customers i e type people buy phones provide need biggest negative unacceptable tmobile reception approx dbm lower nexus overall signal poor used get lte nexus can t imho deal breaker me seriously thinking returning added image phones side side image place excellent reception from place poor reception nexus strength approx dbm holds lte idol less dbm cannot hold lte reverts hspa umts other antutu bit score',\n",
       " 'start saying excellent worked flawlessly recently months now inside case power button stopped functioning correctly still feel mechanical action button functioning correctly button working electrically possibly due broken solder joint say get occasional functionality press button point feels break phone works screen may flash three times electrically connected three times alcatel s support warranty requires owner pay shipping facility leaving owner without duration shipping repairs level support broken warranty unacceptable',\n",
       " 'had return some issues',\n",
       " 'buy mobile you work g band g lte also come onetouch stream',\n",
       " 'hi the description product say is global unlocked use lte doesnt work if help i ll really appreciate that anything else ok alcatel onetouch idol global unlocked g lte smartphone hd ips display gb gsm us warranty',\n",
       " 'kicking buying all really wanted make calls txt and use apps not heavy user problems started day return policy my reception poor say least at home wife s apple getting bars reception problems sometimes would get bars mostly no service emergency only so buy signal booster house great wife help me next pattern swipe access work you end calling mexico help want go thru factory reset so do times still failure pattern swipe reception improved now want back fix replace i m without diddle around it if thinking buying phone keep thinking',\n",
       " 'tells emegency calls reason',\n",
       " 'item damaged really bad ended pay repairs this buy end in case wondering screen fell device',\n",
       " 'really really wanted love mean could ask for super thin light stereo front facing speakers amazing sound quality full hd screen bright crisp nearly pure version android lollipop respectable battery life jbl headset in the box attractive looks enough different crowd people ask hey kind that sounds great right problem two fold there gb available storage phone really really small well say problem supports micro sd cards gb right yes support micro sd cards implementation almost unusable you cannot move apps sd card really oh option application manager move sd card way they ve made filesystem illusion app actually moving move app go look sd card file manager find nothing actually moved further apps like amazon music allow selecting files go recognize sd card some time other times nada also sometime sd card mount leaving lots missed apps files even though apps actually on sd card last complaint wifi reception speeds sketchy compared devices house in end sent back bought used note guess little too little charge',\n",
       " 'got crappy work hour use',\n",
       " 'screen speakers battery life well phones weakest points build quality performance became frustrafing use looks speaker screen movement seemed separated',\n",
       " 'would recommend not supported manufacturer there support whatsoever it s biggest problem software even faq blog go to do not buy this phone',\n",
       " 'processor super slow battery life sucks full charge overnight even hours already near lags lot annoys lot slow unresponsive get recommend anyone getting waiting open simple messenger app',\n",
       " 'very unhappy phone cannot send receive pictures message also cannot delete emails says i m connected yet i m line i ve talked carriers say settings correct cannot continue deal this i m pulling hair out i ll returning soon get another get information one',\n",
       " 'good price excellent display speakers processor little slow',\n",
       " 'bought wife she hates it non intuitive wifi drops regularly although reports connected i ve tried troubleshooting it hate too troubleshooting answer problem saves last ip address wifi sub optimal router using fixed addresses win win linux android fire platforms handled problem the manual support site useful we ve still got beef often taking screen shots apparent reason i might raise rating i m still trouble wife buying her',\n",
       " 'good overall excellent speakers user friendly i ve months now problems see major issues reception text message issues reception extremely spotty galaxy s next sometimes idol emergency calls s bar g lte text messages come order sometimes also group texts revert date fall bottom text queue also lag noticeable textsbecause major issues would likely buy again',\n",
       " 'good enough price can t beat',\n",
       " 'phone stopped working turn less year vendor good guys say warranty days trying deal directly alcatel get buying reputable brands samsung apple etc will never buy alcatel again',\n",
       " 'seemed ok first out nowhere power button started shorting out pressed would turn back stuck electrical problem physical though few weeks later sd slot failed i ve hold alcatel trying return last minutes company products seems pretty bad followup volume button automatically starts increasing volume shorting similar power button turns display causes battery drain quickly when battery fully drains turn even full charge overcharged another hour turns on had charge mine hours last time battery complete drained would turn back on the person said review helpful probably shill working crap company',\n",
       " 'crashes reboots frequently in whatsapp hangs viewing image slow screen already break without dropping it rubber protector worst hairline break screen made keyboard useless can t return phone dead days i made mistake buying it',\n",
       " 'disappointed purchase using less weeks close flushing toilet within days using it noticed started freezing hours end battery pull resolve temporarily please note ever downloaded app that s whatsapp about th day using phone noticed began shutting own sometimes restarts times doesn t another issue wifi keeps turning jumping internet also mobile data also spontaneously turns itself yes that s issues days owning become bane existence frustrated phone even deserve th star never purchase ever want even gifted one also warn everyone know purchase phone statisfaction receive reasonable price surely negated shortly thereafter range issues has guess dig deeper purchase reliable undoubtedly cost times paid this felt wasted certain thing alcatel never brought home again people warned don t waste energy money time save get better phone warranty accountability company s part importantly never purchase amazon totally dissatisfied entire purchase also never received mr shield screen protector contacted told contact amazon known raw deal returned everything alas never ever happen again worst purchase ever',\n",
       " 'after years iphones first android initially thrilled cheap large seemed work well that ended two months started lagging and or crashing constantly resetting times every day became near useless reinstalled wiped multiple times nothing improved it camera also poor compared iphone even androids fortunately got stolen months excuse buy new',\n",
       " 'reboots times hangs calls times',\n",
       " 'work had mind own need send back nd one it thing i ve sworn alcatel good',\n",
       " 'slow want navigate somewhere well might take minutes load directions also sends receives group messages very inconvenient come bottom message inbox also broke months would buy item again in fact despite money lost relived broke',\n",
       " 'out box already problems during setup developed serious error could resolved factory reset used days factory reset pretty happy performance but morning went turn first time black screen tried holding power button several seconds nothing tried factory reset nothing since battery removable there s nothing done except send back it s really bad waited weeks come first week already turned piece junk super disappointed',\n",
       " 'decided put big name flagship bit pleasantly surprised this device boasts bright even low large screen decent processor android lollipop front facing speakers battery life lte band need t mobile and whole package comes insanely low price it s fast oneplus one s processor overall i ll take front facing speakers better lte minimal processor speed gains octacore bit snail compete big name device imho speed races over software hardware optimization key alcatel job oh brings jbl headphones rare oem puts accessories devices now even include chargers software wise much vanilla like screen rotates matter way turn it adjusts you also double tap wake and sleep it s simple things love and since running snapdragon compatibility issues intel slow downs mediatek ultimately used oneplus customizations opo called back me but old flagship killer would i m recommending device everyone update i device case screen protector suffered first drop hands screen shattered be very careful also plan getting tempered glass protector get back in case run issues rma i m paying for i ll update update really expensive repair service triage fee charged whether get repaired not pay get back screen replacementi m done alcatel',\n",
       " 'stay away alcatel products they updates us benefit real update forced onto idol removed band big deal use tmobile alcatel advertised band capable not',\n",
       " 'garbage stay away work months lcd stop working pay dollars week without send alcatel two months later power button stop working physically fine guess electrical y no just terrible quality control super cheap parts do waste money ive read least another reviews issues less year meticulus condition bomb proof case entire time thank god moto g backup bought used first time garbage broke lesson learned stick big names htc samsung lg apple moto lenovo dollars drain smh don t company still around',\n",
       " 'sim tray problem use nano sim card adapter',\n",
       " 'not bad phone one out box pretty quick installing apps little use slows way down the pictures video good poor placement camera lens takes getting used to lot shots edge finger them it s light thin bad good because well light thin bad because made plastic light feels cheap i fact mostly stock interface customization if thinking would and did spend dollars get asus zenfone lightyears ahead in terms performance little bit more the photos video idol slightly better everything else zenfone better',\n",
       " 'u ther option u better stay days thru good then everything went downhill lags stutters freezes point begins get hot locks up feel ok hand oh yeah speakers good',\n",
       " 'bottom half screen stopped working respond touch guess get pay for',\n",
       " 'beautiful well performing android processor quick takes decent pictures display nice however home button stopped working months use now cannot let go sleep mode let battery die come back on',\n",
       " 'best mid range smart market bought mother in law amazing performer great display camera size she absolutely loves it update just purchased another phones september replace original screen broken one morning week ago mother in law woke longer works it s month past return date sold almost twice paid it if new battery fix dead issue r sick new work',\n",
       " 'after week exploded pocket returned bought way better plus one',\n",
       " 'don t buy use t mobile g towersalcatel removed band without warning and help contacted several times',\n",
       " 'drawback alcatel claims gb internal storage check drive settings storage find gb internal storage words described product sales get discouraged little',\n",
       " 'void stickers called new does mean i m covered warranty box looks open',\n",
       " 'no doubt it everything reviews say a beautiful screen great sound great battery noticed lag i clear tasks regularly offer flagship experience edit after using months ultra flagship accuses initially still bad money better now cpu uses little big allowing swap strong weak quadcore solution match need the issue the weaker cpu cluster seriously weak daily tasks normal use suffers severely multitasking superb even items open biggest issue the keeps going berzerk never dropped it damaged i ve never broken even screen smartphone life that s it screen starts flickering rapid image distortions dropped pool blue screens fast flickers',\n",
       " 'gets really hot charging it after android updates runs extremely slow very glitchy thing speakers would pass has hard time multi tasking should got zenfone',\n",
       " 'liked screen speakers phenomenal performance unacceptable browser always bogged would freeze mid scroll bluetooth horrendous would connect car disconnect i ve returned',\n",
       " 'ok got early offer dollar promotion comes bells whistles including headphones after three week use half touch screen stop responding full battery last hours regular use occasional mins video noticed problem making call party hear talking occasional',\n",
       " 'so usually rushing write reviews however take much time conclude somewhat mediocre device falls terribly disappointingly short satisfaction consider rating scale stars i ll explain why depending looking cell phone rating go down at least seen reviews i ll cut chase pro speakers jbl sound system amazing to point music played thing plays lap top speakers believe not you carrying mini boombox alcatel gets star area they loud nonetheless please careful considerate going sound person relatively nice suv speaker system rattles look okay my friend thought something expensive high end super light screen resolution okay not k c mon hd sorry hear reviews people received defect units con the double tap function is almost non existent don t know if this is an alcatel or software problem most likely something device all stars received excellent polished devices problems find really hard believe annoying you use power button turn off sim card did not read applications had before and overall phone interface can take time to take use to think screen scratch resistant phone can be sluggish which is annoying was not expecting this from a dollar phone have an old lg f metro pcs honesty know slower faster times some applications stopped working together uninstall install again wtf really caveat my employer subsidized cost meant paid pocket cell but trying best objective also say would paid phone which brings item number coverage at t drops randomly don t care how many star reviews this phone has on amazon this along laggyness dropped review solid star a one star doesn t make a difference in my book of reviewing hesitant rating star made clear crying glte percent time can t hear someone bars drop phones drop signal in area reception this statement compares cell phones house just make sense second caveat pay monthly service service all but still would not want to pay for service just to have a good looking toy phone with good speakers nope sorry this would better choice presale price stayed less worth in my opinion chipset ram bit mid range terms specs nothing honest especially entering age ram cell phones snapdragon chipsets range melta kits etc battery life least case impressive know device what but using slightly heavy appears battery drains rather quickly compared reviews online boasting phones battery life phone gets warm point hot near camera use not even using hours just using alarming not sure normal cool know yet want hassle buy another send back get money etc even though amazon seems well returns wonder anyone else similar dilemma did anyone return it get money back bought another alcatel something else hope review helped someone there go ahead buy it please read reviews seems us got bad batch maybe go try luck could easily solid star know star honest also picky lot homework getting even doubts guess never know till hands good luck ya ll',\n",
       " 'phone looks good sounds good even hold hand tremendous amount lag takes much time apps install importantly signal reception device terrible constantly without service device as soon pop sim insert g note boom full g lte i m at t double tap wake almost never works unorthodox button placement pia get used to i understand lag issue budge device come alcatel phones reception problems days there s reason see can hear now commercials',\n",
       " 'it s nice lte functions okay installed different launcher came stock great my bottom volume button stopped functioning weeks bummer reversible function rotate get bottom volume button work',\n",
       " 'scratches easy screen protector sent work properly fell today digitizer gone it heats battery worst luck ever phones',\n",
       " 'screen died week purchasing screen suddenly started display stripes colors completely off phone generally experience gentle lag reviews refer to not deal breaker noticeable issue screen however prompt return lot confidence hold based sudden change screen quality i ve trying mid range well rated phones late luck well asus zenfone guess i ll continuing searching suck get unlocked iphone want something little relaible want love phone almost there headphones really good screen crapped out want putz around troubleshooting something bought better luck next time hope',\n",
       " 'awesome device price feels hand great display even sunlight loud audio really cool software features pretty fast noticed little stutter downloading web page multiple embedded mixed media did try games it double tap sleep great double tap wake worked time minimal bloatware a pleasure use the problem using t mobile could get enough signal house make receive calls texts figured carrier issue since kids in house carrier issues cell reception moto x samsung galaxy s sim card issue put inch chinese tablet meant used u s able get strong consistent g signal make calls clarity my seemed locked finding lte signal instead dropping g g connections would simply connect all through house would get no signal emergency calls mode if changed settings g g could sometimes get signal while would suddenly disappear even moved sitting table lost signal completely local subway doctor s office call cutoff couple times sitting mall parking lot need kids able reach times case emergency signal strength throughout house would dbm asu lte signal all got samsung galaxy s sale able connect consistently throughout house it s lte signal strength dbm asu idol dbm worse hence calls right s switched hspa dbm asu idol would never switch down lose connection not sure problem specific general software issue galaxy s also make wifi calls kept s returned idol i connectivity idol work adjacent city live area coverage venture area much may work you while sorting issue alcatel responsive emails seller hope next better antenna wifi enabled calls really liked device really wanted work me bottom line best keep connection carrier area make receive calls texts a can t make calls useless me for reception got device price',\n",
       " 'so much joys unlocked phones regardless whether let android automatically detect network manually choose discovered metropcs networks receive error sim card not permitted connect network went youtube created custom apns avail alcatel pdf says need plop sim micro flash let android rest dollar brick moment returned sim back old well not experience expected read alcatel guide online update replacement chinese language error messages that first hint initial unusual problem amazon returns easy soon box ups queue refund issued same day metro would associate id network without purchase new dollar sim card store would think active sim previous device associated new device work would mistaken that s roll apparently their rationale stolen phones network bane procedure makes lives easier associating per card whatever how nice them folks company owned store polite efficient it though phone itself pretty good if recent apps screen esoteric animation would performance lags report launching switching apps quick great media device handles everything throw ease while sony hardware so so looks preloaded software best either swap installed camera app after market reported camera deficiencies improved even lower light for bucks hard beat average use cell connoisseurs never ignore hate',\n",
       " 'purchased uncle iirc language selections english us english uk french spanish remember rest the thing android os many languages available root yet alcatel purposely disabled rest languages made unavailable it uncle read english well surprised alcatel tweaked os make lot languages unavailable',\n",
       " 'have sub two weeks nothing issues box constant freezing crashing cant even use certain apps photos load straight goes black screen restarts least day very unhappy customer point time',\n",
       " 'great screen slim light occasionally gets quite warm reason two stars durability none power switch quit months first i ve owned phones never power switch quit me bought second family member screen auto cracked likely reason versus year ago great expect last year',\n",
       " 'i ve months thoroughly disappointed it multitask well freezes inopportune times and begun restarting randomly throughout day save money',\n",
       " 'screen cracked less month bought it either emailed called alcatel two months later remote location without ability pack something ship it they said nothing could except charge repair really disappointed cause looking forward using unusable since lower half screen unresponsive',\n",
       " 'first alcatel onetouch these i ve experienced usage i bought brother s iphone s slow small he already used android device feels comfortable ios pros thin lightweight design not kind thing people would it great display almost rivals oneplus daily driver loud speakers louder galaxy s lg g oneplus loud htc one m moto x pure edition nexus p nice battery life better galaxy s nexus p clean ui uninstallable bloatware stock android like interface cons average performance ghz octa core s gb ram asus zenfone oneplus x average rear facing camera colors dull focus slow charging speed hours bloatware even though uninstalled it d nice come it not durable enough doesn t feel robust dependable price it needs so overall okay price would go zenfone oneplus x also honor x similar specs idol so fault bought one better',\n",
       " 'bought reviews seen price specs has after months use say definitely say huge disappointment the idol nice big p display looks great gb ram decent processor slim sleek design mostly bloat free stock android os unfortunately software horribly unoptimized suffers lots performance issues lag watching videos youtube blurry pictures camera apps taking ages open examples i bricked trying take system update set warranty repair website overnighted alcatel only returned days later unrepaired water damage my case since day never submerged splashed water clearly want honor warranty pair fact rarely gets patches likely never updated android recommend paying little galaxy lg nexus',\n",
       " 'really really wanted screen fantastic speakers amazing absolutely blows away moto x regard processor ok there s bit lag overwhelming something easily live with battery life seemed really fantastic mostly device i ran problems comes using calls sound muddy everyone spoke issues understanding me coming moto x fantastic call quality disappointing using speakerphone mode help all anything made worse i ve also noticed struggled signal strength areas x issue consistently pulling signal anywhere dbm worse x maybe got bad device reading reviews i ve noticed muffled calls signal issues seem commonplace honestly slightly better microphone antenna would make killer if goal use browser apps fine if plan anything occasional call i d look something else',\n",
       " 'never disappointed item amazon one first points display audio top notch not even grading curve phone better flagship i ve had as better display i ve seen front facing stereo speakers amazing no question it performed fairly well little bit slower lg optimus g pro basic specs unit almost stock android lollipop nice thing have much bloatware removed changed phone s supplied launcher google launcher gave unit even stock android feel i known nightmare opened found alcatel include tool that s needed pop sim sd card tray took couple hours find something small enough fit tiny hole releases tray since arrived saturday alcatel tech support closed amazon help offering send replacement might arrive monday likely would come tuesday glad pay amazon prime get speedy service product defective but finally got tray open able insert sim sd cards current turned immediately found at t provisioned smoothly thought races boy wrong i spent almost two days migrating apps old one arranging icons screen wanted this allowed icons row lg nfc setup process replicate current screen arrangement re entering login information apps fair amount apps took while in order clean cache speed bit everything just so restarted phone something i ve done ten android phones i ve years when came back up noticed third app icons gone home screens just gone and tried open couple apps got message bottom screen app installed i know android funky things waited ten minutes see information would show screen changed rebooted again when came on even more icons missing home screens could find not all missing apps app drawer could launch half them but data gone little chance getting back and since lost data second time restarted phone really interested restarting losing even data so two days spent getting loaded blown second tried restart it hardly call small bug looking around developer forums seem bug tied android running alcatel layer it so either alcatel modifications hardware issue causing problem either way kind performance completely unacceptable think parts price right going lose data can t trust continue use it even kid s blu stable device is so back amazon goes along accessories supposed arrive sunday come amazon made deal devil chose usps handle sunday deliveries all all lesson sometimes get pay for case got useless low quality inside looks outside oh thing amazon chose ship via usps padded envelope box found envelope jammed mailbox mail making tight squeeze get envelope mailbox without tearing it so less protection probably went postal system could led kind hardware defect i m going try luck another phone especially amazon going use insecure way ship bet ship s s envelopes just sayin next time i ll spend little money get trust',\n",
       " 'great phone reliable fast all expect reviews until reaches tried recharging hours hold charge would hold power button seconds response led light looked issue could two problems firmware might setting hibernation might loose connection power button socket want void warranty replaced amazon i waited another days new seemed fine led light would constantly flash even apps notifications turned off let go work tested would able turn back again charged hours time responsive led light would turn charging would it know bad luck replacing last time if true hold charge don t let drain completely turn on',\n",
       " 'second alcatel onetouch idol set shut able use device again going wallmart tomorrow sim card does nt fix it going back amazon one star lower option',\n",
       " 'really wanted looked specs read reviews searched online best money decided get everyone raved it they said best blah blah probably seen too lets start good pretty decent camera nice big screen that s it consider simple man buy something supposed serve purpose froze time experience stutter others experienced froze crashed often at first thought fault cleared cache deleted useless folders downloaded cleaner apps etc nothing worked kept freezing crashing rebooting middle things i ve two weeks i ve it in rage twisted hands shattered lcd screen mangled housing felt awesome all all known better released we re living two years tech industry lifetime make mistake made if hate freezing unresponsive garbage cell phones don t buy product',\n",
       " 'year idol i wish would ve bought moto x pure when works works fine i ve couple factory resets i ve send repaired screen popped body stay locked cell data signal back repair shop again spend extra money get something reliable',\n",
       " 'decent price but cheap products always downfall gotten visibly slower came around two months already speed decreased certain amount issue disappointing one back squeaks clicks press it probably means back cover gotten loose somehow never dropped phone use roughly gentle it month use the month spent trip back already loose disappointed return period already over i hopeful smartphone seems reason higher end phones priced way are',\n",
       " 'purchased july ok review customer service be aware purchase customer service horrible beginning october issues sd sims slot reading contacted alcatel concerning problem told would send repaired days when asked long quote customer service person said sent email want complained twitter alcatel company contacted problem saying needed information week still spoken anyone gotten help problem horrible customer service horrible guess pay get final verdict alcatel could offer free shipping label if purchase product breaks send repair center they offer replace even send refurbish phone garbage company garbage would buy',\n",
       " 'months now definitely phone shortfalls well built although made plastic feel solid build almost solid iphone without weight screen good although tend keep brightness get comparable display iphone colors luch iphone tad washed dont even notice sound external speakers amazing love it sound headphones earphones quality ones came it low matter app use watch videos hear music find little low taste vanilla os awesome installing apps months use feels sluggish slow find constantly clean ram etc for price point ok think cost little lower considering phones range easily outperform device true love reason buying thickness feel it besides that didnt fine much special it also appeard re pack box sealed headphones defective called alcatel support exchange headphones nice said simply send new pair that two months ago never got anything still call again sux chase something purchased supposedly brand new stars however phone nothing headphone used experience',\n",
       " 'screen capture button horrible button power on screen brightness another issue hard take pics outdoors sun shine good batteries camera fast processor awesome speakers music',\n",
       " 'bought christmas gift daughter it s middle may months got it already charging problems power issues she takes care things abuse them we ve frustrated it we big screen sound quality specs promised issues mentioned driving us away ever trusting alcatel brand again not mention first alcatel issue with dealt alcatel onetouch fierce s sound quality going bad touch screen responding past owning half year thought i d give another try due raving reviews alcatel brand failed again',\n",
       " 'had since november months using power button become unresponsive fully functional',\n",
       " 'worked months battery life phenomenal systems simple use issues then nightmare began at first battery would die hit would put back charger wait reboot charge back less hour later would happen again eventually stopped allowing anything all alcatel real support save call number anything you tried replacing battery issue continued took local repair shop three weeks gave back refunded charges telling must software issue battery charging ports work fine however alcatel real customer troubleshooting service way fix it there reason people buy trusted companies well established reputations troubleshooting repairs save headache get moto g sell soul get iphone you drop something last less six months',\n",
       " 'alcatel slow dates appears update setting stage dead end does support wifi calling they gone way preventing rooting u root luck u want revert they mess partition lock okay phone alcatel s anal approach prevent custom o s',\n",
       " 'almost year two weeks wrote review alcatel s website to dismay checked back review wrote may stars gave it altered stars bump two four stars wrote edited shortening bad part review absolutely disgusted bad price customer service all heard similar complaints and complaints stem questions updates came lollipop they respond asked customers regarding updates not website facebook speaking them speak updates answer you because never buy again',\n",
       " 'probably best price really bright screen thin sd card slot fast processor front facing speakers and nfc new moto g oneplus huawei p lite have it s also going updated get protected stagefright bug soon nice see company caring users however while bag got cracked there case still got cracked digitizer work shipped alcatel repair costing fix it so please buy tempered glass screen put pressure even noticed press hard enough see spots guess lcd if looking crack easy similar price recommend oneplus one i ve hade small orzly fusion case cracked tempered glass that s recently',\n",
       " 'big screen nice slow sometimes shuts really annoying also hate button turn screen left volume right it s backwards every i ve ever had',\n",
       " 'preordered found use ting service loving it its beautiful constantly people asking it however mine seems get hot quickly watching videos recently battery expanded caused bend still works fine battery life seem suffered annoying ascetically on top ear buds come already died side i d months disappointing excited recommending now',\n",
       " 'piece crap broke within months minimal ware customer service terrible parts available device i wasted bucks i m never buying anything alcatel again',\n",
       " 'i ve using amazon almost decade now my household spends hundreds thousands amazon purchases annually i m product review sort guy typically read everyone else s comments determine product worthy not amazon reviews rarely steered wrong in case must make exception share experience alcatel touch idol love everything phone except quality screen materials scratches mean little types phones years flagships burners never experienced scratch prone alcatel always use case never bothered screen protector since careful electronics thus screens remained pristine proud new bargain flagship specs until noticed multiple scratches appear nowhere they increasing well possible conclusion scratched pulling pocket seriously nobody else touches phone kids pets nothing well damage done put suppose features amazing you warned luck fellow shoppers',\n",
       " 'performance really choppy lot lag your able play games without lag graphic intensive games going lag crazy can t even play something dumb ways die without lagging incredibly game even graphic intensive also use minutes gets extremely hot touch back even i m browsing web get really really hot point stings camera okay its performs really well lighting bad lighting super blurry really little detail opening apps pain ass takes forever open just know notification light color double tap wake sometimes really unresponsive but two things that s extremely speakers display speakers extremely loud display really sharp colors pretty accurate contrast brightness turned max crazy bright going outside sun worry using gave three instead something lower speakers display oh yeah headphones comes really awesome gotta really careful around tip plug thingy since bend it break that s happened mine months already broken can t even use listen use headphones',\n",
       " 'when first got blown away beautiful screen incredible speakers upon using months say feels slow google nexus the dual core samsung screen managed develop tiny yellow spot seems someone went highlighter go away buttons becoming increasingly unresponsive refresh device helped battery average it s wonderful watching listening shows screen still looks pretty decent especially size speakers great included ear buds pretty decent well still even month owning thing already disappointed in if need new phone decent especially interface sluggish unresponsive',\n",
       " 'originally gave stellar review however case get pay for stopped charging week missed amazon return policy window',\n",
       " 'to preface review coming nexus served well till recent android updates buggy killed battery life previously almost perfect device now onto idol it s gorgeous phone big bright crisp screen lovely design ui lightly skinned thing i m fan stock android benchmark scores top notch blow away nexus par samsung s for price getting lot here yet significant areas improvement shutter speed quick indoor photos noisy there s bit general ui lag obtrusive these issues monumental considering price more concerning browsing certain flash heavy sites using chrome stock browse espn boston com browser lags stutters point essentially unusable serious issue obviously use phones portable web browsers lot to can t navigate well knows many different sites near deal breaker other users various web forums experiencing thing me also note overloaded ton random apps muddy waters i ve day two hopefully launch issue alcatel can t push fix within next couple weeks thing going back stars stuttering browser issue otherwise star',\n",
       " 'update alcatel recently released update while fixed double tap wake issue previously worked inconsistently broke google voice interception outbound calls therefore nearly unusable phone since primary number google voice number as inconvenient workaround load google voice webpage order make call considering replace recommend anyone uses google voice make outbound calls if already use google voice do not install the latest update original review the idol excellent pre order price at regular price recommend weighing pros cons two year old flagship phones sell similar price looking forward alcatel addressing cons listed firmware update pros beautiful screen good battery life android lollipop experience without unnecessary clutter very speakers cell phone micro sd card slotcons double tap wake feature unreliable may well exist minimum volume setting notifications ringtones loud screen sometimes go sleep set time period poorer performance day to day use non intensive apps web browsing e mail year old flagship phones sell price lg g home screen option fitting columns icons instead poorer low light camera performance lg g too much noise non removable battery high hard to reach power button',\n",
       " 'far neutral onetouch decent screen expandable memory fast enough processor all would rating highly price nice however came non functioning gesture keyboard and bad enough attempted call alcatel try resolve issue first download alcatel support app number non functional strike then tried call number listed manual weekends holidays strike and last least question releases arrives holiday weekend support available fashion ever strike while fix keyboard issue downloading free keyboard app would original equipment software work properly searching web found others complaining issue help website buy risk',\n",
       " 'really pleased unboxed set via wifi at point would given stars unfortunately changed attempted install sim micro sd card when inserted tray recognized stuck side tiny bit slight angle when went remove try reinsert tray broke pulling back out thought maybe could get another tray turned contacts fell out idea whether design defect got defective much pre release discount',\n",
       " 'nice many glitches',\n",
       " 'but many issues hard ignore alcatel absolutely take iteration something perfect first let s talk pros price absolutely amazing value buck speedy plenty fast enough almost anyone needs fee stutters navigating around camera actually best i ve used outside phones almost everything listed con seriously thing overall now cons minor eventually become deal breakers bluetooth audio hollow sounding any media music podcasts calls sounds listening tin telephone if ever use bluetooth notice almost immediately power button un intuitive location seriously guys standard android volume power button right side having volume right power left needless change just put everyone else does may device week ago combination sim tray sd card tray in real pain load unload seemed stop working my photos stopped backing calls go through i d get replacement issues i ll get refund again really idea alcatel going definitely fix issues flagship level',\n",
       " 'it s use browse web lot lack memory hurts experience scrolling webpages become unpleasant experience hopefully next version memory wich would fix issue',\n",
       " 'display easy crack cracked just tiny crack become totally touch unresponsive unlike phones won t buy alcatel',\n",
       " 'everything positive said true but face chat great complaints called friend chatted video camera and know go google images pixels images pretty bad i ve never issues phone i ve alcatel fierce so gave stars reason',\n",
       " 'to start decent generation clear screen feels hand nice weight unfortunately sim card stop registering google play open phone work week the sim card fine placed different worked properly in old slow looks feels nice',\n",
       " 'loving beautiful display amped front facing speakers near stock android lollipop experience running smoothly then happened know happened hardest part woke last sunday morning broken digitizer pulled lower pocket cargo shorts resided several times since purchase inch long crack across top right corner screen along came disabled lower half screen input i ordered digitizer ebay despite lack online tutorials replacing anything new ish please note difficult get into find nearly impossible reassemble without rendered completely useless disassembly the design speakers near edges lend sort meaningful case usage so back using nearly year old samsung galaxy s i tried alcatel',\n",
       " 'loved everything except camera totally sucked perfect lighting situation if camera important',\n",
       " 'i m giving seems for me fundamental flaw ergonomics way switches set never right place also seem constantly grabbing hitting switches time seems try shut down take screenshot phone neither like took figure trying shoot photo gripping manner hit buttons kept shutting down i ve similar android phones never issue the icons cartoon y i put icon pack create shortcuts look them seems rather slow respond for example change screens shut open apps seems work ok i m trouble manipulating it setup relatively simple straightforward coming another unlocked android i would buy again keep want hassle getting another my old stopped working purchase researched made bit quickly might liked',\n",
       " 'incredibly poor build quality limited experience first received failed lcd panel took box box packaging visible damage second one s lcd panel seperating phone s casing i ve gentle months i ve it given track record far two i ve received can t recommend phone especially since purchasing international version this version via amazon means manufacturer warranty defects repairs the also performs poorly moto g rd gen same price range better build quality original firmware newest official firmware several third party firmwares i ve tried cm blisspop rr others',\n",
       " 'droped work more durability low nice though',\n",
       " 'it s best pretty price',\n",
       " 'decent phone shame died day year warranty ended playing kingdom hearts unchained x symptoms were got hot touch screen became unresponsive off next day blue screen rebooted another blue screen completely died dual front facing speakers get nice loud that s huge plus mine came jbl earbuds awesome considering phones even include anymore but placement auxiliary port located top weird mini usb port located bottom if used magnetic air vent holders car things get messy there s clear orientation cable management want plug auxiliary cable charging however reversible design nice make auxiliary cable located bottom relatively putting upside down coming samsung galaxy s idol s screen much vibrant also mm thin mm thicker thinnest there also plan getting case phone back really slippery zero grip awful thin so get sweaty hands due heat emitted phone chance falling quite high another plus alcatel provide software update android marshmallow thought would considering idol coming out idol made chinese company really provide software support idol budget stock os really come lot bloat although surprisingly clock app comes actually made avg guys make antivirus would found day play store decided update clock app updated clock app terrible went away google s material design awkward interface average rating around stars avg reverted back original clock app biggest con would mention slow flash storage really noticeable load files install apps play store oh well time get new lesson always back texts photos well get extended warranty plan using long time especially devices removable back cover set expected usage year anyways bought considering bought it get cheaper that s expected time goes on update wow still honored warranty died fantastic service went beyond they shipped back day ups air too',\n",
       " 'received paper stapler buy cell the order gives option open claim please',\n",
       " 'sent back laggy using chrome',\n",
       " 'pros speakers loudest i ve hearddisplay bright vividthe speed pretty fast remove minimal bloat especially antivirusvery lightweightbattery life decentcons bad lte receptioncamera good flash way weak low light abysmaltap wake spotty sometimes slow wake up i d rather disable itugly branding back sticker would solve thisnot many cases thereoverall i returned thing a loses signal bars towers freeway la i m t mobile cheap old lg f beast compared this my new lg g picks fine too gave idol chance did alcatel even test bit field what band trouble band',\n",
       " 'for price paid worked after month screen mine cracked rendered unresponsive touch therefore useless silicone case temper glass protective screen since first day never drop abuse anyway screen cracked reason pocket itself unfortunately physical damage covered warranty be warned',\n",
       " 'average buggy performance',\n",
       " 'got replacement device auto restarts crazy i wish anymore',\n",
       " 'gets star bc kept shutting off would freeze shut middle something or could b across rm would shut off not sure got bad shutting every seconds',\n",
       " 'bought capable supporting mhz band lte better building penetration unfortunately alcatel unable design support volte realized marketing compliant entire band must disabled prevent situation user would unable reach emergency services lost lot value eye result if known band would supported would purchased different',\n",
       " 'very glitchy easy use screen sound though',\n",
       " 'my screen keeps poppin broke something would buy different',\n",
       " 'after three weeks screen cracked pocket rendering touch screen inoperable phone s screen weak could survive brisk jaunt around city on top this tried repurchase replacement phone order cancelled alcatel funds still removed account go twice hassle bank alcatel customer service get money back alcatel customer service reps less helpful borderline apathetic matters based experiences seems alcatel unscrupulous company peddling threadbare phones piss poor customer service infrastructure hand shoddy craftsmanship avoid alcatel costs',\n",
       " 'phone died days use tried restart phone started continuously powering off rendering unusable a quick google search reveals common problem save trouble buy it',\n",
       " 'bought pre order nice screen perfomance ok got better marshmallow update audio quality amazing also included headphones nice they lasted months phone stoped working week warranty expired',\n",
       " 'terrible call quality multiple people told calls speakerphone sounded far away hear well maybe due speakers calls promptly returned wonder inch version also problem',\n",
       " 'great worked right still luke alcatel phones power button failed work',\n",
       " 'lots features price nice screen definitely made wonder motorola nexus priced much higher i got alcatel mother however sd card sim dual tray awful get sim card inside without ripping sd card electronics phone still works terrible design choice makes wary',\n",
       " 'read amazon reviews product determined alcatel onetouch idol would fit needs perfectly due product specifications price point could wrong switched brands cell phones years varying apple lg motorola razr nokia even cingular phones nothing used last ten years fragile poorly made one while reaching pocket read text message received went swipe unlock however glass surface digitizer would recognize swipes started trying swipe own thought bizarre upon closer inspection small cracks top left corner after trying swipe further crack spread way top left center right digitizer effectively making useless since pocket previously idea cracked since working fine issues throughout day utterly pathetic product broke inside pocket customer service team even worse terms honoring warranty protection brittle cheaply made would recommend smartphone instead one acceptable phones fragile must bubble wrap storage summary if looking unlocked phone go another brand actually work break inside pocket within two months purchase just go http www amazon com gp bestsellers wireless ref s acsd ri bw clnk pf rd m atvpdkikx der pf rd s merchandised search pf rd r mps ysgrvp gkhps d pf rd t pf rd p pf rd i p h make sure whatever do never ever get alcatel onetouch idol',\n",
       " 'phone stopped working software update month ownership made attempts get fixed customer service unsuccessful time do buy',\n",
       " 'it s decent attractive looking coming using s galaxy lacks many custom features messaging app comes default s can t personalize view can t schedule text messaging limited message size etc camera ph lacks decent zoom otherwise nothing wrong hardware perspective',\n",
       " 't mobile talked alcatel removing band lte signal another piece junk t mobile if t mobile class action lawsuit filed alcatel it less month old paperweight buy another alcatel anything dropping t mobile reason still number do not buy this junk if you are a t mobile customer it will ota an update and that will make it useless',\n",
       " 'phone looks good but comparable similar phones t mobile sim card work times camera stopped working completely when start camera app closes automatically installed camera apps front camera works back camera work overall recommend phone i called customer service nobody answers get disconnected mins tried several times same',\n",
       " 'bought july loved much speak past tense reason beginning june died me boot loops every time try turn on tried get ahold customer service tried talk resetting boot menu which already done call dropped never called back would love give better review less year later brick',\n",
       " 'horribly slow crashes least week android device manager locate it',\n",
       " 'after using months started shut started problem since warranty sent back fixed after months freezing me need send fixed warranty expires when searched web common problem recommend',\n",
       " 'i ll cut chase reason i m giving stars consistently problems calls call going fine initially sudden hear person cannot hear me happens often frequently house lumia take sim card work put sim use absolutely zero issues calls i ve tried contacting alcatel support emailing support have waiting week without response i ve also tried calling when call sit hold minutes did work shows time call give hang up i m shopping new sucks means pretty much threw away',\n",
       " 'first cell got two tap on off feature work bought new returning defective refund are boxes supposed sealed plastic wrap second got wrapped plastic forgot first was great speaker screen first bought asus zenfone returned speaker screen incredibly bad idol totally beats respects will update time update i returned first idol got replacement double tap work and replacement double tap still barely works taps always tap back on reason returned first can t issue other that now update after months use i m returning galaxy s thanks amazon letting me idol much wanted keep slow laggy sometimes unresponsive double tap decides wants work hit call button twice sometimes respond first time try swype text work well finger gets caught up stuck screen make word forms incorrect word its slow unresponsive me when clear screens button bottom right slowness shows framerate horribly choppy plus battery built in my new s removeable battery the things liked speakers front screen slowness unresponsive nature device made switch',\n",
       " 'no chinese support made chinese brand why inlcuded lroduct description otherwise nice',\n",
       " 'decent budget however screen easy break once breaks keep randomly tapping places screen description talks two year warranty hopefully honored',\n",
       " 'sure keeping it camera functionality awkward turn itself using map run record runs turned happened time use record workout thing probably camera charge hold charge pretty good apps video call i manage stay away charger full days kept week returning it just update rating live apt th floor can t get fair signal outside get g lte signal then work get h ever course service basement from different places signal jump bluetooth car sometimes blank nothing still see signal strength either h g lte i default storage picture video sd card working manually clear memory already used apps definitely going back sure buy budget',\n",
       " 'it s affordable looks needed however freezes lot i m second one if need something affordable get it i must warn though return second going crazy amazon almost let return return window it s cute works okay bad kind outweighs good if avoid purchase samsung something would suggest that paid no',\n",
       " 'after less month use i m dead spots right middle screen',\n",
       " 'got today installed apps tested out pros cheapstylishsound qualityvideoscons not fast thought would beterrible mic recordingterrible popular apps snapchat instagramcamera quality goes significantly zoom inonce awhile stop detecting sim cardi using since june now going back flagship phone learned lesson',\n",
       " 'pro s well built speakers better expected jbl earbuds came great chargers quickly camera good poor great good testing more re post soon little lag me every user different text make calls email pictures kids games every user experience vary no lag me price the price better oneplus one experience leaps bounds bright notification light light screen really really bright hands brightest screens ever used example iphone plus nokia note lg g price lol purchase see experience yourselves remember always send back satisfied that s beauty purchasing amazon will come back two weeks see rating stars stays changes update okay lte speeds at t least area camera would compare nexus nexus slightly better lag yes lots apps running not bad mid range phone screen good though kill battery life pretty quick brightness battery life lasting day half moderate use social media texting emails calls build quality worry much right now no creeks for definitely worthy backup flagship no update battery life kept getting worse turned location gps sync apps background standby time kept taking hit biggest culprit screen self full charge would last hours even whole day and proximity sensor stopped working glad happened return period',\n",
       " 'think defective got defective onesvery slowbad signalscreen colors look fadedbluetooth week signalnot always switch landscapes portraitthe speakersand battery lifeyou can t exchange send back get ur money back case new cost',\n",
       " 'update december th downgrade rating star months usage noticeably showing wear tear cheap illusion would masterfully constructed price point at point feel creaks bent little bit see screen cover s glue come edge to top camera failed recently i m process submitting warranty claim if goes well better i ll consider bumping star rating back stars original review follows things still true me really love got right bad constructed better here thing make want phone camera app alcatel seems made camera app use android stock app which want could install app store but app feel superior android one virtually hunting focus takes photos immediately press shutter button feel gives camera distinctly apple iphone feel it pleasantly surprised google camera app function smoothly glad alternative alcatel others commented actual camera photo quality itself tested honestly use i m glad app functions fast pretty much stock android put google now launcher experience almost exactly old nexus there pre loaded apps easily remove them ones can t remove system apps android gallery mix application music player both ignored applications choice with said reviews done job describing pros cons wanted add reason can t give awesome price still drawbacks many things great got many features totally right but using days begin notice areas cut corners get price at these things mentioned reviews already with said its amazing much price quite hidden reasons might want expensive phone opinion if already market spending much instead buying something much expensive say definitely buy try out',\n",
       " 'great came couple dead pixels right center screen i ve never run dead pixels before returned waiting another',\n",
       " 'ok best amount lag build android pretty bad security patches released since june luckily needed last month could replace it sadly even requirement took right spill halloween screen cracked so much making play son',\n",
       " 'purchased recently amazon paid listed and might think would delighted got good deal right wrong extremely disappointed phone despite previous research finding many reviews it i lg c special bells whistles though pretty much everything really need but almost two years got couple glitches can t resolved thought would upgrade another brand larger size what mistake this alcatel takes seconds start fully my lg takes takes adequate photos my lg takes great pics battery runs almost hours little usage power save plus even talked yet my lg runs hours longer occasionally talk it alcatel takes hours fully charge my lg takes hour that s and charging power off makes low buzzing sound every seconds no way stop it in addtion cannot open photos messaging despite confirming settings correct tried everything possible called alcatel actually told messaging built best can t receive mms what my lg always opened photos via built in messaging long mobile data enabled so alcatel rep told use another messaging app order open photos unacceptable and that not sound notification upon receipt text messages again worked appropriate settings i m novice simply work also emojis available keypad using instagram huh i ve doubt multiple problems i ve never even encountered yet two weeks i ve used it quite enough problems and worst in past couple days alcatel gets very hot charging my lg never gets hot charging even slightest heating issue alone going send back fear potentially dangerous a simply not get hot charging everyone opinion make decision would not recommend anyone appalled not even worth that now listed ridiculous price',\n",
       " 'screen scratch resistant used month already screen got numerous scratches',\n",
       " 'freezes often loads apps slowly',\n",
       " 'recommend very poor battery life not compatible ultra mobile lots glitches should known better gonna stick nexus fast reliable don t waste moneyon',\n",
       " 'if get phone careful it i purchased right came u s pre ordering amazon overall found deal screen battery life great processor snappy camera price range unfortunately months pulled alcatel idol pocket screen cracked struck anything see photo below crack comes edge physical damage there when called alcatel told warranty cover physical damage cracked screen counts physical damage matter what maybe defective alcatel simply want cover warranty otherwise gotta say only buy this phone if you plan to be very gentle with it i mine protective case i ended moto g quite alcatel idol far screen goes use slightly better liable break alcatel cover it worth dollar risk again hopefully others defective',\n",
       " 'touch screen stopped responding bottom inch screen sucks navigation buttons are almost bran new never dropped tried factory reset luck phone useless days',\n",
       " 'it s price tag really liked battery life aspect screen design makes difficult recommend thin display prone crack my idol screen cracked regular usage i m longer able use',\n",
       " 'never write negative reviews could give piece garbage negative star rating would please trust reviews people garbage cant even handle snapchat app repeatedly crashed restarted even process snapchat video audio video recording laughably bad returned got refurbished g cheaper blows away in every possible category and functionality stay away from this garbage',\n",
       " 'good paper only bad software bad support do buy smart value listening music initially google voice work then bluetooth music stutters headphones music hiccups occasionally support substandard they ask ship wait refurb repaired weeks',\n",
       " 'item received shape fake earpod provided inside box keep mind',\n",
       " 'let first list best things phone excellent speakers superb screen joy watch music videos movies phone lot value money thin really looking phonethe bad not points way slippery without gorilla glass sure screen would shattered regular use ended buying wallet case bulky phone not best processing power face occasional lags especially marshmallow update mentioned negative point considering price point blu cost less much faster in short looking stereo speakers nice display mind putting screen protector bulky case phone would fit but looking use without protective case may right since pretty sure screen break regular use',\n",
       " 'i ve couple days now wanted something bigger screen without spend eight nine hundred bucks would cost stay iphone family my overall cost gb microsd card cost iphone s plus getting set mostly simple i checked installed android system updates charging phone put microsd sim cards the sim card kind pain since adapter necessary discovered adapter ordered include thin strip tape make sure sim card fall which mentioned anywhere package went smoothly the parts like far expandable storage memory may replace gb card gb card point it ll enough now i m happy longer limited phone s built in storage large screen full hd x resolution text readable even normal setting there s plenty room whatever i m looking at images generally look sharp smooth without jagginess double tap feature double tap wake phone double tap put sleep again very convenient especially given phone s reversible feature caveat work lock screen in instance power button used put back sleep reversible feature i m surprised phones this when feature enabled display orients way holding not that earpiece microphones switch well always right side up even holding upside down battery life so far battery life seems good charge little bit time transferred photos computer time unplugged usb cable otherwise battery currently since first full charge two nights ago sweep feature or whatever called enables close open apps once very convenient light despite significantly larger old iphone the display bigger iphone case idol lighter iphone think huge difference definitely enough notice stereo speakers speakers sound good and sound whether facing even simple case bought it unlocked upgradable marshmallow my carrier offers idol there s indication marshmallow upgrade available anytime soon otherwise would gone them there couple things i m keen moment placement buttons though opposite sides power volume buttons placed level already taken several inadvertent screenshots trying put sleep lock screen camera may matter getting used it camera appear live quality display colors seem bit washed out especially front camera also front camera offers automatic exposure whereas back camera offers full manual update manual mode useless you adjust iso shutter speed focus get black image yup picture whatsoever only automatic exposure mode work in addition panoramic mode poor job will end jagged edges least probably even sections image stitched together properly in event best lighting conditions images noisy blockiness apparent plenty chroma noise if already takes decent photos want hang onto it either that use real camera use pin unlock phone android requires press check key number not huge deal ios unlocks soon pressed last digit sometimes forget goes back sleep unlike iphone read sim card rather lengthy splash screen animation finished so whereas iphone show name carrier signal strength soon unlocked phone idol shows no sim card no sim card carrier name carrier appears always gives pause particularly since nano sim use adapter also unlike iphone display show name carrier time but easily verified quick setting panel i mean know carrier is know telephony function working properly as quality calls used long enough first call made sounded okay at point would probably give iphone slight edge sound quality i tried earbuds yet rarely use listen music much concern me a note packaging they ve hidden lid covering compartments box contain usb cable charger earbuds tool used open card holder easy miss already used came sim card adapter bought time finally noticed there apart hiccups go getting used new os liking idol far it s light display sound battery life spend exorbitant amount money get it',\n",
       " 'do buy unless want last months glue used attach screen weared months screen litlery pealing moment buy',\n",
       " 'couple weeks problem day stop working wont even let get homepage return back bs',\n",
       " 'if read reviews notice people purchased at first flush onetouch idol amazing it s beautiful phone internal components first rate never better speeds t mobile network seems phone price cannot beat get however star review reason dramatic flaw noticeable months ownership and flaw renders unusable to keep price down alcatel use gorilla glass big beautiful screen it s probably kept price low alone reason look elsewhere next all takes small drop accidentally sitting crack glass and crack shatters window pane the glass shatter even hard case happened twice two different phones sadly known issue alcatel replace phone even warranty',\n",
       " 'software screen lovely started display anything colored lines wanted really annoyed broke within hrs no drops wetness would get replacement i m believer brand anymore',\n",
       " 'sending back would boot android downloading update prompted do',\n",
       " 'i m giving stars still know works not the arrived time put metro pcs sim card recognize it i checked website clearly states compatible at t t mobile metro pcs gsm carriers i go metro pcs store tomorrow see there s way get work updated review i went metro pcs get newer sim card time worked had pay extra running working properly i think price ok this the thin looks well constructed the weird thing power button upper left side live that the screen bright also live screen bulky big i love size i m happy phone well i m giving the phone stars',\n",
       " 'it s annoying issues what phone has best display budget go head head flagship phone has speakers audio experience sounds better lot flagships there speaker headset port produce sound easily competes flagships audio category beats most gps alcatel got right hard find android flawless gps performance locks quickly pretty accurate moto g pretty regard well my galaxy s phone issues gps performance battery you easily make day beats s note for price beats lot flagships battery category what mostly software issues cell reception it s worse old galaxy s s note easily get lte phones barely gets hdspa sometimes drops edge download speed slower but annoys i m area sticks hdspa switch lte noticed happens much often radio set lte wcdma gsm lte wcdma so manually switch going test settings dial codes brightness for reason randomly dim way randomly even auto brightness turned off outside display set full brightness which make following directions reading something outside annoying background audio sometimes watched youtube video put pause turned display get notification youtube video starts playing screen still off it s annoying another software bug youtube application this applications this double tap turn off many butt dials feature turned on so hardware software issues i m checking updates every day really want keep device but old cheaper moto g issues think alcatel device reason way many software bugs needed ironed launch',\n",
       " 'got alcatel idol bring sd card remover call amazon overnighted new phone great job amazon s behalf now play kinds music files cell phones catagory would find buy program change files play music found slow on att tap wake work time sometime make long distance call try hit speaker goes black loss call try keep several days see update going solve issues iam going back lg g realize get pay risk losing calls fam tried sam s htc m micro s windows far lg g best even though speaker everthing else is',\n",
       " 'first cell got two tap on off feature work bought new returning defective refund are boxes supposed sealed plastic wrap second got wrapped plastic forgot first was great speaker screen first bought asus zenfone returned speaker screen incredibly bad idol totally beats respects will update time update i returned first idol got replacement double tap work and replacement double tap still barely works taps always tap back on reason returned first can t issue other that now update after months use i m returning galaxy s thanks amazon letting me idol much wanted keep slow laggy sometimes unresponsive double tap decides wants work hit call button twice sometimes respond first time try swype text work well finger gets caught up stuck screen make word forms incorrect word its slow unresponsive me when clear screens button bottom right slowness shows framerate horribly choppy plus battery built in my new s removeable battery the things liked speakers front screen slowness unresponsive nature device made switch',\n",
       " 'really although battery really sucks heavy user me but play games last day little bit slippery suggest get case camera long shakey hands try download better camera app or edit pics improvement color watching videos listen music really great thing takes much time charge but besides say but expect much but still best price range',\n",
       " 'worked fantastic months now constantly issues functioning seems progressively getting worse little updates company sorry definitely ever purchase another made company',\n",
       " 'i m giving seems for me fundamental flaw ergonomics way switches set never right place also seem constantly grabbing hitting switches time seems try shut down take screenshot phone neither like took figure trying shoot photo gripping manner hit buttons kept shutting down i ve similar android phones never issue the icons cartoon y i put icon pack create shortcuts look them seems rather slow respond for example change screens shut open apps seems work ok i m trouble manipulating it setup relatively simple straightforward coming another unlocked android i would buy again keep want hassle getting another my old stopped working purchase researched made bit quickly might liked',\n",
       " 'had asus zenpone alcatel idol two family members both phones look great both handle g lte well side side comparison two idol got better premium sound enjoying movies games zenpone however zenphone got much faster responses apps comparing idol if need multitasking use business apps choose zenphone idol regarding talk quality zenphone better idol zenphone heavier idol solidly build in contrast idol much lighter jewelry prone break both phones personally favor asus zenphone idol two sim capability faster responses easily handling multitasking daily business usage however need entrainment idol better choice zenphone much better speaker sounds but talking quality as t mobile user phones found zenfone better talking quality idol',\n",
       " 'sent back laggy using chrome',\n",
       " 'pros speakers loudest i ve hearddisplay bright vividthe speed pretty fast remove minimal bloat especially antivirusvery lightweightbattery life decentcons bad lte receptioncamera good flash way weak low light abysmaltap wake spotty sometimes slow wake up i d rather disable itugly branding back sticker would solve thisnot many cases thereoverall i returned thing a loses signal bars towers freeway la i m t mobile cheap old lg f beast compared this my new lg g picks fine too gave idol chance did alcatel even test bit field what band trouble band',\n",
       " 'ever experienced terrible this it touch well click time one day found app data gone log apps change settings app it works slow snapdragon series',\n",
       " 'failed days order recourse return based day policy there even clear ability communicate amazon this this unfortunate customer service issuewould purchase',\n",
       " 'bought design horrible sd sim card slot breaks taking time go look videos installing sim joke battery removable screen shows every finger mark its slow camera either thing full hd resolution large screen customer service alcatel disgusting guy chatting simply ignored me tried connect someone would help kept redirecting guy worth overall disappointed',\n",
       " 'asked refund product working',\n",
       " 'u ther option u better stay days thru good then everything went downhill lags stutters freezes point begins get hot locks up feel ok hand oh yeah speakers good',\n",
       " 'update december th downgrade rating star months usage noticeably showing wear tear cheap illusion would masterfully constructed price point at point feel creaks bent little bit see screen cover s glue come edge to top camera failed recently i m process submitting warranty claim if goes well better i ll consider bumping star rating back stars original review follows things still true me really love got right bad constructed better here thing make want phone camera app alcatel seems made camera app use android stock app which want could install app store but app feel superior android one virtually hunting focus takes photos immediately press shutter button feel gives camera distinctly apple iphone feel it pleasantly surprised google camera app function smoothly glad alternative alcatel others commented actual camera photo quality itself tested honestly use i m glad app functions fast pretty much stock android put google now launcher experience almost exactly old nexus there pre loaded apps easily remove them ones can t remove system apps android gallery mix application music player both ignored applications choice with said reviews done job describing pros cons wanted add reason can t give awesome price still drawbacks many things great got many features totally right but using days begin notice areas cut corners get price at these things mentioned reviews already with said its amazing much price quite hidden reasons might want expensive phone opinion if already market spending much instead buying something much expensive say definitely buy try out',\n",
       " 'great came couple dead pixels right center screen i ve never run dead pixels before returned waiting another',\n",
       " 'originally gave stellar review however case get pay for stopped charging week missed amazon return policy window',\n",
       " 'slow want navigate somewhere well might take minutes load directions also sends receives group messages very inconvenient come bottom message inbox also broke months would buy item again in fact despite money lost relived broke',\n",
       " 'slow dead months liked bright screen sound longer works',\n",
       " 'phone suffered screen crack riding pocket minutes driving months purchased not durable would buy again',\n",
       " 'terrible call quality multiple people told calls speakerphone sounded far away hear well maybe due speakers calls promptly returned wonder inch version also problem',\n",
       " 'great worked right still luke alcatel phones power button failed work',\n",
       " 'buy mobile you work g band g lte also come onetouch stream',\n",
       " 'hi the description product say is global unlocked use lte doesnt work if help i ll really appreciate that anything else ok alcatel onetouch idol global unlocked g lte smartphone hd ips display gb gsm us warranty',\n",
       " 'work had mind own need send back nd one it thing i ve sworn alcatel good',\n",
       " 'decent phone shame died day year warranty ended playing kingdom hearts unchained x symptoms were got hot touch screen became unresponsive off next day blue screen rebooted another blue screen completely died dual front facing speakers get nice loud that s huge plus mine came jbl earbuds awesome considering phones even include anymore but placement auxiliary port located top weird mini usb port located bottom if used magnetic air vent holders car things get messy there s clear orientation cable management want plug auxiliary cable charging however reversible design nice make auxiliary cable located bottom relatively putting upside down coming samsung galaxy s idol s screen much vibrant also mm thin mm thicker thinnest there also plan getting case phone back really slippery zero grip awful thin so get sweaty hands due heat emitted phone chance falling quite high another plus alcatel provide software update android marshmallow thought would considering idol coming out idol made chinese company really provide software support idol budget stock os really come lot bloat although surprisingly clock app comes actually made avg guys make antivirus would found day play store decided update clock app updated clock app terrible went away google s material design awkward interface average rating around stars avg reverted back original clock app biggest con would mention slow flash storage really noticeable load files install apps play store oh well time get new lesson always back texts photos well get extended warranty plan using long time especially devices removable back cover set expected usage year anyways bought considering bought it get cheaper that s expected time goes on update wow still honored warranty died fantastic service went beyond they shipped back day ups air too',\n",
       " 'received paper stapler buy cell the order gives option open claim please',\n",
       " 'design very goodbuild quality gooddisplay averagespeakers very goodperformance ok android battery life goodprice very good',\n",
       " 'bought backup works well is cheep smartphone wont play much games videos music internet social media works decently enough battery dies charges fast much way space ok purchase would recomend anyone looking cheep backup starter give try',\n",
       " 'not programed fo at t',\n",
       " 'price get would old school designs modern functions every cellphone seems generic product segment screen responsive feels slow segment price recommend windows abetter touchscreen',\n",
       " 'alcatel pixi mobile function smart phone enjoyed received pixi afterwoed little son synced wrong google email now i m able access asking first validate google account i dont remember account tried account success please need help reboot fpr new setup',\n",
       " 'work safelink verizon unlocked',\n",
       " 'instrument frail touch friendly have month happy it',\n",
       " 'great compact economical downside internal storage space can t even fit twitter new wants install everything internal memory',\n",
       " 'the pone was working great but after months don t know why the brightness of the screen suddenly is going crazy hope someone can help me',\n",
       " 'price',\n",
       " 'returned didnt start oper system updates',\n",
       " 'got less bucks have two weeks complains far the camera could better specially front facing bad i m selfie fan anyway the system fluid works better muy old blu avance kind slow speaker quality also best big deal i m happy it considering paid update well months cellphone died not even year lasted i happy it now turn on i plug charger led turns that s it',\n",
       " nan,\n",
       " 'received model number o aalus meets description global pixie notable exception gb total memory gb i m including screen shots settings storage settings about phone show model number actual memory disappointment since need expected gb since tried without success find pixi gb memory while limited primary home keeping use traveling europe in addition g lte frequencies used at t t mobile gsm operators side pond primary european g lte frequency my home not on whole suitable beginners budget anyone need enough memory run lot apps screen resolution less expensive models means text images appear larger on inch screen that s nice benefit people tad hard seeing',\n",
       " 'very disappointing overall unlocked says venezuela work digitel g lte failure comments said work specifications',\n",
       " 'item arrived weeks late requested and paid day shipment receive item time quality good as expected case black back side shining pieces which may ok women men item description unfortunately clarify this',\n",
       " 'not global g lte band suport b i bought thought really unlocked g lte world global even g umts g gsm quad band unlocked',\n",
       " 'instrument frail touch friendly have month happy it',\n",
       " 'great compact economical downside internal storage space can t even fit twitter new wants install everything internal memory',\n",
       " 'the pone was working great but after months don t know why the brightness of the screen suddenly is going crazy hope someone can help me',\n",
       " 'bought gift friend russia my lg cost great so price features alcatel onetouch pop global unlocked g satisfied too first cameras i m photography do know mp mp pictures look like so front camera even remotely close mp probably max mp main camera bad pics come a little bit worse mp even though set cameras highest quality well okay not big deal guess what really disappointed language settings yes keyboard i guess language you type en russian german etc but four languages available set main language phone s menu english french spanish italian only tha ts it understand english international language everyone speaks english my friend russia doesn t even bunch languages including russian the menu apps notifications en i spent day searching apps drivers could help add languages nothing btw official drivers when hooked computer showed drivers clicked install nothing happened i still going send friend find gsm unlocked get back us return amazon hard time believe features company claimed p s actually returning product trust description want risk spend money',\n",
       " 'messed mot ever turn reboot goes far says alcatel onetouch can t use day still can t use it',\n",
       " 'not sure got defective one slow laggy freezes heats easily',\n",
       " 'alcatel onetouch pop global unlocked g lte smartphone hd display gb gsm us warranty stopped working morning turn on tried everything nothing work took mobile store ask help tried turn nothing happened several attempts finally turned on worry happen again do return ask new refund',\n",
       " 'bought mom weeks ago week usage stopped working dead turn matter try and make things even worse day stopped working day could longer return it i see year warranty sticker packaging anyone information contact seller here i ve looked product listing see contact information we would new money back please thank you',\n",
       " 'nice size easy start insert sim card turn on my problem slow bought husband likes it beginner also bought returned several weeks could handle slow processing speed when returned seller credited account soon ups scanned package in excellent customer service',\n",
       " 'disappointed compared idol model ordered several days ago display near bright vibrant slow downloading switching different screens serve purpose used travel go country dont wont bring in case lost stolen',\n",
       " 'first week it now restart x day freezes much trouble connecting wifi runs really slow gig space left it none apps use heavy not mention close time going looking new soon will buy again',\n",
       " 'worth price',\n",
       " 'micro went july got may',\n",
       " 'micro went july got may',\n",
       " 'we ordered two excited received started making random calls',\n",
       " 'less hours reboots over will returning today',\n",
       " 'first loved phone then nowhere shuts reboots nowhere seriously passing going back windows phone',\n",
       " 'improvement upon old one still issue too my first white screen buying new this one found cant hold charge so need charge use old charge battery swap out maybe bad luck honestly would recommend buying different brand model',\n",
       " 'terrible',\n",
       " 'comes kit kit incomplete sim card removed in addition refurbished returned refund',\n",
       " 'true size',\n",
       " 'horribe customer service phone exploded month vendor asked dropped water i dropped once bought model several times before type tends last year breaking even dropped furthermore vendors selling new which actually t mobile discontinued bordering false advertising mention fact half price vendor sold for quite rip off',\n",
       " 'really liked original sparq cell keypad flips out hate texting works me although keypad looks nicer easy use especially use punctuation there s annoying icons keep appearing top screen use different things know remove battery life either although terrible camera terrible well okay dumb think looking another soon',\n",
       " 'sometimes shut blanks texting',\n",
       " 'some time purchase about weeks screen turns try use keyboard it happens randomly',\n",
       " 'so two phones continually shut reason my sons getting pretty tired it it s bad teenager need smart social media options annoying shut all time own think twice buying one',\n",
       " 'could better',\n",
       " 'so two phones continually shut reason my sons getting pretty tired it it s bad teenager need smart social media options annoying shut all time own think twice buying one',\n",
       " 'could better',\n",
       " 'true size',\n",
       " 'horribe customer service phone exploded month vendor asked dropped water i dropped once bought model several times before type tends last year breaking even dropped furthermore vendors selling new which actually t mobile discontinued bordering false advertising mention fact half price vendor sold for quite rip off',\n",
       " 'really liked original sparq cell keypad flips out hate texting works me although keypad looks nicer easy use especially use punctuation there s annoying icons keep appearing top screen use different things know remove battery life either although terrible camera terrible well okay dumb think looking another soon',\n",
       " 'sometimes shut blanks texting',\n",
       " 'some time purchase about weeks screen turns try use keyboard it happens randomly',\n",
       " 'shape although could get activated call alltel gave two stars',\n",
       " 'took haiti give someone work need return it please',\n",
       " 'not bad far tried feature pad fast load crap it also says use usb device via cable package it however upon trying it seems failed feature actually works have you tube installed work properly says try uninstall alone connected google when going account stalls tube',\n",
       " 'very bad productno point buying product may look andriod have bad camera you also can t call tab',\n",
       " 'would appear screws screen bezel tightened screen cracked shoddy workmanship sub standard screen',\n",
       " 'piece junk pics camera fuzzy can t see clearly volume low audio to hear mist use earphone',\n",
       " 'good days super slow freezes',\n",
       " 'fair',\n",
       " 'rate just kicks unhappy lot issues it can t even check voicemail voicemail icon work constantly freezes continuosly turn on picture quality camera sucks really would appreciate returning either money back brand new replacement',\n",
       " 'need refund competable wit simms card get refund',\n",
       " 'un poco lenta y se apaga',\n",
       " 'phone seems okay unfortunately unable ascertain this hospital neural problem arrived unable figure utilize device would booklet something equally worthwhile order get operating any suggestions still received feedback this also still without there something amazon do amazing company earth up til now still faith please carolderenzo yahoo com',\n",
       " 'phone seems okay unfortunately unable ascertain this hospital neural problem arrived unable figure utilize device would booklet something equally worthwhile order get operating any suggestions still received feedback this also still without there something amazon do amazing company earth up til now still faith please carolderenzo yahoo com',\n",
       " 'phone even work',\n",
       " 'phone hold charge at all ordered replacement replacement problem phone looses charge hours not use',\n",
       " 'bought husband very poor sound quality difficult hear ever talking to echo returned',\n",
       " 'cellphone never works never refound',\n",
       " 'at first glance buying smart solution everything looked perfect day after month using it something happened battery got bigger bugled quite visible gap appeared back panel moreover battery life couple hours impossible use all very dissapointed',\n",
       " 'old program updates work',\n",
       " 'crap does not work they also tell upfront limitations data retrieved phones types phones compatible',\n",
       " 'only works old android systems',\n",
       " 'does work',\n",
       " 'bought due wanted without paying says comes mah battery dont came mah batteries camera supposed mp mp camera s pen comes isnt s pen dont even work unless u press hard everything assumed paying for bought phones husband purchesed time phones arrived got contacted company said r sorry inconvenience u still want well yes want paid it comes china takes anywhere days daily contact company phones due issues paid',\n",
       " 'nice phone volume really low screen came crack lower left side l',\n",
       " 'play store doent work charger wiggly wont charge well onless hold onto it dont buy wieze not compatible fmily mobile',\n",
       " 'picked i m travelling philippines wanted worried stolen paired tmobile simple choice plan unlimted data text roaming overseas goodscreen easy read bigeasy setup pop sim gobadfeels cheapwon t get anything g tmobilebattery sucks edge g times barely gets hours standbygoogle play hacked version chinese only can t seem install real one errors out in words tying account still get skype facebook etc apps chinese hacked one can t seem calibrate screen senses touch bit typing fun overall serve purpose travel risk losing nexus other worth money i ll leave mine homeless guy leave pi there must several different models mine samsung rear cover battery front looks samsung text it boot screen samsung mtk reader shows fake sim slots different shown amazon accepts standard micro sim read standard voice only don t know',\n",
       " 'very nice phone just wish screen bigger runs g everything functional cool gigavailable simple mobile net t mobile etc',\n",
       " 'it s way heavy camera sucks big time says mp actually mp led never worked extra battery didnt either menu botton hard use earphones broken didnt cellphone all please re check choices purchasing this',\n",
       " 'instead getting n got n wrong when first got it charger working charging reverse finally get charger now seems every minute even charged keeps shutting way turn back remove battery plug charger when try turn on batter shows red it s getting really annoying now sometimes call shuts off',\n",
       " 'center screen stopped working weeks',\n",
       " 'keep rebooting keep signals but want work wifi ok',\n",
       " 'nice slow sometimes internet access had options use them',\n",
       " 'update finally gave chinese knockoffs ordered real samsung s active currently listed less money imitations particular would worked for while realized could live without functional camera surprising great heron wading pond bordering yard catching wonderful picture sort shadow indeterminable washed background update in process changing providers found needing use two sim s brought back temporary service ring alert tells line calling prompts choose sim cam calling functions well using dual sim also bought extreme rugged impact armor hybrid hard case cover belt clip holster kickstand samsung galaxy note n soft inner liner fits almost perfect ear jack line right fixed exacto blade hard shell way enough bought mine sqdeal purchasing saw case available sellers update dropping stars started using wifi mode run perk swagbucks applications died month two cannot boot up combined time spent using got maybe months use altogether tried several chinese knockoffs would advocate buying genuine older used samsung save money buying another lookalike clone original phone review updates brackets when reviews mentioned poor camera quality ignored camera needs low unfortunately main camera unit live even lowest expectations problem resolution m many times need white balance exposure fills screen large blotches either whited dark what s left color tinted green blue pink hazy rainbow border depending camera tilted even flat surface specific target square fuzzy focus using manual settings installing a better camera google store makes little better help camera needs beyond derived software other liked gps good while indoors pick satellites available previous smartphones able pick without going outside update new samsung s active arrived found satellites inside house able lock onto half almost instantly leaving prior phones dust the screen resolution may lower real note looks fine wide clear field vision on brightest setting visible sunlight owned although told high end phones days better ever owned update when real samsung arrived found much camera truly capable staying visible sunlight review seemed tolerable time always searching shade samsung need tip little according reviews model low end screen visibility top end phones i think multi band secondary market phones mobile data speed data speed airvoice at t mvno connection tested kbps would certainly frustrating youtube addiction plenty fast google address road check email to minimize data needs set apps never sync sync wifi email set download demand headers unless something needs opened other save power browsing wifi gets ubiquitous every day there battery charging indicator extra battery may come handy time easy install free standing charger needs charge battery life seemed normal standing soon started actively engaging searches trying get camera working seemed draw rather quickly edit subsequent leaving review neglected turn gps leaving charging car after half hour returned vehicle found tripped android alert overheating half hour temperature f outside unexpected installed logging app keep eye update turns issue the configuration sim card mounting slightly different photos first seemed jam followed diagram imprinted slid right place the stylus comes handy blocking hole made seem work screen well enough give finger poking the spare cover looked first added screen protector flap would get way putting dash stand using gps there transparent screen protector shipped device managed install dozen bubbles so the feels mechanical home button would willing spend money upgrade camera possible would probably entail tearing circuit board',\n",
       " 'perfect size camera terrible receive mms messages tried everything recommend',\n",
       " 'power button went five mins haveing nice worked got bad guess got refund write away',\n",
       " 'i ve received day ago still fiddling it some small issues far unable find n case actually fit properly mic headphone jack openings match device included stylus work properly screen way re calibrate it screen seems work better finger and include extra battery included external charger useless swap them unless course manage find compatible charger sold separately last issue even though carrier offers g service yet get g reception this suppose capable g even heart town near carrier s tower on side would expect pay samsung s galaxy note ii love quality functionality samsung s galaxy line simply cannot afford prices as such learn live knock off s flaws',\n",
       " 'work could find way find mine',\n",
       " 'very poor quality has oldest version android them bought take deployment these slowest could use them threw trash dont buy',\n",
       " 'had return include battery indicated box description',\n",
       " 'very poor quality has oldest version android them bought take deployment these slowest could use them threw trash dont buy',\n",
       " 'had return include battery indicated box description',\n",
       " 'discription reads verizon wireless however receive verizon promised unable use it also much lesser value try sell it',\n",
       " 'by mistake bought wrong iphone work outside america refund',\n",
       " 'purchased cellmania first spent hours verizon could get activated verizon determined antenna bad returned cellmania sent new days second would activate service home town my son daughters iphone c iphone s service issues returned second requested refund refund received next day unhappy quality wasted time trying activate refund quick back old iphone s spoiled whole process trying upgrade cheaply',\n",
       " 'although sender helpful product compatible carrier',\n",
       " 'supposed verizon compatible sprint',\n",
       " 'locked cannot use',\n",
       " 'purchased sim card missing sound quality awful response sell lot phones tested seem likely',\n",
       " 'after reviewing trying everything ywsteady switch would work ordered new sim well long story short boh waste time money come charger condition waste me',\n",
       " 'home button mind working sporadically happy',\n",
       " 'first received work properly come original box stated returned new device shipped promptly however nd device work properly either charger work again original box stated neither came original accessories stated when charger replacement plugged in pop clearly states original correct charger nothing phone i purchasing seller again',\n",
       " 'received time ready connected verizon updated months got screen stopped working no touch screen obvious recieved screen replaced i m guessing cheaply done do recommend',\n",
       " 'home button work money paid iphone c kind rip',\n",
       " 'minor annoying glitch texting not new purchase all',\n",
       " 'broke within two weeks turn back on also time zone stuck austria',\n",
       " 'first not verizon put verizon sim card get cell service contacted verizon told serial number real it ridiculous second charged time and charge agian would take charge said charging battery went down better get refund',\n",
       " 'advertised verizon does not work verizon accounts huge waste time money returned don t waste time',\n",
       " 'home button messes lot',\n",
       " 'great seller took back quickly phone many work version problem',\n",
       " 'believe shipped apple product rep verizon store could register verizon system after closer inspection felt knock off agree home button correct center body pulled away screen end so far spent hours dealing process return refund purchase another c different supplier',\n",
       " 'phone broken got it',\n",
       " 'phone works screen was is cracked opened package',\n",
       " 'please contact me received camera messed screen keeps poping out please contact asap',\n",
       " 'great phone probs love date',\n",
       " 'glitches really bad charger and recently started glitching even charger',\n",
       " 'works fine scratched anticipated also charging cable wall plug sent work all',\n",
       " 'great exterior condition screen streaked pink lines',\n",
       " 'when received it come sim card speaker work hear anything also make call looked new condition unfortunately work but returned questions asked process easy',\n",
       " 'never gets fully charged take day charger',\n",
       " 'wouldn t hold charge connect wifi',\n",
       " 'worked month every time call someone mute even touching it when go unmute call locks out screen go black reason lock to make screen black anymore hit middle button even i m home page',\n",
       " 'got doesnt work',\n",
       " 'case beat expected we remove screen unplug re plug screen connections several times get respond consistently iphone seems work screen failing often past day warranty likely need replace big bummer',\n",
       " 'fine put description there s sim card',\n",
       " 'buttons broken less month',\n",
       " 'if talk minutes dies sometimes dies even i m using it sometimes die the reason sent back yet due fact job requires going even two days without disturb job so day stays charger even i m work i m sleeping i m car talk two minutes charge die physically looks described broken screen cracks battery then emailed told take four weeks longer get refund',\n",
       " 'purchased cellcow amazon piece junk acts possessed randomly switching screens typing without even touching it save money',\n",
       " 'may seem really ridiculous ordered last week got saturday before got activated night screen messing me lot fun trying put wifi information anyway got activated last night everything working fine but back way activated screen acting possessed chipmunk rd caffeine kept going comments messages previous pages facebook app even safari app decided use facebook that still acted up really looking forward trying apple i m really disappointed even update whatever is still it touchscreen thing really needs fixed as well future models positive thing say finally showed music previous not iphone would show less half even though right micro sd card it i try apple someday gets better hopefully if not either meant me got lemon curse fact big fingers lol',\n",
       " 'bought daughters birthday gift send back day birthday screen backlight jacked up touch screen work cannot even slide unlock screen work totally pissed disappointed total bulls paid almost return mention sadness child returning birthday gift wait send back get credit order another wait come in waste time money',\n",
       " 'product condition definitely needed come original box stated neither come head phones looked since main focus purchase',\n",
       " 'delivered gb rather purchased gb iphone',\n",
       " 'phone severe hardware problems',\n",
       " 'types freezes',\n",
       " 'received time ready connected verizon updated months got screen stopped working no touch screen obvious recieved screen replaced i m guessing cheaply done do recommend',\n",
       " 'while packaging tact internally damaged completely nonfunctional refused even power got stuck apple logo screen tried several different ways resolving problem course several hours nothing worked after contacting apple told exhausted options hardware problem never even got turned on very disappointing high hopes would ordered replacement want test luck again',\n",
       " 'advertised new not speaker work therefore siri work not sure anything work yet',\n",
       " ...]"
      ]
     },
     "execution_count": 109,
     "metadata": {},
     "output_type": "execute_result"
    }
   ],
   "source": [
    "arr_neg_review"
   ]
  },
  {
   "cell_type": "code",
   "execution_count": 110,
   "metadata": {},
   "outputs": [],
   "source": [
    "cleaned_pos_text = clean_review(arr_pos_review)\n",
    "cleaned_neg_text = clean_review(arr_neg_review)"
   ]
  },
  {
   "cell_type": "code",
   "execution_count": 111,
   "metadata": {},
   "outputs": [],
   "source": [
    "tokenizer = Tokenizer(num_words=nb_max_words)\n",
    "tokenizer.fit_on_texts(cleaned_pos_text + cleaned_neg_text)"
   ]
  },
  {
   "cell_type": "code",
   "execution_count": 112,
   "metadata": {},
   "outputs": [],
   "source": [
    "sequences_pos = tokenizer.texts_to_sequences(cleaned_pos_text)\n",
    "sequences_neg = tokenizer.texts_to_sequences(cleaned_neg_text)"
   ]
  },
  {
   "cell_type": "code",
   "execution_count": 113,
   "metadata": {},
   "outputs": [
    {
     "data": {
      "text/plain": [
       "[167,\n",
       " 2069,\n",
       " 244,\n",
       " 35,\n",
       " 2,\n",
       " 159,\n",
       " 35,\n",
       " 238,\n",
       " 513,\n",
       " 424,\n",
       " 904,\n",
       " 459,\n",
       " 85,\n",
       " 349,\n",
       " 425,\n",
       " 78,\n",
       " 450,\n",
       " 1521,\n",
       " 1103,\n",
       " 264,\n",
       " 59,\n",
       " 409,\n",
       " 123,\n",
       " 69,\n",
       " 12,\n",
       " 1148,\n",
       " 2784,\n",
       " 122,\n",
       " 35,\n",
       " 2,\n",
       " 44,\n",
       " 69,\n",
       " 313,\n",
       " 4]"
      ]
     },
     "execution_count": 113,
     "metadata": {},
     "output_type": "execute_result"
    }
   ],
   "source": [
    "sequences_pos[0]"
   ]
  },
  {
   "cell_type": "code",
   "execution_count": 114,
   "metadata": {},
   "outputs": [],
   "source": [
    "word_index = tokenizer.word_index"
   ]
  },
  {
   "cell_type": "code",
   "execution_count": 115,
   "metadata": {},
   "outputs": [
    {
     "name": "stdout",
     "output_type": "stream",
     "text": [
      "Found 8323 unique tokens\n"
     ]
    }
   ],
   "source": [
    "print('Found %s unique tokens' % len(word_index))"
   ]
  },
  {
   "cell_type": "code",
   "execution_count": 116,
   "metadata": {},
   "outputs": [
    {
     "name": "stdout",
     "output_type": "stream",
     "text": [
      "Shape of data_d tensor: (2678, 140)\n",
      "Shape of data_r tensor: (1673, 140)\n"
     ]
    }
   ],
   "source": [
    "data_d = pad_sequences(sequences_pos, maxlen=max_length)\n",
    "data_r = pad_sequences(sequences_neg, maxlen=max_length)\n",
    "print('Shape of data_d tensor:', data_d.shape)\n",
    "print('Shape of data_r tensor:', data_r.shape)"
   ]
  },
  {
   "cell_type": "code",
   "execution_count": 117,
   "metadata": {},
   "outputs": [
    {
     "data": {
      "text/plain": [
       "array([   0,    0,    0,    0,    0,    0,    0,    0,    0,    0,    0,\n",
       "          0,    0,    0,    0,    0,    0,    0,    0,    0,    0,    0,\n",
       "          0,    0,    0,    0,    0,    0,    0,    0,    0,    0,    0,\n",
       "          0,    0,    0,    0,    0,    0,    0,    0,    0,    0,    0,\n",
       "          0,    0,    0,    0,    0,    0,    0,    0,    0,    0,    0,\n",
       "          0,    0,    0,    0,    0,    0,    0,    0,    0,    0,    0,\n",
       "          0,    0,    0,    0,    0,    0,    0,    0,    0,    0,    0,\n",
       "          0,    0,    0,    0,    0,    0,    0,    0,    0,    0,    0,\n",
       "          0,    0,    0,    0,    0,    0,    0,    0,    0,    0,    0,\n",
       "          0,    0,    0,    0,    0,    0,    0,  167, 2069,  244,   35,\n",
       "          2,  159,   35,  238,  513,  424,  904,  459,   85,  349,  425,\n",
       "         78,  450, 1521, 1103,  264,   59,  409,  123,   69,   12, 1148,\n",
       "       2784,  122,   35,    2,   44,   69,  313,    4])"
      ]
     },
     "execution_count": 117,
     "metadata": {},
     "output_type": "execute_result"
    }
   ],
   "source": [
    "data_d[0]"
   ]
  },
  {
   "cell_type": "code",
   "execution_count": 118,
   "metadata": {},
   "outputs": [
    {
     "name": "stdout",
     "output_type": "stream",
     "text": [
      "(2678, 140) (1673, 140)\n"
     ]
    }
   ],
   "source": [
    "print(data_d.shape, data_r.shape)"
   ]
  },
  {
   "cell_type": "code",
   "execution_count": 119,
   "metadata": {},
   "outputs": [
    {
     "data": {
      "text/plain": [
       "numpy.ndarray"
      ]
     },
     "execution_count": 119,
     "metadata": {},
     "output_type": "execute_result"
    }
   ],
   "source": [
    "type(data_d)"
   ]
  },
  {
   "cell_type": "code",
   "execution_count": 120,
   "metadata": {},
   "outputs": [],
   "source": [
    "data = np.concatenate((data_d, data_r))"
   ]
  },
  {
   "cell_type": "code",
   "execution_count": 121,
   "metadata": {},
   "outputs": [
    {
     "name": "stdout",
     "output_type": "stream",
     "text": [
      "(2678,) (1673,)\n"
     ]
    }
   ],
   "source": [
    "labels_d = np.ones(data_d.shape[0])\n",
    "labels_r = np.zeros(data_r.shape[0])\n",
    "print(labels_d.shape, labels_r.shape)"
   ]
  },
  {
   "cell_type": "code",
   "execution_count": 122,
   "metadata": {},
   "outputs": [],
   "source": [
    "labels = np.concatenate((labels_d, labels_r))"
   ]
  },
  {
   "cell_type": "code",
   "execution_count": 123,
   "metadata": {},
   "outputs": [
    {
     "name": "stdout",
     "output_type": "stream",
     "text": [
      "(4351, 140) (4351,)\n"
     ]
    }
   ],
   "source": [
    "print(data.shape, labels.shape)"
   ]
  },
  {
   "cell_type": "markdown",
   "metadata": {},
   "source": [
    "# Build model"
   ]
  },
  {
   "cell_type": "code",
   "execution_count": 124,
   "metadata": {},
   "outputs": [],
   "source": [
    "X_train, X_test, Y_train, Y_test = train_test_split(data, labels, test_size = 0.2, random_state=42)"
   ]
  },
  {
   "cell_type": "code",
   "execution_count": 125,
   "metadata": {},
   "outputs": [
    {
     "name": "stdout",
     "output_type": "stream",
     "text": [
      "(3480, 140) (3480,) (871, 140) (871,)\n"
     ]
    }
   ],
   "source": [
    "print(X_train.shape, Y_train.shape, X_test.shape, Y_test.shape)"
   ]
  },
  {
   "cell_type": "code",
   "execution_count": 171,
   "metadata": {},
   "outputs": [],
   "source": [
    "model = Sequential()\n",
    "model.add(Embedding(nb_max_words, embedding_dim, input_length=140))\n",
    "model.add(Dropout(0.2))\n",
    "model.add(Conv1D(32, 5, activation='relu'))\n",
    "model.add(MaxPooling1D(pool_size=2))\n",
    "model.add(Dropout(0.2))\n",
    "model.add(Conv1D(64, 5, activation='relu'))\n",
    "model.add(MaxPooling1D(pool_size=2))\n",
    "model.add(Dropout(0.2))\n",
    "model.add(Conv1D(128, 5, activation='relu'))\n",
    "model.add(MaxPooling1D(pool_size=2))\n",
    "model.add(Dropout(0.2))\n",
    "model.add(LSTM(100))\n",
    "model.add(Dense(1, activation='sigmoid'))"
   ]
  },
  {
   "cell_type": "markdown",
   "metadata": {},
   "source": [
    "# Train Model"
   ]
  },
  {
   "cell_type": "code",
   "execution_count": 172,
   "metadata": {},
   "outputs": [],
   "source": [
    "adam = Adam(lr=0.001,\n",
    "    decay=1e-06\n",
    ")"
   ]
  },
  {
   "cell_type": "code",
   "execution_count": 173,
   "metadata": {},
   "outputs": [],
   "source": [
    "model.compile(\n",
    "    loss='binary_crossentropy',\n",
    "    optimizer=adam,\n",
    "    metrics=['accuracy']\n",
    ")"
   ]
  },
  {
   "cell_type": "code",
   "execution_count": 174,
   "metadata": {},
   "outputs": [
    {
     "name": "stdout",
     "output_type": "stream",
     "text": [
      "Model: \"sequential_9\"\n",
      "_________________________________________________________________\n",
      "Layer (type)                 Output Shape              Param #   \n",
      "=================================================================\n",
      "embedding_9 (Embedding)      (None, 140, 300)          3000000   \n",
      "_________________________________________________________________\n",
      "dropout_26 (Dropout)         (None, 140, 300)          0         \n",
      "_________________________________________________________________\n",
      "conv1d_19 (Conv1D)           (None, 136, 32)           48032     \n",
      "_________________________________________________________________\n",
      "max_pooling1d_19 (MaxPooling (None, 68, 32)            0         \n",
      "_________________________________________________________________\n",
      "dropout_27 (Dropout)         (None, 68, 32)            0         \n",
      "_________________________________________________________________\n",
      "conv1d_20 (Conv1D)           (None, 64, 64)            10304     \n",
      "_________________________________________________________________\n",
      "max_pooling1d_20 (MaxPooling (None, 32, 64)            0         \n",
      "_________________________________________________________________\n",
      "dropout_28 (Dropout)         (None, 32, 64)            0         \n",
      "_________________________________________________________________\n",
      "conv1d_21 (Conv1D)           (None, 28, 128)           41088     \n",
      "_________________________________________________________________\n",
      "max_pooling1d_21 (MaxPooling (None, 14, 128)           0         \n",
      "_________________________________________________________________\n",
      "dropout_29 (Dropout)         (None, 14, 128)           0         \n",
      "_________________________________________________________________\n",
      "lstm_9 (LSTM)                (None, 100)               91600     \n",
      "_________________________________________________________________\n",
      "dense_9 (Dense)              (None, 1)                 101       \n",
      "=================================================================\n",
      "Total params: 3,191,125\n",
      "Trainable params: 3,191,125\n",
      "Non-trainable params: 0\n",
      "_________________________________________________________________\n"
     ]
    }
   ],
   "source": [
    "model.summary()"
   ]
  },
  {
   "cell_type": "code",
   "execution_count": 189,
   "metadata": {},
   "outputs": [
    {
     "name": "stdout",
     "output_type": "stream",
     "text": [
      "Train on 3480 samples, validate on 871 samples\n",
      "Epoch 1/2\n",
      "3480/3480 [==============================] - 19s 5ms/step - loss: 0.5886 - acc: 0.6431 - val_loss: 0.4372 - val_acc: 0.8163\n",
      "Epoch 2/2\n",
      "3480/3480 [==============================] - 18s 5ms/step - loss: 0.2825 - acc: 0.8957 - val_loss: 0.3078 - val_acc: 0.8886\n"
     ]
    }
   ],
   "source": [
    "hist = model.fit(\n",
    "    X_train,\n",
    "    Y_train,\n",
    "    validation_data=(X_test, Y_test),\n",
    "    epochs=2,\n",
    "    batch_size=100,\n",
    "    shuffle=True\n",
    ")"
   ]
  },
  {
   "cell_type": "code",
   "execution_count": 178,
   "metadata": {},
   "outputs": [],
   "source": [
    "plt.plot(hist.history['acc'])\n",
    "plt.plot(hist.history['val_acc'])\n",
    "plt.title('model accuracy')\n",
    "plt.ylabel('accuracy')\n",
    "plt.xlabel('epoch')\n",
    "plt.legend(['train', 'validation'], loc='upper left')\n",
    "plt.show()"
   ]
  },
  {
   "cell_type": "code",
   "execution_count": 179,
   "metadata": {},
   "outputs": [],
   "source": [
    "plt.plot(hist.history['loss'])\n",
    "plt.plot(hist.history['val_loss'])\n",
    "plt.title('model loss')\n",
    "plt.ylabel('loss')\n",
    "plt.xlabel('epoch')\n",
    "plt.legend(['train', 'test'], loc='upper left')\n",
    "plt.show()"
   ]
  },
  {
   "cell_type": "markdown",
   "metadata": {},
   "source": [
    "# Test and Evaluat"
   ]
  },
  {
   "cell_type": "code",
   "execution_count": 180,
   "metadata": {},
   "outputs": [],
   "source": [
    "Y_pred = model.predict(X_test)\n",
    "Y_pred = np.round(Y_pred.flatten())"
   ]
  },
  {
   "cell_type": "code",
   "execution_count": 181,
   "metadata": {},
   "outputs": [
    {
     "name": "stdout",
     "output_type": "stream",
     "text": [
      "Accuracy: 65.00%\n"
     ]
    }
   ],
   "source": [
    "accuracy = accuracy_score(Y_test, Y_pred)\n",
    "print(\"Accuracy: %.2f%%\" % (round(accuracy*100)))"
   ]
  },
  {
   "cell_type": "code",
   "execution_count": 182,
   "metadata": {},
   "outputs": [
    {
     "name": "stdout",
     "output_type": "stream",
     "text": [
      "              precision    recall  f1-score   support\n",
      "\n",
      "         0.0       0.00      0.00      0.00       301\n",
      "         1.0       0.65      1.00      0.79       570\n",
      "\n",
      "    accuracy                           0.65       871\n",
      "   macro avg       0.33      0.50      0.40       871\n",
      "weighted avg       0.43      0.65      0.52       871\n",
      "\n"
     ]
    },
    {
     "name": "stderr",
     "output_type": "stream",
     "text": [
      "C:\\Users\\Dell\\Anaconda3\\Lib\\site-packages\\sklearn\\metrics\\_classification.py:1272: UndefinedMetricWarning: Precision and F-score are ill-defined and being set to 0.0 in labels with no predicted samples. Use `zero_division` parameter to control this behavior.\n",
      "  _warn_prf(average, modifier, msg_start, len(result))\n"
     ]
    }
   ],
   "source": [
    "print(classification_report(Y_test, Y_pred))"
   ]
  },
  {
   "cell_type": "code",
   "execution_count": 183,
   "metadata": {},
   "outputs": [],
   "source": [
    "def plot_confusion_matrix(cm, classes,title='Confusion matrix'):\n",
    "    plt.figure(figsize=(7,7))\n",
    "    plt.imshow(cm, interpolation='nearest', cmap='binary')\n",
    "    plt.title(title)\n",
    "    plt.colorbar()\n",
    "    tick_marks = np.arange(len(classes))\n",
    "    plt.xticks(tick_marks, classes, rotation=30)\n",
    "    plt.yticks(tick_marks, classes, rotation=30)\n",
    "    \n",
    "    \n",
    "    fmt = 'd'\n",
    "    thresh = cm.max() / 2.\n",
    "    for i, j in itertools.product(range(cm.shape[0]), range(cm.shape[1])):\n",
    "        plt.text(j, i, format(cm[i, j], fmt),\n",
    "                 horizontalalignment=\"center\",\n",
    "                 color=\"white\" if cm[i, j] > thresh else \"black\")\n",
    "\n",
    "    plt.ylabel('Actual Label')\n",
    "    plt.xlabel('Predicted Label')\n",
    "    plt.tight_layout()\n",
    "    plt.show()"
   ]
  },
  {
   "cell_type": "code",
   "execution_count": 184,
   "metadata": {},
   "outputs": [],
   "source": [
    "cm = confusion_matrix(y_pred=Y_pred, y_true=Y_test)"
   ]
  },
  {
   "cell_type": "code",
   "execution_count": 185,
   "metadata": {},
   "outputs": [],
   "source": [
    "cm_plot_labels = ['Positive_Sentiment', 'Negative_Sentiment']"
   ]
  },
  {
   "cell_type": "code",
   "execution_count": 186,
   "metadata": {},
   "outputs": [
    {
     "data": {
      "image/png": "[encoded data removed]",
      "text/plain": [
       "<Figure size 504x504 with 2 Axes>"
      ]
     },
     "metadata": {
      "needs_background": "light"
     },
     "output_type": "display_data"
    }
   ],
   "source": [
    "plot_confusion_matrix(cm,cm_plot_labels)"
   ]
  },
  {
   "cell_type": "code",
   "execution_count": 187,
   "metadata": {},
   "outputs": [
    {
     "data": {
      "text/plain": [
       "4908"
      ]
     },
     "execution_count": 187,
     "metadata": {},
     "output_type": "execute_result"
    }
   ],
   "source": [
    "model_structure = model.to_json()\n",
    "f = Path(\"model/model_structure.json\")\n",
    "f.write_text(model_structure)"
   ]
  },
  {
   "cell_type": "code",
   "execution_count": 188,
   "metadata": {},
   "outputs": [],
   "source": [
    "model.save_weights(\"model/model_weights.h5\")"
   ]
  },
  {
   "cell_type": "markdown",
   "metadata": {},
   "source": [
    "# Bidirectional LSTM"
   ]
  },
  {
   "cell_type": "code",
   "execution_count": 61,
   "metadata": {},
   "outputs": [],
   "source": [
    "from keras.layers import Bidirectional"
   ]
  },
  {
   "cell_type": "code",
   "execution_count": 133,
   "metadata": {},
   "outputs": [],
   "source": [
    "bi_model = Sequential()\n",
    "bi_model.add(Embedding(nb_max_words, embedding_dim, input_length=140))\n",
    "bi_model.add(Dropout(0.2))\n",
    "bi_model.add(Conv1D(32, 5, activation='relu'))\n",
    "bi_model.add(MaxPooling1D(pool_size=2))\n",
    "bi_model.add(Dropout(0.5))\n",
    "bi_model.add(Bidirectional(LSTM(100)))\n",
    "bi_model.add(Dense(1, activation='sigmoid'))"
   ]
  },
  {
   "cell_type": "markdown",
   "metadata": {},
   "source": [
    "# Train Model"
   ]
  },
  {
   "cell_type": "code",
   "execution_count": 134,
   "metadata": {},
   "outputs": [],
   "source": [
    "adam = Adam(lr=0.001,\n",
    "    decay=1e-06\n",
    ")"
   ]
  },
  {
   "cell_type": "code",
   "execution_count": 135,
   "metadata": {},
   "outputs": [],
   "source": [
    "bi_model.compile(\n",
    "    loss='binary_crossentropy',\n",
    "    optimizer=adam,\n",
    "    metrics=['accuracy']\n",
    ")"
   ]
  },
  {
   "cell_type": "code",
   "execution_count": 136,
   "metadata": {},
   "outputs": [
    {
     "name": "stdout",
     "output_type": "stream",
     "text": [
      "Model: \"sequential_7\"\n",
      "_________________________________________________________________\n",
      "Layer (type)                 Output Shape              Param #   \n",
      "=================================================================\n",
      "embedding_7 (Embedding)      (None, 140, 300)          3000000   \n",
      "_________________________________________________________________\n",
      "dropout_20 (Dropout)         (None, 140, 300)          0         \n",
      "_________________________________________________________________\n",
      "conv1d_15 (Conv1D)           (None, 136, 32)           48032     \n",
      "_________________________________________________________________\n",
      "max_pooling1d_15 (MaxPooling (None, 68, 32)            0         \n",
      "_________________________________________________________________\n",
      "dropout_21 (Dropout)         (None, 68, 32)            0         \n",
      "_________________________________________________________________\n",
      "bidirectional_5 (Bidirection (None, 200)               106400    \n",
      "_________________________________________________________________\n",
      "dense_7 (Dense)              (None, 1)                 201       \n",
      "=================================================================\n",
      "Total params: 3,154,633\n",
      "Trainable params: 3,154,633\n",
      "Non-trainable params: 0\n",
      "_________________________________________________________________\n"
     ]
    }
   ],
   "source": [
    "bi_model.summary()"
   ]
  },
  {
   "cell_type": "code",
   "execution_count": 137,
   "metadata": {},
   "outputs": [
    {
     "name": "stdout",
     "output_type": "stream",
     "text": [
      "Train on 3480 samples, validate on 871 samples\n",
      "Epoch 1/4\n",
      "3480/3480 [==============================] - 38s 11ms/step - loss: 0.6505 - acc: 0.6216 - val_loss: 0.5691 - val_acc: 0.7566\n",
      "Epoch 2/4\n",
      "3480/3480 [==============================] - 30s 9ms/step - loss: 0.3643 - acc: 0.8572 - val_loss: 0.2936 - val_acc: 0.8852\n",
      "Epoch 3/4\n",
      "3480/3480 [==============================] - 30s 9ms/step - loss: 0.1596 - acc: 0.9503 - val_loss: 0.2841 - val_acc: 0.8909\n",
      "Epoch 4/4\n",
      "3480/3480 [==============================] - 30s 9ms/step - loss: 0.0831 - acc: 0.9767 - val_loss: 0.3230 - val_acc: 0.8967\n"
     ]
    }
   ],
   "source": [
    "hist = bi_model.fit(\n",
    "    X_train,\n",
    "    Y_train,\n",
    "    validation_data=(X_test, Y_test),\n",
    "    epochs=4,\n",
    "    batch_size=100,\n",
    "    shuffle=True\n",
    ")"
   ]
  },
  {
   "cell_type": "code",
   "execution_count": 138,
   "metadata": {},
   "outputs": [
    {
     "data": {
      "image/png": "[encoded data removed]",
      "text/plain": [
       "<Figure size 432x288 with 1 Axes>"
      ]
     },
     "metadata": {
      "needs_background": "light"
     },
     "output_type": "display_data"
    }
   ],
   "source": [
    "plt.plot(hist.history['acc'])\n",
    "plt.plot(hist.history['val_acc'])\n",
    "plt.title('model accuracy')\n",
    "plt.ylabel('accuracy')\n",
    "plt.xlabel('epoch')\n",
    "plt.legend(['train', 'validation'], loc='upper left')\n",
    "plt.show()"
   ]
  },
  {
   "cell_type": "code",
   "execution_count": 139,
   "metadata": {},
   "outputs": [
    {
     "data": {
      "image/png": "[encoded data removed]",
      "text/plain": [
       "<Figure size 432x288 with 1 Axes>"
      ]
     },
     "metadata": {
      "needs_background": "light"
     },
     "output_type": "display_data"
    }
   ],
   "source": [
    "plt.plot(hist.history['loss'])\n",
    "plt.plot(hist.history['val_loss'])\n",
    "plt.title('model loss')\n",
    "plt.ylabel('loss')\n",
    "plt.xlabel('epoch')\n",
    "plt.legend(['train', 'test'], loc='upper left')\n",
    "plt.show()"
   ]
  },
  {
   "cell_type": "markdown",
   "metadata": {},
   "source": [
    "# Test and Evaluat"
   ]
  },
  {
   "cell_type": "code",
   "execution_count": 166,
   "metadata": {},
   "outputs": [],
   "source": [
    "Y_pred = bi_model.predict(X_test)\n",
    "Y_pred = np.round(Y_pred.flatten())"
   ]
  },
  {
   "cell_type": "code",
   "execution_count": 167,
   "metadata": {},
   "outputs": [
    {
     "name": "stdout",
     "output_type": "stream",
     "text": [
      "Accuracy: 90.00%\n"
     ]
    }
   ],
   "source": [
    "biaccuracy = accuracy_score(Y_test, Y_pred)\n",
    "print(\"Accuracy: %.2f%%\" % (round(biaccuracy*100)))"
   ]
  },
  {
   "cell_type": "code",
   "execution_count": 142,
   "metadata": {},
   "outputs": [
    {
     "name": "stdout",
     "output_type": "stream",
     "text": [
      "              precision    recall  f1-score   support\n",
      "\n",
      "         0.0       0.85      0.86      0.85       301\n",
      "         1.0       0.92      0.92      0.92       570\n",
      "\n",
      "    accuracy                           0.90       871\n",
      "   macro avg       0.88      0.89      0.89       871\n",
      "weighted avg       0.90      0.90      0.90       871\n",
      "\n"
     ]
    }
   ],
   "source": [
    "print(classification_report(Y_test, Y_pred))"
   ]
  },
  {
   "cell_type": "code",
   "execution_count": 143,
   "metadata": {},
   "outputs": [],
   "source": [
    "def plot_confusion_matrix(cm, classes,title='Confusion matrix'):\n",
    "    plt.figure(figsize=(7,7))\n",
    "    plt.imshow(cm, interpolation='nearest', cmap='binary')\n",
    "    plt.title(title)\n",
    "    plt.colorbar()\n",
    "    tick_marks = np.arange(len(classes))\n",
    "    plt.xticks(tick_marks, classes, rotation=30)\n",
    "    plt.yticks(tick_marks, classes, rotation=30)\n",
    "    \n",
    "    \n",
    "    fmt = 'd'\n",
    "    thresh = cm.max() / 2.\n",
    "    for i, j in itertools.product(range(cm.shape[0]), range(cm.shape[1])):\n",
    "        plt.text(j, i, format(cm[i, j], fmt),\n",
    "                 horizontalalignment=\"center\",\n",
    "                 color=\"white\" if cm[i, j] > thresh else \"black\")\n",
    "\n",
    "    plt.ylabel('Actual Label')\n",
    "    plt.xlabel('Predicted Label')\n",
    "    plt.tight_layout()\n",
    "    plt.show()"
   ]
  },
  {
   "cell_type": "code",
   "execution_count": 144,
   "metadata": {},
   "outputs": [],
   "source": [
    "cm = confusion_matrix(y_pred=Y_pred, y_true=Y_test)"
   ]
  },
  {
   "cell_type": "code",
   "execution_count": 145,
   "metadata": {},
   "outputs": [],
   "source": [
    "cm_plot_labels = ['Positive_Sentiment', 'Negative_Sentiment']\n"
   ]
  },
  {
   "cell_type": "code",
   "execution_count": 146,
   "metadata": {},
   "outputs": [
    {
     "data": {
      "image/png": "[encoded data removed]",
      "text/plain": [
       "<Figure size 504x504 with 2 Axes>"
      ]
     },
     "metadata": {
      "needs_background": "light"
     },
     "output_type": "display_data"
    }
   ],
   "source": [
    "\n",
    "plot_confusion_matrix(cm,cm_plot_labels)\n"
   ]
  },
  {
   "cell_type": "code",
   "execution_count": 147,
   "metadata": {},
   "outputs": [
    {
     "data": {
      "text/plain": [
       "4908"
      ]
     },
     "execution_count": 147,
     "metadata": {},
     "output_type": "execute_result"
    }
   ],
   "source": [
    "model_structure = model.to_json()\n",
    "f = Path(\"model/bi_model_structure.json\")\n",
    "f.write_text(model_structure)"
   ]
  },
  {
   "cell_type": "code",
   "execution_count": 148,
   "metadata": {},
   "outputs": [],
   "source": [
    "model.save_weights(\"model/bi_model_weights.h5\")"
   ]
  },
  {
   "cell_type": "code",
   "execution_count": 192,
   "metadata": {},
   "outputs": [],
   "source": [
    "b = round(biaccuracy*100)\n",
    "l = round(accuracy*100)"
   ]
  },
  {
   "cell_type": "code",
   "execution_count": 193,
   "metadata": {},
   "outputs": [],
   "source": [
    "li_x = ['LSTM', 'BiLSTM']\n",
    "li_y = [l, b]"
   ]
  },
  {
   "cell_type": "code",
   "execution_count": 195,
   "metadata": {},
   "outputs": [
    {
     "name": "stdout",
     "output_type": "stream",
     "text": [
      "[65.0, 90.0]\n"
     ]
    },
    {
     "data": {
      "text/plain": [
       "<matplotlib.axes._subplots.AxesSubplot at 0x1ded7643948>"
      ]
     },
     "execution_count": 195,
     "metadata": {},
     "output_type": "execute_result"
    },
    {
     "data": {
      "image/png": "[encoded data removed]",
      "text/plain": [
       "<Figure size 432x288 with 1 Axes>"
      ]
     },
     "metadata": {
      "needs_background": "light"
     },
     "output_type": "display_data"
    }
   ],
   "source": [
    "import seaborn as sns\n",
    "print(li_y)\n",
    "sns.barplot(x=li_x, y=li_y)"
   ]
  },
  {
   "cell_type": "markdown",
   "metadata": {},
   "source": [
    "# Thanks"
   ]
  }
 ],
 "metadata": {
  "kernelspec": {
   "display_name": "Python 3",
   "language": "python",
   "name": "python3"
  },
  "language_info": {
   "codemirror_mode": {
    "name": "ipython",
    "version": 3
   },
   "file_extension": ".py",
   "mimetype": "text/x-python",
   "name": "python",
   "nbconvert_exporter": "python",
   "pygments_lexer": "ipython3",
   "version": "3.7.6"
  }
 },
 "nbformat": 4,
 "nbformat_minor": 2
}
